{
 "cells": [
  {
   "cell_type": "code",
   "execution_count": 1,
   "metadata": {
    "collapsed": false
   },
   "outputs": [
    {
     "name": "stderr",
     "output_type": "stream",
     "text": [
      "ERROR (theano.sandbox.cuda): nvcc compiler not found on $PATH. Check your nvcc installation and try again.\n",
      "ERROR:theano.sandbox.cuda:nvcc compiler not found on $PATH. Check your nvcc installation and try again.\n"
     ]
    }
   ],
   "source": [
    "import numpy as np\n",
    "import pandas as pd\n",
    "import lasagne\n",
    "import theano\n",
    "import theano.tensor as T\n",
    "import random\n",
    "import time\n",
    "import connect_four as cccc\n",
    "import sys\n",
    "#import seaborn\n",
    "import matplotlib.pyplot as plt\n",
    "%matplotlib inline\n",
    "from IPython import display\n"
   ]
  },
  {
   "cell_type": "code",
   "execution_count": 2,
   "metadata": {
    "collapsed": false
   },
   "outputs": [],
   "source": [
    "#initialization\n",
    " \n",
    "nets = []\n",
    "play_nets = []\n",
    "activation = lasagne.nonlinearities.tanh\n",
    "\n",
    "hidden_units = 100\n",
    "net1_in =  lasagne.layers.InputLayer(shape=(None,42))\n",
    "net1_hid = lasagne.layers.DenseLayer(net1_in, num_units = hidden_units, nonlinearity = activation)\n",
    "net1_out = lasagne.layers.DenseLayer(net1_hid, num_units = 1, nonlinearity = activation)\n",
    "test = np.load('TD_cccc_100_1_6million(1).npz')['arr_0']\n",
    "lasagne.layers.set_all_param_values(net1_out,test)\n",
    "nets.append(net1_out)\n",
    "\n",
    "hidden_units = 36\n",
    "num_filters = 10\n",
    "net2_in = lasagne.layers.InputLayer(shape=(None,42))\n",
    "net2_shape = lasagne.layers.ReshapeLayer(net2_in, (-1, 1, 6, 7))\n",
    "net2_conv1 = lasagne.layers.Conv2DLayer(net2_shape, num_filters = num_filters, filter_size = 3,\n",
    "                                         W=lasagne.init.GlorotUniform(), nonlinearity = activation)\n",
    "net2_conv2 = lasagne.layers.Conv2DLayer(net2_conv1, num_filters = num_filters, filter_size = 3,\n",
    "                                             W=lasagne.init.GlorotUniform(), nonlinearity = activation)\n",
    "net2_hid1 = lasagne.layers.DenseLayer(net2_conv2, num_units=hidden_units,W=lasagne.init.GlorotUniform(),\n",
    "                                          nonlinearity = activation)\n",
    "net2_hid2= lasagne.layers.DenseLayer(net2_hid1, num_units=hidden_units,W=lasagne.init.GlorotUniform(),\n",
    "                                              nonlinearity = activation)\n",
    "net2_out = lasagne.layers.DenseLayer(net2_hid2,\n",
    "                                  num_units=1, nonlinearity = activation)\n",
    "test = np.load('TD_cccc_cnn_100k(2).npz')['arr_0']\n",
    "lasagne.layers.set_all_param_values(net2_out,test)\n",
    "#nets.append(net2_out)\n",
    "\n",
    "hidden_units = 36\n",
    "num_filters = 10\n",
    "net3_in = lasagne.layers.InputLayer(shape=(None,42))\n",
    "net3_shape = lasagne.layers.ReshapeLayer(net3_in, (-1, 1, 6, 7))\n",
    "net3_conv1 = lasagne.layers.Conv2DLayer(net3_shape, num_filters = num_filters, filter_size = 3,\n",
    "                                         W=lasagne.init.GlorotUniform(), nonlinearity = activation)\n",
    "net3_conv2 = lasagne.layers.Conv2DLayer(net3_conv1, num_filters = num_filters, filter_size = 3,\n",
    "                                             W=lasagne.init.GlorotUniform(), nonlinearity = activation)\n",
    "net3_hid1 = lasagne.layers.DenseLayer(net3_conv2, num_units=hidden_units,W=lasagne.init.GlorotUniform(),\n",
    "                                          nonlinearity = activation)\n",
    "net3_hid2= lasagne.layers.DenseLayer(net3_hid1, num_units=hidden_units,W=lasagne.init.GlorotUniform(),\n",
    "                                              nonlinearity = activation)\n",
    "net3_out = lasagne.layers.DenseLayer(net3_hid2,\n",
    "                                  num_units=1, nonlinearity = activation)\n",
    "test = np.load('TD_cccc_cnn_1_5_million(3).npz')['arr_0']\n",
    "lasagne.layers.set_all_param_values(net3_out,test)\n",
    "nets.append(net3_out)\n",
    "\n",
    "hidden_units = 100\n",
    "net4_in =  lasagne.layers.InputLayer(shape=(None,42))\n",
    "net4_hid = lasagne.layers.DenseLayer(net4_in, num_units = hidden_units, nonlinearity = activation)\n",
    "net4_out = lasagne.layers.DenseLayer(net4_hid, num_units = 1, nonlinearity = activation)\n",
    "test = np.load('TD_cccc_nn_100_trained17k(4).npz')['arr_0']\n",
    "lasagne.layers.set_all_param_values(net4_out,test)\n",
    "nets.append(net4_out)\n",
    "\n",
    "hidden_units = 16\n",
    "num_filters = 3\n",
    "net5_in = lasagne.layers.InputLayer(shape=(None,42))\n",
    "net5_shape = lasagne.layers.ReshapeLayer(net5_in, (-1, 1, 6, 7))\n",
    "net5_conv1 = lasagne.layers.Conv2DLayer(net5_shape, num_filters = num_filters, filter_size = 4,\n",
    "                                         W=lasagne.init.GlorotUniform(), nonlinearity = activation)\n",
    "net5_hid1 = lasagne.layers.DenseLayer(net5_conv1, num_units=hidden_units,W=lasagne.init.GlorotUniform(),\n",
    "                                          nonlinearity = activation)\n",
    "net5_out = lasagne.layers.DenseLayer(net5_hid1,\n",
    "                                  num_units=1, nonlinearity = activation)\n",
    "test = np.load('TD_cccc_cnn_small(5).npz')['arr_0']\n",
    "lasagne.layers.set_all_param_values(net5_out,test)\n",
    "#nets.append(net5_out)\n",
    "\n",
    "hidden_units = 25\n",
    "num_filters = 8\n",
    "net6_in = lasagne.layers.InputLayer(shape=(None,42))\n",
    "net6_shape = lasagne.layers.ReshapeLayer(net6_in, (-1, 1, 6, 7))\n",
    "net6_conv1 = lasagne.layers.Conv2DLayer(net6_shape, num_filters = num_filters, filter_size = 4,\n",
    "                                         W=lasagne.init.GlorotUniform(), nonlinearity = activation)\n",
    "net6_hid1 = lasagne.layers.DenseLayer(net6_conv1, num_units=hidden_units,W=lasagne.init.GlorotUniform(),\n",
    "                                          nonlinearity = activation)\n",
    "net6_out = lasagne.layers.DenseLayer(net6_hid1,\n",
    "                                  num_units=1, nonlinearity = activation)\n",
    "test = np.load('TD_cccc_cnn4_660k(6).npz')['arr_0']\n",
    "lasagne.layers.set_all_param_values(net6_out,test)\n",
    "nets.append(net6_out)\n",
    "\n",
    "hidden_units = 64\n",
    "net7_in =  lasagne.layers.InputLayer(shape=(None,42))\n",
    "net7_hid = lasagne.layers.DenseLayer(net7_in, num_units = hidden_units, nonlinearity = activation)\n",
    "net7_out = lasagne.layers.DenseLayer(net7_hid, num_units = 1, nonlinearity = activation)\n",
    "test = np.load('TD_cccc_nn_64(7).npz')['arr_0']\n",
    "lasagne.layers.set_all_param_values(net7_out,test)\n",
    "nets.append(net7_out)\n",
    "\n",
    "hidden_units = 50\n",
    "net8_in =  lasagne.layers.InputLayer(shape=(None,42))\n",
    "net8_hid1 = lasagne.layers.DenseLayer(net8_in, num_units = hidden_units, nonlinearity = activation)\n",
    "net8_hid2 = lasagne.layers.DenseLayer(net8_hid1, num_units = hidden_units, nonlinearity = activation)\n",
    "net8_hid3 = lasagne.layers.DenseLayer(net8_hid2, num_units = hidden_units, nonlinearity = activation)\n",
    "net8_hid4 = lasagne.layers.DenseLayer(net8_hid3, num_units = hidden_units, nonlinearity = activation)\n",
    "net8_out = lasagne.layers.DenseLayer(net8_hid4, num_units = 1, nonlinearity = activation)\n",
    "test = np.load('TD_cccc_nn50x4-500k(8).npz')['arr_0']\n",
    "lasagne.layers.set_all_param_values(net8_out,test)\n",
    "nets.append(net8_out)\n",
    "\n",
    "hidden_units = 120\n",
    "net9_in =  lasagne.layers.InputLayer(shape=(None,42))\n",
    "net9_hid = lasagne.layers.DenseLayer(net9_in, num_units = hidden_units, nonlinearity = activation)\n",
    "net9_out = lasagne.layers.DenseLayer(net9_hid, num_units = 1, nonlinearity = activation)\n",
    "test = np.load('TD_cccc_nn120_300k(9).npz')['arr_0']\n",
    "lasagne.layers.set_all_param_values(net9_out,test)\n",
    "#nets.append(net9_out)\n",
    "\n",
    "hidden_units = 100\n",
    "net10_in =  lasagne.layers.InputLayer(shape=(None,42))\n",
    "net10_hid = lasagne.layers.DenseLayer(net10_in, num_units = hidden_units, nonlinearity = activation)\n",
    "net10_out = lasagne.layers.DenseLayer(net10_hid, num_units = 1, nonlinearity = activation)\n",
    "test = np.load('TD_cccc_nn100_144k(really good)(10).npz')['arr_0']\n",
    "lasagne.layers.set_all_param_values(net10_out,test)\n",
    "nets.append(net10_out)\n",
    "\n",
    "hidden_units = 100\n",
    "net11_in =  lasagne.layers.InputLayer(shape=(None,42))\n",
    "net11_hid = lasagne.layers.DenseLayer(net11_in, num_units = hidden_units, nonlinearity = activation)\n",
    "net11_out = lasagne.layers.DenseLayer(net11_hid, num_units = 1, nonlinearity = activation)\n",
    "test = np.load('TD_cccc_n100_100k(11).npz')['arr_0']\n",
    "lasagne.layers.set_all_param_values(net11_out,test)\n",
    "nets.append(net11_out)\n",
    "\n",
    "X_sym = T.matrix()\n",
    "y_sym = T.matrix()\n",
    "outputs = [lasagne.layers.get_output(net, X_sym) for net in nets]\n",
    "value_funs = [theano.function([X_sym],output) for output in outputs]\n"
   ]
  },
  {
   "cell_type": "code",
   "execution_count": null,
   "metadata": {
    "collapsed": false
   },
   "outputs": [],
   "source": [
    "for net in nets:\n",
    "    test = lasagne.layers.get_all_param_values(net)\n",
    "    print sum([test[i].size for i,_ in enumerate(test)])"
   ]
  },
  {
   "cell_type": "code",
   "execution_count": null,
   "metadata": {
    "collapsed": false
   },
   "outputs": [],
   "source": [
    "test = np.load('TD_cccc_n100_100k(11).npz')['arr_0']\n",
    "\n",
    "for item in test:\n",
    "    print item.shape\n",
    "    print item.size\n",
    "    \n",
    "print sum([test[i].size for i,_ in enumerate(test)])"
   ]
  },
  {
   "cell_type": "code",
   "execution_count": 3,
   "metadata": {
    "collapsed": false
   },
   "outputs": [],
   "source": [
    "def value_move(board,active_turn,output_funs,exploration = 0,noise = 0):\n",
    "    X_sym = theano.tensor.matrix()\n",
    "    y_sym = theano.tensor.ivector()\n",
    "    dummy_board = np.copy(board)\n",
    "    options = cccc.available_moves(dummy_board)\n",
    "    \n",
    "    \n",
    "    if exploration > random.random():\n",
    "        move = random.choice(options) \n",
    "    else:\n",
    "        moves = np.zeros(7)\n",
    "        for output_fun in output_funs:\n",
    "            move_values = np.zeros(7)\n",
    "            for choice in options:\n",
    "                dummy_board = active_turn * board[:]\n",
    "                dummy_board[np.where(dummy_board[:,choice]==0)[0][-1],choice] = 1\n",
    "                reshapeable = np.copy(dummy_board)\n",
    "                move_values[choice] = -1 * output_fun(-1* reshapeable.reshape(1,42))+ noise * np.random.random()\n",
    "            available_move_values = np.array([move_values[move] for move in options])\n",
    "\n",
    "            move = options[available_move_values.argmax(-1)]\n",
    "            moves[move] += 1\n",
    "        \n",
    "        move = np.argmax(moves)\n",
    "    return move + 1\n",
    "\n",
    "\n",
    "class nn_ai:\n",
    "    \n",
    "    def __init__(self,output_fun, net = 'value',exploration = 0,noise = 0):\n",
    "        self.output_fun = output_fun\n",
    "        self.exploration = exploration\n",
    "        self.noise = noise\n",
    "        self.net = net\n",
    "    \n",
    "    def make_move(self,board,active_turn):\n",
    "#         if self.net == 'policy':\n",
    "#             move = policy_move(board,active_turn,self.output_fun,self.exploration)\n",
    "        if self.net == 'value':\n",
    "            move = value_move(board,active_turn,self.output_fun,self.exploration,self.noise)\n",
    "        return move\n",
    "    \n",
    "    \n",
    "def alpha_beta_move(board,active_turn,depth,evaluation,alpha = 2):\n",
    "    swap_dict = {1:-1,-1:1}\n",
    "    dummy_board = np.zeros((6,7))\n",
    "    dummy_board[:] = board[:]\n",
    "    options = cccc.available_moves(board)\n",
    "    random.shuffle(options)\n",
    "    if len(options) == 1:\n",
    "        dummy_board[np.where(dummy_board[:,options[0]]==0)[0][-1],options[0]] = active_turn\n",
    "        if cccc.winner(dummy_board):\n",
    "            return (1,options[0]+1)\n",
    "        else:\n",
    "            return (0,options[0]+1)\n",
    "    if depth ==0:\n",
    "        best_value = -2\n",
    "        for x in options:\n",
    "            height = np.where(dummy_board[:,x]==0)[0][-1]\n",
    "            dummy_board[height,x] = active_turn\n",
    "            eval_board = evaluation(dummy_board*active_turn)\n",
    "            if  eval_board > best_value:\n",
    "                best_value = eval_board\n",
    "                candidate_move = x + 1\n",
    "            dummy_board[height,x] = 0\n",
    "        return (best_value, candidate_move)\n",
    "\n",
    "    best_value = -2\n",
    "    candidate_move = None\n",
    "    for x in options:\n",
    "        height = np.where(dummy_board[:,x]==0)[0][-1]\n",
    "        dummy_board[height,x] = active_turn\n",
    "        if cccc.winner(dummy_board):\n",
    "            return (1, x+1)\n",
    "        (opp_value,opp_move) = alpha_beta_move(dummy_board,swap_dict[active_turn],depth-1,evaluation,-best_value)\n",
    "        if -opp_value > best_value:\n",
    "            candidate_move = x+1\n",
    "            best_value = -opp_value\n",
    "        if -opp_value >= alpha:\n",
    "            #print (options, x, best_value, alpha)\n",
    "            break\n",
    "        dummy_board[height,x] = 0\n",
    "\n",
    "    return (best_value, candidate_move)\n",
    "\n",
    "class alpha_beta:\n",
    "    def __init__(self,depth, evaluation = lambda x: 0,noise = 0):\n",
    "        self.depth = depth\n",
    "        self.evaluation = lambda x : evaluation(x) + noise* (random.random()-0.5)\n",
    "    def make_move(self,board,active_turn):\n",
    "        #print (board,active_turn,self.depth)\n",
    "        return alpha_beta_move(board,active_turn,self.depth, self.evaluation)[1]\n",
    "\n",
    "class alpha_beta_meta:\n",
    "    def __init__(self,depth, evaluators,noise = 0):\n",
    "        self.depth = depth\n",
    "        self.noise = noise\n",
    "        self.evaluators = evaluators\n",
    "        \n",
    "    def make_move(self,board,active_turn):\n",
    "        # print [float(thing(np.zeros((6,7)).reshape(1,42))) for thing in self.evaluators]\n",
    "        #print (board,active_turn,self.depth)\n",
    "        moves = []\n",
    "        evaluator_list = []\n",
    "        for evaluate in self.evaluators:\n",
    "            evaluation = lambda x : float(evaluate(x) + self.noise* (random.random()-0.5))\n",
    "            evaluator_list.append(evaluation)\n",
    "            moves.append(alpha_beta_move(board,active_turn,self.depth, evaluation)[1])\n",
    "        return random.choice(np.argwhere(np.bincount(moves) == np.amax(np.bincount(moves))))\n",
    "\n",
    "    \n",
    "def game_over(board):\n",
    "    return cccc.winner(board) or cccc.is_full(board)\n",
    "\n",
    "\n",
    "def monte_carlo(board,hash_,runs = 100,player = 1):\n",
    "    dummy_board = np.copy(board)\n",
    "    if hash_.get(tuple(dummy_board.reshape(42))):\n",
    "        results = hash_.get(tuple(dummy_board.reshape(42)))\n",
    "    else:\n",
    "        results = {'plays':0,'score':0}\n",
    "        hash_[tuple(dummy_board.reshape(42))] = results\n",
    "    while results['plays'] < runs:\n",
    "        dummy_board = np.copy(board)\n",
    "        hash_list = [tuple(dummy_board.reshape(42))]\n",
    "        current_player = player\n",
    "        if game_over(dummy_board):\n",
    "            score = cccc.winner(dummy_board)\n",
    "        while not game_over(dummy_board):\n",
    "            move = random.choice(cccc.available_moves(dummy_board))\n",
    "            dummy_board[np.where(dummy_board[:,move]==0)[0][-1],move] = current_player\n",
    "            if not hash_.get(tuple(dummy_board.reshape(42))):\n",
    "                hash_[tuple(dummy_board.reshape(42))] = {'plays':0, 'score':0}\n",
    "            if hash_[tuple(dummy_board.reshape(42))]['plays'] >= runs:\n",
    "                score = hash_[tuple(dummy_board.reshape(42))]['score'] / float(hash_[tuple(dummy_board.reshape(42))]['plays'])\n",
    "                break\n",
    "            else:\n",
    "                hash_list.append(tuple(dummy_board.reshape(42)))\n",
    "                score = cccc.winner(dummy_board)\n",
    "                current_player *= -1\n",
    "        results['plays'] +=1\n",
    "        results['score'] +=score\n",
    "        for item in hash_list:\n",
    "            hash_[item]['plays']+=1\n",
    "            hash_[item]['score']+=score\n",
    "    return results['score']/float(results['plays'])\n",
    "            \n",
    "            \n",
    "def reshape_function(function):\n",
    "    def return_function(board):\n",
    "        return function(board.reshape(1,42))\n",
    "    return return_function\n",
    "    \n",
    "def monte_carlo_player(hash_={}, runs = 100):\n",
    "    def return_function(board):\n",
    "        return monte_carlo(board, hash_,runs)\n",
    "    return return_function"
   ]
  },
  {
   "cell_type": "code",
   "execution_count": 4,
   "metadata": {
    "collapsed": false
   },
   "outputs": [],
   "source": [
    "players =[]\n",
    "hash_={}\n",
    "players.append(alpha_beta(0, reshape_function(value_funs[3]),noise = 0.1))\n",
    "players.append(alpha_beta(2, reshape_function(value_funs[3]),noise = 0.1))\n",
    "players.append(alpha_beta_meta(2,[reshape_function(value_fun) for value_fun in value_funs],noise = 0.1))\n",
    "players.append(alpha_beta(0))\n",
    "players.append(alpha_beta(2))\n",
    "players.append(alpha_beta(4))\n",
    "players.append(alpha_beta(6))\n",
    "players.append(alpha_beta(0, monte_carlo_player(hash_={}, runs = 25)))\n",
    "players.append(alpha_beta(0, monte_carlo_player(hash_={}, runs = 100)))\n"
   ]
  },
  {
   "cell_type": "code",
   "execution_count": 6,
   "metadata": {
    "collapsed": false
   },
   "outputs": [
    {
     "data": {
      "image/png": "[encoded data removed]",
      "text/plain": [
       "<matplotlib.figure.Figure at 0xc2eb518>"
      ]
     },
     "metadata": {},
     "output_type": "display_data"
    },
    {
     "ename": "KeyboardInterrupt",
     "evalue": "",
     "output_type": "error",
     "traceback": [
      "\u001b[1;31m---------------------------------------------------------------------------\u001b[0m",
      "\u001b[1;31mKeyboardInterrupt\u001b[0m                         Traceback (most recent call last)",
      "\u001b[1;32m<ipython-input-6-ba801d32b456>\u001b[0m in \u001b[0;36m<module>\u001b[1;34m()\u001b[0m\n\u001b[0;32m     10\u001b[0m         \u001b[0mcounter\u001b[0m \u001b[1;33m=\u001b[0m \u001b[1;36m0\u001b[0m\u001b[1;33m\u001b[0m\u001b[0m\n\u001b[0;32m     11\u001b[0m         \u001b[1;32mwhile\u001b[0m \u001b[0mtime\u001b[0m\u001b[1;33m.\u001b[0m\u001b[0mclock\u001b[0m\u001b[1;33m(\u001b[0m\u001b[1;33m)\u001b[0m \u001b[1;33m-\u001b[0m \u001b[0mt0\u001b[0m \u001b[1;33m<\u001b[0m \u001b[1;36m600\u001b[0m \u001b[1;32mand\u001b[0m \u001b[0mcounter\u001b[0m \u001b[1;33m<\u001b[0m\u001b[1;36m999\u001b[0m\u001b[1;33m:\u001b[0m\u001b[1;33m\u001b[0m\u001b[0m\n\u001b[1;32m---> 12\u001b[1;33m             \u001b[0mresult\u001b[0m \u001b[1;33m=\u001b[0m \u001b[0mcccc\u001b[0m\u001b[1;33m.\u001b[0m\u001b[0mplay\u001b[0m\u001b[1;33m(\u001b[0m\u001b[0mplayer_1\u001b[0m\u001b[1;33m,\u001b[0m \u001b[0mplayer_2\u001b[0m\u001b[1;33m)\u001b[0m\u001b[1;33m\u001b[0m\u001b[0m\n\u001b[0m\u001b[0;32m     13\u001b[0m             \u001b[0mcounter\u001b[0m \u001b[1;33m+=\u001b[0m\u001b[1;36m1\u001b[0m\u001b[1;33m\u001b[0m\u001b[0m\n\u001b[0;32m     14\u001b[0m             \u001b[1;32mif\u001b[0m \u001b[0mresult\u001b[0m\u001b[1;33m.\u001b[0m\u001b[0mwinner\u001b[0m \u001b[1;33m==\u001b[0m\u001b[1;36m1\u001b[0m\u001b[1;33m:\u001b[0m\u001b[1;33m\u001b[0m\u001b[0m\n",
      "\u001b[1;32mC:\\Users\\Todd\\Dropbox\\Data Incubator Challenge April\\deep_learning\\Deep-Learning\\Deep-Learning\\connect_four.pyc\u001b[0m in \u001b[0;36mplay\u001b[1;34m(player_1, player_2)\u001b[0m\n\u001b[0;32m    111\u001b[0m             \u001b[1;32mif\u001b[0m \u001b[0mactive_turn\u001b[0m \u001b[1;33m==\u001b[0m \u001b[1;36m1\u001b[0m\u001b[1;33m:\u001b[0m\u001b[1;33m\u001b[0m\u001b[0m\n\u001b[0;32m    112\u001b[0m                 \u001b[0mt0\u001b[0m \u001b[1;33m=\u001b[0m \u001b[0mtime\u001b[0m\u001b[1;33m.\u001b[0m\u001b[0mclock\u001b[0m\u001b[1;33m(\u001b[0m\u001b[1;33m)\u001b[0m\u001b[1;33m\u001b[0m\u001b[0m\n\u001b[1;32m--> 113\u001b[1;33m                 \u001b[0mmove\u001b[0m \u001b[1;33m=\u001b[0m \u001b[0mplayer_1\u001b[0m\u001b[1;33m.\u001b[0m\u001b[0mmake_move\u001b[0m\u001b[1;33m(\u001b[0m\u001b[0mboard\u001b[0m\u001b[1;33m,\u001b[0m\u001b[0mactive_turn\u001b[0m\u001b[1;33m)\u001b[0m\u001b[1;33m\u001b[0m\u001b[0m\n\u001b[0m\u001b[0;32m    114\u001b[0m                 \u001b[0mt1\u001b[0m \u001b[1;33m+=\u001b[0m \u001b[0mtime\u001b[0m\u001b[1;33m.\u001b[0m\u001b[0mclock\u001b[0m\u001b[1;33m(\u001b[0m\u001b[1;33m)\u001b[0m \u001b[1;33m-\u001b[0m \u001b[0mt0\u001b[0m\u001b[1;33m\u001b[0m\u001b[0m\n\u001b[0;32m    115\u001b[0m             \u001b[1;32melif\u001b[0m \u001b[0mactive_turn\u001b[0m \u001b[1;33m==\u001b[0m \u001b[1;33m-\u001b[0m\u001b[1;36m1\u001b[0m\u001b[1;33m:\u001b[0m\u001b[1;33m\u001b[0m\u001b[0m\n",
      "\u001b[1;32m<ipython-input-4-995f69ef7628>\u001b[0m in \u001b[0;36mmake_move\u001b[1;34m(self, board, active_turn)\u001b[0m\n\u001b[0;32m     90\u001b[0m     \u001b[1;32mdef\u001b[0m \u001b[0mmake_move\u001b[0m\u001b[1;33m(\u001b[0m\u001b[0mself\u001b[0m\u001b[1;33m,\u001b[0m\u001b[0mboard\u001b[0m\u001b[1;33m,\u001b[0m\u001b[0mactive_turn\u001b[0m\u001b[1;33m)\u001b[0m\u001b[1;33m:\u001b[0m\u001b[1;33m\u001b[0m\u001b[0m\n\u001b[0;32m     91\u001b[0m         \u001b[1;31m#print (board,active_turn,self.depth)\u001b[0m\u001b[1;33m\u001b[0m\u001b[1;33m\u001b[0m\u001b[0m\n\u001b[1;32m---> 92\u001b[1;33m         \u001b[1;32mreturn\u001b[0m \u001b[0malpha_beta_move\u001b[0m\u001b[1;33m(\u001b[0m\u001b[0mboard\u001b[0m\u001b[1;33m,\u001b[0m\u001b[0mactive_turn\u001b[0m\u001b[1;33m,\u001b[0m\u001b[0mself\u001b[0m\u001b[1;33m.\u001b[0m\u001b[0mdepth\u001b[0m\u001b[1;33m,\u001b[0m \u001b[0mself\u001b[0m\u001b[1;33m.\u001b[0m\u001b[0mevaluation\u001b[0m\u001b[1;33m)\u001b[0m\u001b[1;33m[\u001b[0m\u001b[1;36m1\u001b[0m\u001b[1;33m]\u001b[0m\u001b[1;33m\u001b[0m\u001b[0m\n\u001b[0m\u001b[0;32m     93\u001b[0m \u001b[1;33m\u001b[0m\u001b[0m\n\u001b[0;32m     94\u001b[0m \u001b[1;32mclass\u001b[0m \u001b[0malpha_beta_meta\u001b[0m\u001b[1;33m:\u001b[0m\u001b[1;33m\u001b[0m\u001b[0m\n",
      "\u001b[1;32m<ipython-input-4-995f69ef7628>\u001b[0m in \u001b[0;36malpha_beta_move\u001b[1;34m(board, active_turn, depth, evaluation, alpha)\u001b[0m\n\u001b[0;32m     59\u001b[0m             \u001b[0mheight\u001b[0m \u001b[1;33m=\u001b[0m \u001b[0mnp\u001b[0m\u001b[1;33m.\u001b[0m\u001b[0mwhere\u001b[0m\u001b[1;33m(\u001b[0m\u001b[0mdummy_board\u001b[0m\u001b[1;33m[\u001b[0m\u001b[1;33m:\u001b[0m\u001b[1;33m,\u001b[0m\u001b[0mx\u001b[0m\u001b[1;33m]\u001b[0m\u001b[1;33m==\u001b[0m\u001b[1;36m0\u001b[0m\u001b[1;33m)\u001b[0m\u001b[1;33m[\u001b[0m\u001b[1;36m0\u001b[0m\u001b[1;33m]\u001b[0m\u001b[1;33m[\u001b[0m\u001b[1;33m-\u001b[0m\u001b[1;36m1\u001b[0m\u001b[1;33m]\u001b[0m\u001b[1;33m\u001b[0m\u001b[0m\n\u001b[0;32m     60\u001b[0m             \u001b[0mdummy_board\u001b[0m\u001b[1;33m[\u001b[0m\u001b[0mheight\u001b[0m\u001b[1;33m,\u001b[0m\u001b[0mx\u001b[0m\u001b[1;33m]\u001b[0m \u001b[1;33m=\u001b[0m \u001b[0mactive_turn\u001b[0m\u001b[1;33m\u001b[0m\u001b[0m\n\u001b[1;32m---> 61\u001b[1;33m             \u001b[0meval_board\u001b[0m \u001b[1;33m=\u001b[0m \u001b[0mevaluation\u001b[0m\u001b[1;33m(\u001b[0m\u001b[0mdummy_board\u001b[0m\u001b[1;33m*\u001b[0m\u001b[0mactive_turn\u001b[0m\u001b[1;33m)\u001b[0m\u001b[1;33m\u001b[0m\u001b[0m\n\u001b[0m\u001b[0;32m     62\u001b[0m             \u001b[1;32mif\u001b[0m  \u001b[0meval_board\u001b[0m \u001b[1;33m>\u001b[0m \u001b[0mbest_value\u001b[0m\u001b[1;33m:\u001b[0m\u001b[1;33m\u001b[0m\u001b[0m\n\u001b[0;32m     63\u001b[0m                 \u001b[0mbest_value\u001b[0m \u001b[1;33m=\u001b[0m \u001b[0meval_board\u001b[0m\u001b[1;33m\u001b[0m\u001b[0m\n",
      "\u001b[1;32m<ipython-input-4-995f69ef7628>\u001b[0m in \u001b[0;36m<lambda>\u001b[1;34m(x)\u001b[0m\n\u001b[0;32m     87\u001b[0m     \u001b[1;32mdef\u001b[0m \u001b[0m__init__\u001b[0m\u001b[1;33m(\u001b[0m\u001b[0mself\u001b[0m\u001b[1;33m,\u001b[0m\u001b[0mdepth\u001b[0m\u001b[1;33m,\u001b[0m \u001b[0mevaluation\u001b[0m \u001b[1;33m=\u001b[0m \u001b[1;32mlambda\u001b[0m \u001b[0mx\u001b[0m\u001b[1;33m:\u001b[0m \u001b[1;36m0\u001b[0m\u001b[1;33m,\u001b[0m\u001b[0mnoise\u001b[0m \u001b[1;33m=\u001b[0m \u001b[1;36m0\u001b[0m\u001b[1;33m)\u001b[0m\u001b[1;33m:\u001b[0m\u001b[1;33m\u001b[0m\u001b[0m\n\u001b[0;32m     88\u001b[0m         \u001b[0mself\u001b[0m\u001b[1;33m.\u001b[0m\u001b[0mdepth\u001b[0m \u001b[1;33m=\u001b[0m \u001b[0mdepth\u001b[0m\u001b[1;33m\u001b[0m\u001b[0m\n\u001b[1;32m---> 89\u001b[1;33m         \u001b[0mself\u001b[0m\u001b[1;33m.\u001b[0m\u001b[0mevaluation\u001b[0m \u001b[1;33m=\u001b[0m \u001b[1;32mlambda\u001b[0m \u001b[0mx\u001b[0m \u001b[1;33m:\u001b[0m \u001b[0mevaluation\u001b[0m\u001b[1;33m(\u001b[0m\u001b[0mx\u001b[0m\u001b[1;33m)\u001b[0m \u001b[1;33m+\u001b[0m \u001b[0mnoise\u001b[0m\u001b[1;33m*\u001b[0m \u001b[1;33m(\u001b[0m\u001b[0mrandom\u001b[0m\u001b[1;33m.\u001b[0m\u001b[0mrandom\u001b[0m\u001b[1;33m(\u001b[0m\u001b[1;33m)\u001b[0m\u001b[1;33m-\u001b[0m\u001b[1;36m0.5\u001b[0m\u001b[1;33m)\u001b[0m\u001b[1;33m\u001b[0m\u001b[0m\n\u001b[0m\u001b[0;32m     90\u001b[0m     \u001b[1;32mdef\u001b[0m \u001b[0mmake_move\u001b[0m\u001b[1;33m(\u001b[0m\u001b[0mself\u001b[0m\u001b[1;33m,\u001b[0m\u001b[0mboard\u001b[0m\u001b[1;33m,\u001b[0m\u001b[0mactive_turn\u001b[0m\u001b[1;33m)\u001b[0m\u001b[1;33m:\u001b[0m\u001b[1;33m\u001b[0m\u001b[0m\n\u001b[0;32m     91\u001b[0m         \u001b[1;31m#print (board,active_turn,self.depth)\u001b[0m\u001b[1;33m\u001b[0m\u001b[1;33m\u001b[0m\u001b[0m\n",
      "\u001b[1;32m<ipython-input-4-995f69ef7628>\u001b[0m in \u001b[0;36mreturn_function\u001b[1;34m(board)\u001b[0m\n\u001b[0;32m    154\u001b[0m \u001b[1;32mdef\u001b[0m \u001b[0mmonte_carlo_player\u001b[0m\u001b[1;33m(\u001b[0m\u001b[0mhash_\u001b[0m\u001b[1;33m=\u001b[0m\u001b[1;33m{\u001b[0m\u001b[1;33m}\u001b[0m\u001b[1;33m,\u001b[0m \u001b[0mruns\u001b[0m \u001b[1;33m=\u001b[0m \u001b[1;36m100\u001b[0m\u001b[1;33m)\u001b[0m\u001b[1;33m:\u001b[0m\u001b[1;33m\u001b[0m\u001b[0m\n\u001b[0;32m    155\u001b[0m     \u001b[1;32mdef\u001b[0m \u001b[0mreturn_function\u001b[0m\u001b[1;33m(\u001b[0m\u001b[0mboard\u001b[0m\u001b[1;33m)\u001b[0m\u001b[1;33m:\u001b[0m\u001b[1;33m\u001b[0m\u001b[0m\n\u001b[1;32m--> 156\u001b[1;33m         \u001b[1;32mreturn\u001b[0m \u001b[0mmonte_carlo\u001b[0m\u001b[1;33m(\u001b[0m\u001b[0mboard\u001b[0m\u001b[1;33m,\u001b[0m \u001b[0mhash_\u001b[0m\u001b[1;33m,\u001b[0m\u001b[0mruns\u001b[0m\u001b[1;33m)\u001b[0m\u001b[1;33m\u001b[0m\u001b[0m\n\u001b[0m\u001b[0;32m    157\u001b[0m     \u001b[1;32mreturn\u001b[0m \u001b[0mreturn_function\u001b[0m\u001b[1;33m\u001b[0m\u001b[0m\n",
      "\u001b[1;32m<ipython-input-4-995f69ef7628>\u001b[0m in \u001b[0;36mmonte_carlo\u001b[1;34m(board, hash_, runs, player)\u001b[0m\n\u001b[0;32m    127\u001b[0m         \u001b[1;32mif\u001b[0m \u001b[0mgame_over\u001b[0m\u001b[1;33m(\u001b[0m\u001b[0mdummy_board\u001b[0m\u001b[1;33m)\u001b[0m\u001b[1;33m:\u001b[0m\u001b[1;33m\u001b[0m\u001b[0m\n\u001b[0;32m    128\u001b[0m             \u001b[0mscore\u001b[0m \u001b[1;33m=\u001b[0m \u001b[0mcccc\u001b[0m\u001b[1;33m.\u001b[0m\u001b[0mwinner\u001b[0m\u001b[1;33m(\u001b[0m\u001b[0mdummy_board\u001b[0m\u001b[1;33m)\u001b[0m\u001b[1;33m\u001b[0m\u001b[0m\n\u001b[1;32m--> 129\u001b[1;33m         \u001b[1;32mwhile\u001b[0m \u001b[1;32mnot\u001b[0m \u001b[0mgame_over\u001b[0m\u001b[1;33m(\u001b[0m\u001b[0mdummy_board\u001b[0m\u001b[1;33m)\u001b[0m\u001b[1;33m:\u001b[0m\u001b[1;33m\u001b[0m\u001b[0m\n\u001b[0m\u001b[0;32m    130\u001b[0m             \u001b[0mmove\u001b[0m \u001b[1;33m=\u001b[0m \u001b[0mrandom\u001b[0m\u001b[1;33m.\u001b[0m\u001b[0mchoice\u001b[0m\u001b[1;33m(\u001b[0m\u001b[0mcccc\u001b[0m\u001b[1;33m.\u001b[0m\u001b[0mavailable_moves\u001b[0m\u001b[1;33m(\u001b[0m\u001b[0mdummy_board\u001b[0m\u001b[1;33m)\u001b[0m\u001b[1;33m)\u001b[0m\u001b[1;33m\u001b[0m\u001b[0m\n\u001b[0;32m    131\u001b[0m             \u001b[0mdummy_board\u001b[0m\u001b[1;33m[\u001b[0m\u001b[0mnp\u001b[0m\u001b[1;33m.\u001b[0m\u001b[0mwhere\u001b[0m\u001b[1;33m(\u001b[0m\u001b[0mdummy_board\u001b[0m\u001b[1;33m[\u001b[0m\u001b[1;33m:\u001b[0m\u001b[1;33m,\u001b[0m\u001b[0mmove\u001b[0m\u001b[1;33m]\u001b[0m\u001b[1;33m==\u001b[0m\u001b[1;36m0\u001b[0m\u001b[1;33m)\u001b[0m\u001b[1;33m[\u001b[0m\u001b[1;36m0\u001b[0m\u001b[1;33m]\u001b[0m\u001b[1;33m[\u001b[0m\u001b[1;33m-\u001b[0m\u001b[1;36m1\u001b[0m\u001b[1;33m]\u001b[0m\u001b[1;33m,\u001b[0m\u001b[0mmove\u001b[0m\u001b[1;33m]\u001b[0m \u001b[1;33m=\u001b[0m \u001b[0mcurrent_player\u001b[0m\u001b[1;33m\u001b[0m\u001b[0m\n",
      "\u001b[1;32m<ipython-input-4-995f69ef7628>\u001b[0m in \u001b[0;36mgame_over\u001b[1;34m(board)\u001b[0m\n\u001b[0;32m    111\u001b[0m \u001b[1;33m\u001b[0m\u001b[0m\n\u001b[0;32m    112\u001b[0m \u001b[1;32mdef\u001b[0m \u001b[0mgame_over\u001b[0m\u001b[1;33m(\u001b[0m\u001b[0mboard\u001b[0m\u001b[1;33m)\u001b[0m\u001b[1;33m:\u001b[0m\u001b[1;33m\u001b[0m\u001b[0m\n\u001b[1;32m--> 113\u001b[1;33m     \u001b[1;32mreturn\u001b[0m \u001b[0mcccc\u001b[0m\u001b[1;33m.\u001b[0m\u001b[0mwinner\u001b[0m\u001b[1;33m(\u001b[0m\u001b[0mboard\u001b[0m\u001b[1;33m)\u001b[0m \u001b[1;32mor\u001b[0m \u001b[0mcccc\u001b[0m\u001b[1;33m.\u001b[0m\u001b[0mis_full\u001b[0m\u001b[1;33m(\u001b[0m\u001b[0mboard\u001b[0m\u001b[1;33m)\u001b[0m\u001b[1;33m\u001b[0m\u001b[0m\n\u001b[0m\u001b[0;32m    114\u001b[0m \u001b[1;33m\u001b[0m\u001b[0m\n\u001b[0;32m    115\u001b[0m \u001b[1;33m\u001b[0m\u001b[0m\n",
      "\u001b[1;32mC:\\Users\\Todd\\Dropbox\\Data Incubator Challenge April\\deep_learning\\Deep-Learning\\Deep-Learning\\connect_four.pyc\u001b[0m in \u001b[0;36mwinner\u001b[1;34m(board)\u001b[0m\n\u001b[0;32m     32\u001b[0m     \u001b[0mresult\u001b[0m \u001b[1;33m=\u001b[0m \u001b[1;36m0\u001b[0m\u001b[1;33m\u001b[0m\u001b[0m\n\u001b[0;32m     33\u001b[0m     \u001b[1;32mfor\u001b[0m \u001b[0mitem\u001b[0m \u001b[1;32min\u001b[0m \u001b[0mpossible_wins\u001b[0m\u001b[1;33m:\u001b[0m\u001b[1;33m\u001b[0m\u001b[0m\n\u001b[1;32m---> 34\u001b[1;33m         \u001b[1;32mif\u001b[0m \u001b[0mlen\u001b[0m\u001b[1;33m(\u001b[0m\u001b[0mset\u001b[0m\u001b[1;33m(\u001b[0m\u001b[0mitem\u001b[0m\u001b[1;33m)\u001b[0m\u001b[1;33m)\u001b[0m \u001b[1;33m==\u001b[0m \u001b[1;36m1\u001b[0m \u001b[1;32mand\u001b[0m \u001b[0mitem\u001b[0m\u001b[1;33m[\u001b[0m\u001b[1;36m0\u001b[0m\u001b[1;33m]\u001b[0m \u001b[1;33m!=\u001b[0m \u001b[1;36m0\u001b[0m\u001b[1;33m:\u001b[0m\u001b[1;33m\u001b[0m\u001b[0m\n\u001b[0m\u001b[0;32m     35\u001b[0m             \u001b[0mresult\u001b[0m \u001b[1;33m=\u001b[0m \u001b[0mitem\u001b[0m\u001b[1;33m[\u001b[0m\u001b[1;36m0\u001b[0m\u001b[1;33m]\u001b[0m\u001b[1;33m\u001b[0m\u001b[0m\n\u001b[0;32m     36\u001b[0m             \u001b[1;32mbreak\u001b[0m\u001b[1;33m\u001b[0m\u001b[0m\n",
      "\u001b[1;31mKeyboardInterrupt\u001b[0m: "
     ]
    },
    {
     "data": {
      "image/png": "[encoded data removed]",
      "text/plain": [
       "<matplotlib.figure.Figure at 0xc2eb518>"
      ]
     },
     "metadata": {},
     "output_type": "display_data"
    }
   ],
   "source": [
    "wins = np.zeros((len(players), len(players)))\n",
    "ties= np.zeros((len(players), len(players)))\n",
    "losses = np.zeros((len(players), len(players)))\n",
    "score = np.zeros((len(players), len(players)))\n",
    "p1_time = np.zeros((len(players), len(players)))\n",
    "p2_time =  np.zeros((len(players), len(players)))\n",
    "# for i, player_1 in enumerate(players):\n",
    "for i in range(8,9)\n",
    "    player_1 = players[i]\n",
    "#     for j, player_2 in enumerate(players):\n",
    "    for j in range(4,9):\n",
    "        player_2 = players[j]\n",
    "        t0 = time.clock()\n",
    "        counter = 0\n",
    "        while time.clock() - t0 < 600 and counter <999:\n",
    "            result = cccc.play(player_1, player_2)\n",
    "            counter +=1\n",
    "            if result.winner ==1:\n",
    "                wins[i,j] +=1\n",
    "            if result.winner == 0:\n",
    "                ties[i,j] +=1\n",
    "            if result.winner == -1:\n",
    "                losses[i,j] +=1\n",
    "            p1_time[i,j] += result.p1_time\n",
    "            p2_time[i,j] += result.p2_time\n",
    "            score[i,j] = (wins[i,j] - losses[i,j])/ float(wins[i,j] + ties[i,j] + losses[i,j])\n",
    "            sys.stdout.write('\\r score is {:3d} - {:3d} - {:3d}, player 1 time {:3.2f}s, player 2 time {:3.2f}s'.format(\n",
    "                    int(wins[i,j]),int(ties[i,j]),int(losses[i,j]),p1_time[i,j], p2_time[i,j]))\n",
    "            sys.stdout.flush()\n",
    "#        plt.title('{:3.2f}s  {:3d}'.format(time.clock() - t0,counter))\n",
    "        plt.imshow(score, interpolation = 'nearest', cmap = 'bwr_r', vmin = -1, vmax = 1)\n",
    "        display.clear_output(wait=True)\n",
    "        display.display(plt.gcf())\n",
    "        "
   ]
  },
  {
   "cell_type": "code",
   "execution_count": 7,
   "metadata": {
    "collapsed": true
   },
   "outputs": [],
   "source": [
    "np.savez('short_tourney_data',[wins,ties,losses,score, p1_time, p2_time])"
   ]
  },
  {
   "cell_type": "code",
   "execution_count": 18,
   "metadata": {
    "collapsed": false
   },
   "outputs": [
    {
     "name": "stdout",
     "output_type": "stream",
     "text": [
      "[[  4.50e+00   2.19e+02   5.95e+02   4.00e-01   5.07e+01   5.90e+02\n",
      "    6.02e+02   5.62e+02   3.78e+01]\n",
      " [  3.10e+00   2.22e+02   5.26e+02   4.00e-01   4.65e+01   4.62e+02\n",
      "    5.86e+02   2.19e+02   4.27e+02]\n",
      " [  1.70e+00   6.64e+01   2.92e+02   3.00e-01   2.24e+01   1.84e+02\n",
      "    4.97e+02   1.48e+02   3.41e+02]\n",
      " [  2.90e+00   1.24e+02   5.98e+02   9.00e-01   5.04e+01   5.67e+02\n",
      "    6.07e+02   5.99e+02   6.06e+02]\n",
      " [  4.30e+00   1.93e+02   5.73e+02   7.00e-01   6.91e+01   5.46e+02\n",
      "    5.95e+02   5.88e+02   6.14e+02]\n",
      " [  4.30e+00   1.28e+02   4.08e+02   7.00e-01   4.67e+01   2.94e+02\n",
      "    5.47e+02   4.82e+02   5.91e+02]\n",
      " [  4.00e-01   1.60e+01   1.08e+02   1.00e-01   4.80e+00   4.97e+01\n",
      "    3.02e+02   1.72e+02   3.94e+02]\n",
      " [  2.70e+00   1.94e+02   5.66e+02   3.00e-01   1.46e+01   1.38e+02\n",
      "    4.68e+02   1.10e+01   1.18e+01]\n",
      " [  3.50e+00   8.29e+01   3.66e+02   1.00e-01   0.00e+00   0.00e+00\n",
      "    0.00e+00   0.00e+00   0.00e+00]]\n"
     ]
    }
   ],
   "source": [
    "np.set_printoptions(precision=2)\n",
    "print np.round(p2_time,1)"
   ]
  },
  {
   "cell_type": "code",
   "execution_count": 6,
   "metadata": {
    "collapsed": true
   },
   "outputs": [],
   "source": [
    "test=np.load('short_tourney_data.npz')\n",
    "(wins,ties,losses,score,p1_time,p2_time) =test['arr_0']\n"
   ]
  },
  {
   "cell_type": "code",
   "execution_count": 10,
   "metadata": {
    "collapsed": false
   },
   "outputs": [
    {
     "data": {
      "text/plain": [
       "array([[ 999.,  999.,  526.,  999.,  999.,  790.,   73.,  999.,  999.],\n",
       "       [ 999.,  999.,  353.,  999.,  999.,  588.,   69.,  999.,  888.],\n",
       "       [ 555.,  302.,  165.,  765.,  437.,  248.,   67.,  401.,  229.],\n",
       "       [ 999.,  999.,  685.,  999.,  999.,  999.,   98.,  288.,   65.],\n",
       "       [ 999.,  999.,  391.,  999.,  999.,  731.,   74.,  206.,   45.],\n",
       "       [ 930.,  590.,  252.,  999.,  773.,  348.,   64.,  169.,   28.],\n",
       "       [  92.,   73.,   68.,  110.,   81.,   63.,   32.,   56.,   29.],\n",
       "       [ 999.,  999.,  428.,  555.,  276.,  199.,   60.,  999.,  999.],\n",
       "       [ 999.,  514.,  281.,  131.,    0.,    0.,    0.,    0.,    0.]])"
      ]
     },
     "execution_count": 10,
     "metadata": {},
     "output_type": "execute_result"
    }
   ],
   "source": [
    "wins+losses+ties"
   ]
  },
  {
   "cell_type": "code",
   "execution_count": 20,
   "metadata": {
    "collapsed": false
   },
   "outputs": [
    {
     "name": "stdout",
     "output_type": "stream",
     "text": [
      "[[ 69.  11.   1.  98.  62.   7.   1.   0.   0.]\n",
      " [ 86.   3.   3.  99.  55.   7.   2.  67.   1.]\n",
      " [ 11.   2.   2.  24.  12.   6.   1.   2.   1.]\n",
      " [  3.   1.   0.  56.  12.   0.   0.   0.   0.]\n",
      " [ 64.   2.   1.  94.  45.   2.   1.   1.   0.]\n",
      " [ 21.   2.   1.  35.  19.   4.   0.   1.   0.]\n",
      " [  1.   0.   0.   5.   1.   0.   1.   0.   1.]\n",
      " [  5.   1.   0.   4.   3.   2.   1.   1.   1.]\n",
      " [  1.   0.   0.   1.   1.   1.   1.   0.   0.]] [[ 0.4040404  -0.7012987  -0.84615385  0.97979798  0.28282828 -0.25\n",
      "  -0.33333333 -1.         -1.        ]\n",
      " [ 0.91111111 -0.64516129 -0.11111111  1.          0.828125    0.14285714\n",
      "   1.          1.          1.        ]\n",
      " [ 0.91666667 -0.14285714  0.          1.          1.          0.85714286\n",
      "   0.5         1.          1.        ]\n",
      " [-0.93939394 -0.97979798 -1.          0.13131313 -0.75757576 -0.96       -1.\n",
      "  -1.         -1.        ]\n",
      " [ 0.3030303  -0.89090909 -0.75        0.8989899   0.06060606 -0.75\n",
      "  -0.33333333  1.         -1.        ]\n",
      " [ 0.55555556 -0.61111111 -0.42857143  0.89189189  0.69565217  0.          0.\n",
      "   1.         -1.        ]\n",
      " [ 0.         -1.          0.          1.          0.         -0.5         0.5\n",
      "  -1.          1.        ]\n",
      " [ 1.          1.          0.          1.          1.          1.          1.\n",
      "   1.          1.        ]\n",
      " [ 1.         -1.         -1.          1.          1.          1.          1.\n",
      "  -1.         -1.        ]]\n"
     ]
    }
   ],
   "source": [
    "print test['arr_0'][0], test['arr_0'][3]"
   ]
  },
  {
   "cell_type": "code",
   "execution_count": 29,
   "metadata": {
    "collapsed": false
   },
   "outputs": [
    {
     "name": "stdout",
     "output_type": "stream",
     "text": [
      " \n",
      " \n",
      " score is   4 -   0 -   6, time taken by player 1 - 361.531s, time taken by player 2 - 9.555s"
     ]
    }
   ],
   "source": [
    "t0 = time.clock()\n",
    "hash_ = {}\n",
    "def play_value_fun(board):\n",
    "    return value_fun(board.reshape(1,42))\n",
    "#player_1 = alpha_beta(4)\n",
    "\n",
    "player_1 = players[6]\n",
    "player_2 = players[1]\n",
    "#player_1 = alpha_beta_meta(2,  [reshape_function(value_fun) for value_fun in value_funs],noise = 0.)\n",
    "\n",
    "# player_1 = nn_ai([value_fun])\n",
    "#player_1 = alpha_beta(0,lambda x: monte_carlo(x,hash_, runs =100))\n",
    "t1=0\n",
    "t2=0\n",
    "print ' '\n",
    "print ' '\n",
    "test_result = {'wins':0,'ties':0,'losses':0}\n",
    "for j in range(10):\n",
    "    result = cccc.play(player_1,player_2)\n",
    "    if result.winner ==1:\n",
    "        test_result['wins'] +=1\n",
    "    if result.winner == 0:\n",
    "        test_result['ties'] +=1\n",
    "    if result.winner == -1:\n",
    "        test_result['losses'] +=1\n",
    "\n",
    "    t1 += result.p1_time\n",
    "    t2 += result.p2_time\n",
    "\n",
    "    sys.stdout.write('\\r score is {:3d} - {:3d} - {:3d}, time taken by player 1 - {:2.3f}s, time taken by player 2 - {:2.3f}s'.format(test_result['wins'],\n",
    "                                                       test_result['ties'],test_result['losses'],t1,t2 ))\n",
    "    sys.stdout.flush()\n",
    "\n"
   ]
  },
  {
   "cell_type": "code",
   "execution_count": 26,
   "metadata": {
    "collapsed": false
   },
   "outputs": [
    {
     "name": "stdout",
     "output_type": "stream",
     "text": [
      "[4, 5, 3, 3, 4, 4, 2, 1, 2, 3, 2, 2, 3, 1, 1, 1, 1, 5, 4, 4, 2, 4, 2, 3, 3, 1, 6, 6, 6, 6, 6, 6, 7, 7, 7, 7, 5, 5, 7, 7, 5, 5] -1.0\n"
     ]
    }
   ],
   "source": [
    "player_1 = players[6]\n",
    "player_2 = players[1]\n",
    "result = cccc.play(player_1,player_2)\n",
    "print result.log, result.winner"
   ]
  },
  {
   "cell_type": "code",
   "execution_count": 27,
   "metadata": {
    "collapsed": false
   },
   "outputs": [
    {
     "name": "stdout",
     "output_type": "stream",
     "text": [
      "[4, 5, 3, 3, 4, 4, 2, 1, 2, 3, 2, 2, 3, 1, 1, 1, 1, 5, 4, 4, 2, 4, 2, 3, 3, 1, 6, 6, 6, 6, 6, 6, 7, 7, 7, 7, 5, 5, 5, 7, 5, 7] 0\n"
     ]
    }
   ],
   "source": [
    "player_1 = players[1]\n",
    "player_2 = players[1]\n",
    "result = cccc.play(player_1,player_2)\n",
    "print result.log, result.winner"
   ]
  },
  {
   "cell_type": "code",
   "execution_count": 22,
   "metadata": {
    "collapsed": false
   },
   "outputs": [
    {
     "name": "stdout",
     "output_type": "stream",
     "text": [
      " \n",
      " \n",
      " score is   4 -   1 -   0, time taken by player 1 - 17.883s, time taken by player 2 - 0.685s"
     ]
    },
    {
     "ename": "KeyboardInterrupt",
     "evalue": "",
     "output_type": "error",
     "traceback": [
      "\u001b[1;31m---------------------------------------------------------------------------\u001b[0m",
      "\u001b[1;31mKeyboardInterrupt\u001b[0m                         Traceback (most recent call last)",
      "\u001b[1;32m<ipython-input-22-57a903f3cfde>\u001b[0m in \u001b[0;36m<module>\u001b[1;34m()\u001b[0m\n\u001b[0;32m     12\u001b[0m \u001b[0mtest_result\u001b[0m \u001b[1;33m=\u001b[0m \u001b[1;33m{\u001b[0m\u001b[1;34m'wins'\u001b[0m\u001b[1;33m:\u001b[0m\u001b[1;36m0\u001b[0m\u001b[1;33m,\u001b[0m\u001b[1;34m'ties'\u001b[0m\u001b[1;33m:\u001b[0m\u001b[1;36m0\u001b[0m\u001b[1;33m,\u001b[0m\u001b[1;34m'losses'\u001b[0m\u001b[1;33m:\u001b[0m\u001b[1;36m0\u001b[0m\u001b[1;33m}\u001b[0m\u001b[1;33m\u001b[0m\u001b[0m\n\u001b[0;32m     13\u001b[0m \u001b[1;32mfor\u001b[0m \u001b[0mj\u001b[0m \u001b[1;32min\u001b[0m \u001b[0mrange\u001b[0m\u001b[1;33m(\u001b[0m\u001b[1;36m1000\u001b[0m\u001b[1;33m)\u001b[0m\u001b[1;33m:\u001b[0m\u001b[1;33m\u001b[0m\u001b[0m\n\u001b[1;32m---> 14\u001b[1;33m     \u001b[0mresult\u001b[0m \u001b[1;33m=\u001b[0m \u001b[0mcccc\u001b[0m\u001b[1;33m.\u001b[0m\u001b[0mplay\u001b[0m\u001b[1;33m(\u001b[0m\u001b[0mplayer_1\u001b[0m\u001b[1;33m,\u001b[0m\u001b[0mplayer_2\u001b[0m\u001b[1;33m)\u001b[0m\u001b[1;33m\u001b[0m\u001b[0m\n\u001b[0m\u001b[0;32m     15\u001b[0m     \u001b[1;32mif\u001b[0m \u001b[0mresult\u001b[0m\u001b[1;33m.\u001b[0m\u001b[0mwinner\u001b[0m \u001b[1;33m==\u001b[0m\u001b[1;36m1\u001b[0m\u001b[1;33m:\u001b[0m\u001b[1;33m\u001b[0m\u001b[0m\n\u001b[0;32m     16\u001b[0m         \u001b[0mtest_result\u001b[0m\u001b[1;33m[\u001b[0m\u001b[1;34m'wins'\u001b[0m\u001b[1;33m]\u001b[0m \u001b[1;33m+=\u001b[0m\u001b[1;36m1\u001b[0m\u001b[1;33m\u001b[0m\u001b[0m\n",
      "\u001b[1;32mC:\\Users\\Todd\\Dropbox\\Data Incubator Challenge April\\deep_learning\\Deep-Learning\\Deep-Learning\\connect_four.pyc\u001b[0m in \u001b[0;36mplay\u001b[1;34m(player_1, player_2)\u001b[0m\n\u001b[0;32m    111\u001b[0m             \u001b[1;32mif\u001b[0m \u001b[0mactive_turn\u001b[0m \u001b[1;33m==\u001b[0m \u001b[1;36m1\u001b[0m\u001b[1;33m:\u001b[0m\u001b[1;33m\u001b[0m\u001b[0m\n\u001b[0;32m    112\u001b[0m                 \u001b[0mt0\u001b[0m \u001b[1;33m=\u001b[0m \u001b[0mtime\u001b[0m\u001b[1;33m.\u001b[0m\u001b[0mclock\u001b[0m\u001b[1;33m(\u001b[0m\u001b[1;33m)\u001b[0m\u001b[1;33m\u001b[0m\u001b[0m\n\u001b[1;32m--> 113\u001b[1;33m                 \u001b[0mmove\u001b[0m \u001b[1;33m=\u001b[0m \u001b[0mplayer_1\u001b[0m\u001b[1;33m.\u001b[0m\u001b[0mmake_move\u001b[0m\u001b[1;33m(\u001b[0m\u001b[0mboard\u001b[0m\u001b[1;33m,\u001b[0m\u001b[0mactive_turn\u001b[0m\u001b[1;33m)\u001b[0m\u001b[1;33m\u001b[0m\u001b[0m\n\u001b[0m\u001b[0;32m    114\u001b[0m                 \u001b[0mt1\u001b[0m \u001b[1;33m+=\u001b[0m \u001b[0mtime\u001b[0m\u001b[1;33m.\u001b[0m\u001b[0mclock\u001b[0m\u001b[1;33m(\u001b[0m\u001b[1;33m)\u001b[0m \u001b[1;33m-\u001b[0m \u001b[0mt0\u001b[0m\u001b[1;33m\u001b[0m\u001b[0m\n\u001b[0;32m    115\u001b[0m             \u001b[1;32melif\u001b[0m \u001b[0mactive_turn\u001b[0m \u001b[1;33m==\u001b[0m \u001b[1;33m-\u001b[0m\u001b[1;36m1\u001b[0m\u001b[1;33m:\u001b[0m\u001b[1;33m\u001b[0m\u001b[0m\n",
      "\u001b[1;32m<ipython-input-5-995f69ef7628>\u001b[0m in \u001b[0;36mmake_move\u001b[1;34m(self, board, active_turn)\u001b[0m\n\u001b[0;32m    106\u001b[0m             \u001b[0mevaluation\u001b[0m \u001b[1;33m=\u001b[0m \u001b[1;32mlambda\u001b[0m \u001b[0mx\u001b[0m \u001b[1;33m:\u001b[0m \u001b[0mfloat\u001b[0m\u001b[1;33m(\u001b[0m\u001b[0mevaluate\u001b[0m\u001b[1;33m(\u001b[0m\u001b[0mx\u001b[0m\u001b[1;33m)\u001b[0m \u001b[1;33m+\u001b[0m \u001b[0mself\u001b[0m\u001b[1;33m.\u001b[0m\u001b[0mnoise\u001b[0m\u001b[1;33m*\u001b[0m \u001b[1;33m(\u001b[0m\u001b[0mrandom\u001b[0m\u001b[1;33m.\u001b[0m\u001b[0mrandom\u001b[0m\u001b[1;33m(\u001b[0m\u001b[1;33m)\u001b[0m\u001b[1;33m-\u001b[0m\u001b[1;36m0.5\u001b[0m\u001b[1;33m)\u001b[0m\u001b[1;33m)\u001b[0m\u001b[1;33m\u001b[0m\u001b[0m\n\u001b[0;32m    107\u001b[0m             \u001b[0mevaluator_list\u001b[0m\u001b[1;33m.\u001b[0m\u001b[0mappend\u001b[0m\u001b[1;33m(\u001b[0m\u001b[0mevaluation\u001b[0m\u001b[1;33m)\u001b[0m\u001b[1;33m\u001b[0m\u001b[0m\n\u001b[1;32m--> 108\u001b[1;33m             \u001b[0mmoves\u001b[0m\u001b[1;33m.\u001b[0m\u001b[0mappend\u001b[0m\u001b[1;33m(\u001b[0m\u001b[0malpha_beta_move\u001b[0m\u001b[1;33m(\u001b[0m\u001b[0mboard\u001b[0m\u001b[1;33m,\u001b[0m\u001b[0mactive_turn\u001b[0m\u001b[1;33m,\u001b[0m\u001b[0mself\u001b[0m\u001b[1;33m.\u001b[0m\u001b[0mdepth\u001b[0m\u001b[1;33m,\u001b[0m \u001b[0mevaluation\u001b[0m\u001b[1;33m)\u001b[0m\u001b[1;33m[\u001b[0m\u001b[1;36m1\u001b[0m\u001b[1;33m]\u001b[0m\u001b[1;33m)\u001b[0m\u001b[1;33m\u001b[0m\u001b[0m\n\u001b[0m\u001b[0;32m    109\u001b[0m         \u001b[1;32mreturn\u001b[0m \u001b[0mrandom\u001b[0m\u001b[1;33m.\u001b[0m\u001b[0mchoice\u001b[0m\u001b[1;33m(\u001b[0m\u001b[0mnp\u001b[0m\u001b[1;33m.\u001b[0m\u001b[0margwhere\u001b[0m\u001b[1;33m(\u001b[0m\u001b[0mnp\u001b[0m\u001b[1;33m.\u001b[0m\u001b[0mbincount\u001b[0m\u001b[1;33m(\u001b[0m\u001b[0mmoves\u001b[0m\u001b[1;33m)\u001b[0m \u001b[1;33m==\u001b[0m \u001b[0mnp\u001b[0m\u001b[1;33m.\u001b[0m\u001b[0mamax\u001b[0m\u001b[1;33m(\u001b[0m\u001b[0mnp\u001b[0m\u001b[1;33m.\u001b[0m\u001b[0mbincount\u001b[0m\u001b[1;33m(\u001b[0m\u001b[0mmoves\u001b[0m\u001b[1;33m)\u001b[0m\u001b[1;33m)\u001b[0m\u001b[1;33m)\u001b[0m\u001b[1;33m)\u001b[0m\u001b[1;33m\u001b[0m\u001b[0m\n\u001b[0;32m    110\u001b[0m \u001b[1;33m\u001b[0m\u001b[0m\n",
      "\u001b[1;32m<ipython-input-5-995f69ef7628>\u001b[0m in \u001b[0;36malpha_beta_move\u001b[1;34m(board, active_turn, depth, evaluation, alpha)\u001b[0m\n\u001b[0;32m     73\u001b[0m         \u001b[1;32mif\u001b[0m \u001b[0mcccc\u001b[0m\u001b[1;33m.\u001b[0m\u001b[0mwinner\u001b[0m\u001b[1;33m(\u001b[0m\u001b[0mdummy_board\u001b[0m\u001b[1;33m)\u001b[0m\u001b[1;33m:\u001b[0m\u001b[1;33m\u001b[0m\u001b[0m\n\u001b[0;32m     74\u001b[0m             \u001b[1;32mreturn\u001b[0m \u001b[1;33m(\u001b[0m\u001b[1;36m1\u001b[0m\u001b[1;33m,\u001b[0m \u001b[0mx\u001b[0m\u001b[1;33m+\u001b[0m\u001b[1;36m1\u001b[0m\u001b[1;33m)\u001b[0m\u001b[1;33m\u001b[0m\u001b[0m\n\u001b[1;32m---> 75\u001b[1;33m         \u001b[1;33m(\u001b[0m\u001b[0mopp_value\u001b[0m\u001b[1;33m,\u001b[0m\u001b[0mopp_move\u001b[0m\u001b[1;33m)\u001b[0m \u001b[1;33m=\u001b[0m \u001b[0malpha_beta_move\u001b[0m\u001b[1;33m(\u001b[0m\u001b[0mdummy_board\u001b[0m\u001b[1;33m,\u001b[0m\u001b[0mswap_dict\u001b[0m\u001b[1;33m[\u001b[0m\u001b[0mactive_turn\u001b[0m\u001b[1;33m]\u001b[0m\u001b[1;33m,\u001b[0m\u001b[0mdepth\u001b[0m\u001b[1;33m-\u001b[0m\u001b[1;36m1\u001b[0m\u001b[1;33m,\u001b[0m\u001b[0mevaluation\u001b[0m\u001b[1;33m,\u001b[0m\u001b[1;33m-\u001b[0m\u001b[0mbest_value\u001b[0m\u001b[1;33m)\u001b[0m\u001b[1;33m\u001b[0m\u001b[0m\n\u001b[0m\u001b[0;32m     76\u001b[0m         \u001b[1;32mif\u001b[0m \u001b[1;33m-\u001b[0m\u001b[0mopp_value\u001b[0m \u001b[1;33m>\u001b[0m \u001b[0mbest_value\u001b[0m\u001b[1;33m:\u001b[0m\u001b[1;33m\u001b[0m\u001b[0m\n\u001b[0;32m     77\u001b[0m             \u001b[0mcandidate_move\u001b[0m \u001b[1;33m=\u001b[0m \u001b[0mx\u001b[0m\u001b[1;33m+\u001b[0m\u001b[1;36m1\u001b[0m\u001b[1;33m\u001b[0m\u001b[0m\n",
      "\u001b[1;32m<ipython-input-5-995f69ef7628>\u001b[0m in \u001b[0;36malpha_beta_move\u001b[1;34m(board, active_turn, depth, evaluation, alpha)\u001b[0m\n\u001b[0;32m     73\u001b[0m         \u001b[1;32mif\u001b[0m \u001b[0mcccc\u001b[0m\u001b[1;33m.\u001b[0m\u001b[0mwinner\u001b[0m\u001b[1;33m(\u001b[0m\u001b[0mdummy_board\u001b[0m\u001b[1;33m)\u001b[0m\u001b[1;33m:\u001b[0m\u001b[1;33m\u001b[0m\u001b[0m\n\u001b[0;32m     74\u001b[0m             \u001b[1;32mreturn\u001b[0m \u001b[1;33m(\u001b[0m\u001b[1;36m1\u001b[0m\u001b[1;33m,\u001b[0m \u001b[0mx\u001b[0m\u001b[1;33m+\u001b[0m\u001b[1;36m1\u001b[0m\u001b[1;33m)\u001b[0m\u001b[1;33m\u001b[0m\u001b[0m\n\u001b[1;32m---> 75\u001b[1;33m         \u001b[1;33m(\u001b[0m\u001b[0mopp_value\u001b[0m\u001b[1;33m,\u001b[0m\u001b[0mopp_move\u001b[0m\u001b[1;33m)\u001b[0m \u001b[1;33m=\u001b[0m \u001b[0malpha_beta_move\u001b[0m\u001b[1;33m(\u001b[0m\u001b[0mdummy_board\u001b[0m\u001b[1;33m,\u001b[0m\u001b[0mswap_dict\u001b[0m\u001b[1;33m[\u001b[0m\u001b[0mactive_turn\u001b[0m\u001b[1;33m]\u001b[0m\u001b[1;33m,\u001b[0m\u001b[0mdepth\u001b[0m\u001b[1;33m-\u001b[0m\u001b[1;36m1\u001b[0m\u001b[1;33m,\u001b[0m\u001b[0mevaluation\u001b[0m\u001b[1;33m,\u001b[0m\u001b[1;33m-\u001b[0m\u001b[0mbest_value\u001b[0m\u001b[1;33m)\u001b[0m\u001b[1;33m\u001b[0m\u001b[0m\n\u001b[0m\u001b[0;32m     76\u001b[0m         \u001b[1;32mif\u001b[0m \u001b[1;33m-\u001b[0m\u001b[0mopp_value\u001b[0m \u001b[1;33m>\u001b[0m \u001b[0mbest_value\u001b[0m\u001b[1;33m:\u001b[0m\u001b[1;33m\u001b[0m\u001b[0m\n\u001b[0;32m     77\u001b[0m             \u001b[0mcandidate_move\u001b[0m \u001b[1;33m=\u001b[0m \u001b[0mx\u001b[0m\u001b[1;33m+\u001b[0m\u001b[1;36m1\u001b[0m\u001b[1;33m\u001b[0m\u001b[0m\n",
      "\u001b[1;32m<ipython-input-5-995f69ef7628>\u001b[0m in \u001b[0;36malpha_beta_move\u001b[1;34m(board, active_turn, depth, evaluation, alpha)\u001b[0m\n\u001b[0;32m     59\u001b[0m             \u001b[0mheight\u001b[0m \u001b[1;33m=\u001b[0m \u001b[0mnp\u001b[0m\u001b[1;33m.\u001b[0m\u001b[0mwhere\u001b[0m\u001b[1;33m(\u001b[0m\u001b[0mdummy_board\u001b[0m\u001b[1;33m[\u001b[0m\u001b[1;33m:\u001b[0m\u001b[1;33m,\u001b[0m\u001b[0mx\u001b[0m\u001b[1;33m]\u001b[0m\u001b[1;33m==\u001b[0m\u001b[1;36m0\u001b[0m\u001b[1;33m)\u001b[0m\u001b[1;33m[\u001b[0m\u001b[1;36m0\u001b[0m\u001b[1;33m]\u001b[0m\u001b[1;33m[\u001b[0m\u001b[1;33m-\u001b[0m\u001b[1;36m1\u001b[0m\u001b[1;33m]\u001b[0m\u001b[1;33m\u001b[0m\u001b[0m\n\u001b[0;32m     60\u001b[0m             \u001b[0mdummy_board\u001b[0m\u001b[1;33m[\u001b[0m\u001b[0mheight\u001b[0m\u001b[1;33m,\u001b[0m\u001b[0mx\u001b[0m\u001b[1;33m]\u001b[0m \u001b[1;33m=\u001b[0m \u001b[0mactive_turn\u001b[0m\u001b[1;33m\u001b[0m\u001b[0m\n\u001b[1;32m---> 61\u001b[1;33m             \u001b[0meval_board\u001b[0m \u001b[1;33m=\u001b[0m \u001b[0mevaluation\u001b[0m\u001b[1;33m(\u001b[0m\u001b[0mdummy_board\u001b[0m\u001b[1;33m*\u001b[0m\u001b[0mactive_turn\u001b[0m\u001b[1;33m)\u001b[0m\u001b[1;33m\u001b[0m\u001b[0m\n\u001b[0m\u001b[0;32m     62\u001b[0m             \u001b[1;32mif\u001b[0m  \u001b[0meval_board\u001b[0m \u001b[1;33m>\u001b[0m \u001b[0mbest_value\u001b[0m\u001b[1;33m:\u001b[0m\u001b[1;33m\u001b[0m\u001b[0m\n\u001b[0;32m     63\u001b[0m                 \u001b[0mbest_value\u001b[0m \u001b[1;33m=\u001b[0m \u001b[0meval_board\u001b[0m\u001b[1;33m\u001b[0m\u001b[0m\n",
      "\u001b[1;32m<ipython-input-5-995f69ef7628>\u001b[0m in \u001b[0;36m<lambda>\u001b[1;34m(x)\u001b[0m\n\u001b[0;32m    104\u001b[0m         \u001b[0mevaluator_list\u001b[0m \u001b[1;33m=\u001b[0m \u001b[1;33m[\u001b[0m\u001b[1;33m]\u001b[0m\u001b[1;33m\u001b[0m\u001b[0m\n\u001b[0;32m    105\u001b[0m         \u001b[1;32mfor\u001b[0m \u001b[0mevaluate\u001b[0m \u001b[1;32min\u001b[0m \u001b[0mself\u001b[0m\u001b[1;33m.\u001b[0m\u001b[0mevaluators\u001b[0m\u001b[1;33m:\u001b[0m\u001b[1;33m\u001b[0m\u001b[0m\n\u001b[1;32m--> 106\u001b[1;33m             \u001b[0mevaluation\u001b[0m \u001b[1;33m=\u001b[0m \u001b[1;32mlambda\u001b[0m \u001b[0mx\u001b[0m \u001b[1;33m:\u001b[0m \u001b[0mfloat\u001b[0m\u001b[1;33m(\u001b[0m\u001b[0mevaluate\u001b[0m\u001b[1;33m(\u001b[0m\u001b[0mx\u001b[0m\u001b[1;33m)\u001b[0m \u001b[1;33m+\u001b[0m \u001b[0mself\u001b[0m\u001b[1;33m.\u001b[0m\u001b[0mnoise\u001b[0m\u001b[1;33m*\u001b[0m \u001b[1;33m(\u001b[0m\u001b[0mrandom\u001b[0m\u001b[1;33m.\u001b[0m\u001b[0mrandom\u001b[0m\u001b[1;33m(\u001b[0m\u001b[1;33m)\u001b[0m\u001b[1;33m-\u001b[0m\u001b[1;36m0.5\u001b[0m\u001b[1;33m)\u001b[0m\u001b[1;33m)\u001b[0m\u001b[1;33m\u001b[0m\u001b[0m\n\u001b[0m\u001b[0;32m    107\u001b[0m             \u001b[0mevaluator_list\u001b[0m\u001b[1;33m.\u001b[0m\u001b[0mappend\u001b[0m\u001b[1;33m(\u001b[0m\u001b[0mevaluation\u001b[0m\u001b[1;33m)\u001b[0m\u001b[1;33m\u001b[0m\u001b[0m\n\u001b[0;32m    108\u001b[0m             \u001b[0mmoves\u001b[0m\u001b[1;33m.\u001b[0m\u001b[0mappend\u001b[0m\u001b[1;33m(\u001b[0m\u001b[0malpha_beta_move\u001b[0m\u001b[1;33m(\u001b[0m\u001b[0mboard\u001b[0m\u001b[1;33m,\u001b[0m\u001b[0mactive_turn\u001b[0m\u001b[1;33m,\u001b[0m\u001b[0mself\u001b[0m\u001b[1;33m.\u001b[0m\u001b[0mdepth\u001b[0m\u001b[1;33m,\u001b[0m \u001b[0mevaluation\u001b[0m\u001b[1;33m)\u001b[0m\u001b[1;33m[\u001b[0m\u001b[1;36m1\u001b[0m\u001b[1;33m]\u001b[0m\u001b[1;33m)\u001b[0m\u001b[1;33m\u001b[0m\u001b[0m\n",
      "\u001b[1;32m<ipython-input-5-995f69ef7628>\u001b[0m in \u001b[0;36mreturn_function\u001b[1;34m(board)\u001b[0m\n\u001b[0;32m    149\u001b[0m \u001b[1;32mdef\u001b[0m \u001b[0mreshape_function\u001b[0m\u001b[1;33m(\u001b[0m\u001b[0mfunction\u001b[0m\u001b[1;33m)\u001b[0m\u001b[1;33m:\u001b[0m\u001b[1;33m\u001b[0m\u001b[0m\n\u001b[0;32m    150\u001b[0m     \u001b[1;32mdef\u001b[0m \u001b[0mreturn_function\u001b[0m\u001b[1;33m(\u001b[0m\u001b[0mboard\u001b[0m\u001b[1;33m)\u001b[0m\u001b[1;33m:\u001b[0m\u001b[1;33m\u001b[0m\u001b[0m\n\u001b[1;32m--> 151\u001b[1;33m         \u001b[1;32mreturn\u001b[0m \u001b[0mfunction\u001b[0m\u001b[1;33m(\u001b[0m\u001b[0mboard\u001b[0m\u001b[1;33m.\u001b[0m\u001b[0mreshape\u001b[0m\u001b[1;33m(\u001b[0m\u001b[1;36m1\u001b[0m\u001b[1;33m,\u001b[0m\u001b[1;36m42\u001b[0m\u001b[1;33m)\u001b[0m\u001b[1;33m)\u001b[0m\u001b[1;33m\u001b[0m\u001b[0m\n\u001b[0m\u001b[0;32m    152\u001b[0m     \u001b[1;32mreturn\u001b[0m \u001b[0mreturn_function\u001b[0m\u001b[1;33m\u001b[0m\u001b[0m\n\u001b[0;32m    153\u001b[0m \u001b[1;33m\u001b[0m\u001b[0m\n",
      "\u001b[1;32mC:\\Users\\Todd\\Anaconda2\\lib\\site-packages\\theano\\compile\\function_module.pyc\u001b[0m in \u001b[0;36m__call__\u001b[1;34m(self, *args, **kwargs)\u001b[0m\n\u001b[0;32m    605\u001b[0m         \u001b[0mt0_fn\u001b[0m \u001b[1;33m=\u001b[0m \u001b[0mtime\u001b[0m\u001b[1;33m.\u001b[0m\u001b[0mtime\u001b[0m\u001b[1;33m(\u001b[0m\u001b[1;33m)\u001b[0m\u001b[1;33m\u001b[0m\u001b[0m\n\u001b[0;32m    606\u001b[0m         \u001b[1;32mtry\u001b[0m\u001b[1;33m:\u001b[0m\u001b[1;33m\u001b[0m\u001b[0m\n\u001b[1;32m--> 607\u001b[1;33m             \u001b[0moutputs\u001b[0m \u001b[1;33m=\u001b[0m \u001b[0mself\u001b[0m\u001b[1;33m.\u001b[0m\u001b[0mfn\u001b[0m\u001b[1;33m(\u001b[0m\u001b[1;33m)\u001b[0m\u001b[1;33m\u001b[0m\u001b[0m\n\u001b[0m\u001b[0;32m    608\u001b[0m         \u001b[1;32mexcept\u001b[0m \u001b[0mException\u001b[0m\u001b[1;33m:\u001b[0m\u001b[1;33m\u001b[0m\u001b[0m\n\u001b[0;32m    609\u001b[0m             \u001b[1;32mif\u001b[0m \u001b[0mhasattr\u001b[0m\u001b[1;33m(\u001b[0m\u001b[0mself\u001b[0m\u001b[1;33m.\u001b[0m\u001b[0mfn\u001b[0m\u001b[1;33m,\u001b[0m \u001b[1;34m'position_of_error'\u001b[0m\u001b[1;33m)\u001b[0m\u001b[1;33m:\u001b[0m\u001b[1;33m\u001b[0m\u001b[0m\n",
      "\u001b[1;32mC:\\Users\\Todd\\Anaconda2\\lib\\site-packages\\theano\\gof\\op.pyc\u001b[0m in \u001b[0;36mrval\u001b[1;34m(p, i, o, n)\u001b[0m\n\u001b[0;32m    759\u001b[0m             \u001b[1;31m# default arguments are stored in the closure of `rval`\u001b[0m\u001b[1;33m\u001b[0m\u001b[1;33m\u001b[0m\u001b[0m\n\u001b[0;32m    760\u001b[0m             \u001b[1;32mdef\u001b[0m \u001b[0mrval\u001b[0m\u001b[1;33m(\u001b[0m\u001b[0mp\u001b[0m\u001b[1;33m=\u001b[0m\u001b[0mp\u001b[0m\u001b[1;33m,\u001b[0m \u001b[0mi\u001b[0m\u001b[1;33m=\u001b[0m\u001b[0mnode_input_storage\u001b[0m\u001b[1;33m,\u001b[0m \u001b[0mo\u001b[0m\u001b[1;33m=\u001b[0m\u001b[0mnode_output_storage\u001b[0m\u001b[1;33m,\u001b[0m \u001b[0mn\u001b[0m\u001b[1;33m=\u001b[0m\u001b[0mnode\u001b[0m\u001b[1;33m)\u001b[0m\u001b[1;33m:\u001b[0m\u001b[1;33m\u001b[0m\u001b[0m\n\u001b[1;32m--> 761\u001b[1;33m                 \u001b[0mr\u001b[0m \u001b[1;33m=\u001b[0m \u001b[0mp\u001b[0m\u001b[1;33m(\u001b[0m\u001b[0mn\u001b[0m\u001b[1;33m,\u001b[0m \u001b[1;33m[\u001b[0m\u001b[0mx\u001b[0m\u001b[1;33m[\u001b[0m\u001b[1;36m0\u001b[0m\u001b[1;33m]\u001b[0m \u001b[1;32mfor\u001b[0m \u001b[0mx\u001b[0m \u001b[1;32min\u001b[0m \u001b[0mi\u001b[0m\u001b[1;33m]\u001b[0m\u001b[1;33m,\u001b[0m \u001b[0mo\u001b[0m\u001b[1;33m)\u001b[0m\u001b[1;33m\u001b[0m\u001b[0m\n\u001b[0m\u001b[0;32m    762\u001b[0m                 \u001b[1;32mfor\u001b[0m \u001b[0mo\u001b[0m \u001b[1;32min\u001b[0m \u001b[0mnode\u001b[0m\u001b[1;33m.\u001b[0m\u001b[0moutputs\u001b[0m\u001b[1;33m:\u001b[0m\u001b[1;33m\u001b[0m\u001b[0m\n\u001b[0;32m    763\u001b[0m                     \u001b[0mcompute_map\u001b[0m\u001b[1;33m[\u001b[0m\u001b[0mo\u001b[0m\u001b[1;33m]\u001b[0m\u001b[1;33m[\u001b[0m\u001b[1;36m0\u001b[0m\u001b[1;33m]\u001b[0m \u001b[1;33m=\u001b[0m \u001b[0mTrue\u001b[0m\u001b[1;33m\u001b[0m\u001b[0m\n",
      "\u001b[1;32mC:\\Users\\Todd\\Anaconda2\\lib\\site-packages\\theano\\tensor\\blas.pyc\u001b[0m in \u001b[0;36mperform\u001b[1;34m(self, node, inp, out)\u001b[0m\n\u001b[0;32m   1664\u001b[0m         \u001b[0mz\u001b[0m\u001b[1;33m,\u001b[0m \u001b[1;33m=\u001b[0m \u001b[0mout\u001b[0m\u001b[1;33m\u001b[0m\u001b[0m\n\u001b[0;32m   1665\u001b[0m         \u001b[1;32mtry\u001b[0m\u001b[1;33m:\u001b[0m\u001b[1;33m\u001b[0m\u001b[0m\n\u001b[1;32m-> 1666\u001b[1;33m             \u001b[0mz\u001b[0m\u001b[1;33m[\u001b[0m\u001b[1;36m0\u001b[0m\u001b[1;33m]\u001b[0m \u001b[1;33m=\u001b[0m \u001b[0mnumpy\u001b[0m\u001b[1;33m.\u001b[0m\u001b[0masarray\u001b[0m\u001b[1;33m(\u001b[0m\u001b[0mnumpy\u001b[0m\u001b[1;33m.\u001b[0m\u001b[0mdot\u001b[0m\u001b[1;33m(\u001b[0m\u001b[0mx\u001b[0m\u001b[1;33m,\u001b[0m \u001b[0my\u001b[0m\u001b[1;33m)\u001b[0m\u001b[1;33m)\u001b[0m\u001b[1;33m\u001b[0m\u001b[0m\n\u001b[0m\u001b[0;32m   1667\u001b[0m         \u001b[1;32mexcept\u001b[0m \u001b[0mValueError\u001b[0m \u001b[1;32mas\u001b[0m \u001b[0me\u001b[0m\u001b[1;33m:\u001b[0m\u001b[1;33m\u001b[0m\u001b[0m\n\u001b[0;32m   1668\u001b[0m             \u001b[1;31m# The error raised by numpy has no shape information, we mean to\u001b[0m\u001b[1;33m\u001b[0m\u001b[1;33m\u001b[0m\u001b[0m\n",
      "\u001b[1;31mKeyboardInterrupt\u001b[0m: "
     ]
    }
   ],
   "source": [
    "\n",
    "#player_1 = alpha_beta(0, reshape_function(value_fun))\n",
    "player_2 = alpha_beta(2)\n",
    "player_1 = alpha_beta_meta(2,  [reshape_function(value_fun) for value_fun in value_funs],noise = 0.)\n",
    "\n",
    "# player_1 = nn_ai([value_fun])\n",
    "#player_1 = alpha_beta(0,lambda x: monte_carlo(x,hash_, runs =100))\n",
    "t1=0\n",
    "t2=0\n",
    "print ' '\n",
    "print ' '\n",
    "test_result = {'wins':0,'ties':0,'losses':0}\n",
    "for j in range(1000):\n",
    "    result = cccc.play(player_1,player_2)\n",
    "    if result.winner ==1:\n",
    "        test_result['wins'] +=1\n",
    "    if result.winner == 0:\n",
    "        test_result['ties'] +=1\n",
    "    if result.winner == -1:\n",
    "        test_result['losses'] +=1\n",
    "\n",
    "    t1 += result.p1_time\n",
    "    t2 += result.p2_time\n",
    "\n",
    "    sys.stdout.write('\\r score is {:3d} - {:3d} - {:3d}, time taken by player 1 - {:2.3f}s, time taken by player 2 - {:2.3f}s'.format(test_result['wins'],\n",
    "                                                       test_result['ties'],test_result['losses'],t1,t2 ))\n",
    "    sys.stdout.flush()\n"
   ]
  },
  {
   "cell_type": "code",
   "execution_count": null,
   "metadata": {
    "collapsed": false
   },
   "outputs": [],
   "source": [
    "cccc.play( cccc.player(),alpha_beta_meta(0, [reshape_function(value_fun) for value_fun in value_funs]))"
   ]
  },
  {
   "cell_type": "code",
   "execution_count": null,
   "metadata": {
    "collapsed": false
   },
   "outputs": [],
   "source": [
    "cccc.play( cccc.player(),alpha_beta(0, lambda x: value_fun(x.reshape(1,42))))"
   ]
  },
  {
   "cell_type": "code",
   "execution_count": null,
   "metadata": {
    "collapsed": false
   },
   "outputs": [],
   "source": [
    "value_funs[0](np.zeros((6,7)).reshape(1,42))"
   ]
  },
  {
   "cell_type": "code",
   "execution_count": null,
   "metadata": {
    "collapsed": false
   },
   "outputs": [],
   "source": [
    "test = [reshape_function(value_fun) for value_fun in value_funs]\n",
    "[float(thing(np.zeros((6,7)))) for thing in test]"
   ]
  },
  {
   "cell_type": "code",
   "execution_count": null,
   "metadata": {
    "collapsed": false
   },
   "outputs": [],
   "source": [
    "print test"
   ]
  },
  {
   "cell_type": "code",
   "execution_count": null,
   "metadata": {
    "collapsed": false
   },
   "outputs": [],
   "source": [
    "[float(value_fun(np.zeros((6,7)).reshape(1,42))) for value_fun in value_funs]"
   ]
  },
  {
   "cell_type": "code",
   "execution_count": null,
   "metadata": {
    "collapsed": false
   },
   "outputs": [],
   "source": [
    "test = [lambda x: what(x.reshape(1,42)) for what in value_funs]\n",
    "[float(thing(np.zeros((6,7)))) for thing in test]"
   ]
  },
  {
   "cell_type": "code",
   "execution_count": 12,
   "metadata": {
    "collapsed": false
   },
   "outputs": [
    {
     "ename": "SyntaxError",
     "evalue": "unexpected EOF while parsing (<ipython-input-12-9fdde7d46da1>, line 1)",
     "output_type": "error",
     "traceback": [
      "\u001b[1;36m  File \u001b[1;32m\"<ipython-input-12-9fdde7d46da1>\"\u001b[1;36m, line \u001b[1;32m1\u001b[0m\n\u001b[1;33m    sys.stdout.write(str(np.zeros(5))\u001b[0m\n\u001b[1;37m                                     ^\u001b[0m\n\u001b[1;31mSyntaxError\u001b[0m\u001b[1;31m:\u001b[0m unexpected EOF while parsing\n"
     ]
    }
   ],
   "source": [
    "sys.stdout.write(str(np.zeros(5))"
   ]
  },
  {
   "cell_type": "code",
   "execution_count": 15,
   "metadata": {
    "collapsed": false
   },
   "outputs": [
    {
     "name": "stdout",
     "output_type": "stream",
     "text": [
      "0 0 0 0 0\n",
      "0 0 0 0 0\n",
      "0 0 0 0 0\n",
      "0 0 0 0 0\n",
      "0 0 0 0 0\n"
     ]
    }
   ],
   "source": [
    "np.savetxt(sys.stdout, np.zeros((5,5)), fmt = '%d')"
   ]
  },
  {
   "cell_type": "code",
   "execution_count": null,
   "metadata": {
    "collapsed": true
   },
   "outputs": [],
   "source": []
  }
 ],
 "metadata": {
  "kernelspec": {
   "display_name": "Python 2",
   "language": "python",
   "name": "python2"
  },
  "language_info": {
   "codemirror_mode": {
    "name": "ipython",
    "version": 2
   },
   "file_extension": ".py",
   "mimetype": "text/x-python",
   "name": "python",
   "nbconvert_exporter": "python",
   "pygments_lexer": "ipython2",
   "version": "2.7.11"
  }
 },
 "nbformat": 4,
 "nbformat_minor": 0
}
