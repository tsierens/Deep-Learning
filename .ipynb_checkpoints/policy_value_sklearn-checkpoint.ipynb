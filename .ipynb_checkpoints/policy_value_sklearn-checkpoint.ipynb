{
 "cells": [
  {
   "cell_type": "code",
   "execution_count": 1,
   "metadata": {
    "collapsed": false
   },
   "outputs": [
    {
     "name": "stderr",
     "output_type": "stream",
     "text": [
      "C:\\Users\\Todd\\Anaconda2\\lib\\site-packages\\pandas\\computation\\__init__.py:19: UserWarning: The installed version of numexpr 2.4.4 is not supported in pandas and will be not be used\n",
      "\n",
      "  UserWarning)\n",
      "C:\\Users\\Todd\\Anaconda2\\lib\\site-packages\\sklearn\\lda.py:4: DeprecationWarning: lda.LDA has been moved to discriminant_analysis.LinearDiscriminantAnalysis in 0.17 and will be removed in 0.19\n",
      "  \"in 0.17 and will be removed in 0.19\", DeprecationWarning)\n",
      "C:\\Users\\Todd\\Anaconda2\\lib\\site-packages\\sklearn\\qda.py:4: DeprecationWarning: qda.QDA has been moved to discriminant_analysis.QuadraticDiscriminantAnalysis in 0.17 and will be removed in 0.19.\n",
      "  \"in 0.17 and will be removed in 0.19.\", DeprecationWarning)\n"
     ]
    }
   ],
   "source": [
    "import numpy as np\n",
    "import pandas as pd\n",
    "import random\n",
    "import time\n",
    "import connect_four as cccc\n",
    "import sys\n",
    "import sklearn\n",
    "from sklearn import *\n",
    "from numpy import random\n",
    "\n",
    "from sknn import *\n",
    "import sknn\n",
    "from sknn import mlp\n",
    "\n",
    "from sknn.mlp import *\n",
    "\n",
    "from sknn.mlp import Layer, Regressor, Classifier\n",
    "import matplotlib as mpl\n",
    "\n",
    "import matplotlib.pyplot as plt\n",
    "\n",
    "from itertools import izip_longest as izip\n",
    "\n",
    "\n",
    "%matplotlib inline\n",
    "import matplotlib\n",
    "import seaborn as sns\n",
    "matplotlib.rcParams['savefig.dpi'] = matplotlib.rcParams['savefig.dpi']\n",
    "\n",
    "def progress_bar(percent, size = 20, message=''):\n",
    "    percent = int(percent)\n",
    "    fill = int(percent * size/100)\n",
    "    sys.stdout.write('\\r[' + 'X'*fill + ' '*(size-fill) + '] {:3d}% complete. '.format(percent) + message)\n",
    "    sys.stdout.flush"
   ]
  },
  {
   "cell_type": "code",
   "execution_count": null,
   "metadata": {
    "collapsed": true
   },
   "outputs": [],
   "source": [
    "import pickle\n",
    "with open('value.pkl','rb') as in_strm:\n",
    "    v = pickle.load(in_strm)\n",
    "with open('policy.pkl','rb') as in_strm:\n",
    "    p = pickle.load(in_strm)\n",
    "with open('parameters.pkl','rb') as in_strm:\n",
    "    (training_data, target_data, current_write_index, temperature) = pickle.load(in_strm)"
   ]
  },
  {
   "cell_type": "code",
   "execution_count": 37,
   "metadata": {
    "collapsed": false
   },
   "outputs": [],
   "source": [
    "num_units=150\n",
    "num_layers=1\n",
    "dropout_rate = 0.2\n",
    "batch_size = 128\n",
    "\n",
    "policy = mlp.Regressor(layers = [Layer(\"Rectifier\", units = num_units, dropout = dropout_rate)\n",
    "                              for _ in range(num_layers)]+[Layer(\"Rectifier\",units = 7)],\n",
    "          learning_rule = \"nesterov\", learning_rate = 0.01, batch_size = batch_size, valid_size = 0.2,n_iter = 1)\n",
    "value = mlp.Regressor(layers = [Layer(\"Tanh\", units = num_units, dropout = dropout_rate) \n",
    "                              for _ in range(num_layers)]+[Layer(\"Tanh\")],\n",
    "          learning_rule = \"nesterov\", learning_rate = 0.01, batch_size = batch_size, valid_size = 0.2,n_iter = 1)\n",
    "\n"
   ]
  },
  {
   "cell_type": "code",
   "execution_count": null,
   "metadata": {
    "collapsed": true
   },
   "outputs": [],
   "source": [
    "saved_p = p.get_parameters()\n",
    "saved_v = v.get_parameters()\n",
    "saved_p = [[array for array in layer[:2]] for layer in saved_p]\n",
    "saved_v = [[array for array in layer[:2]] for layer in saved_v]\n",
    "policy.set_parameters(saved_p)\n",
    "value.set_parameters(saved_v)"
   ]
  },
  {
   "cell_type": "code",
   "execution_count": 9,
   "metadata": {
    "collapsed": true
   },
   "outputs": [],
   "source": [
    "class rand_est():\n",
    "    def __init__(self):\n",
    "        None\n",
    "    def predict(self,board):\n",
    "        return np.random.rand(7)\n",
    "    \n"
   ]
  },
  {
   "cell_type": "code",
   "execution_count": 38,
   "metadata": {
    "collapsed": false
   },
   "outputs": [
    {
     "data": {
      "text/plain": [
       "Regressor(batch_size=128, callback=None, debug=False, dropout_rate=None,\n",
       "     f_stable=0.001,\n",
       "     hidden0=<sknn.nn.Layer `Tanh`: units=150, name=u'hidden0', frozen=False, dropout=0.2>,\n",
       "     layers=[<sknn.nn.Layer `Tanh`: units=150, name=u'hidden0', frozen=False, dropout=0.2>, <sknn.nn.Layer `Tanh`: units=1L, name=u'output', frozen=False>],\n",
       "     learning_momentum=0.9, learning_rate=0.01, learning_rule='nesterov',\n",
       "     loss_type=None, n_iter=1, n_stable=10,\n",
       "     output=<sknn.nn.Layer `Tanh`: units=1L, name=u'output', frozen=False>,\n",
       "     random_state=42, regularize=None,\n",
       "     valid_set=(array([[ 0.93539,  0.33932, ...,  0.13437,  0.47318],\n",
       "       [ 0.4785 ,  0.9936 , ...,  0.62622,  0.0517 ],\n",
       "       ...,\n",
       "       [ 0.44694,  0.53665, ...,  0.56897,  0.13665],\n",
       "       [ 0.49504,  0.02218, ...,  0.29995,  0.69615]]), array([[-0.71967],\n",
       "       [ 0.22192],\n",
       "       [ 0.55066],\n",
       " ...4],\n",
       "       [-0.63319],\n",
       "       [-0.41517],\n",
       "       [-0.13668],\n",
       "       [-0.45192],\n",
       "       [ 0.66886]])),\n",
       "     valid_size=0.2, verbose=None, warning=None, weight_decay=None,\n",
       "     weights=None)"
      ]
     },
     "execution_count": 38,
     "metadata": {},
     "output_type": "execute_result"
    }
   ],
   "source": [
    "    \n",
    "policy.random_state=42\n",
    "value.random_state=42\n",
    "  \n",
    "X = np.random.rand(batch_size,42)\n",
    "# y = np.random.randint(0,7,(1000,1))\n",
    "\n",
    "# policy.fit(X,y)\n",
    "y = np.random.randint(0,1,(batch_size,7))\n",
    "policy.fit(X,y)\n",
    "\n",
    "y = np.random.rand(batch_size,1)*2-1\n",
    "\n",
    "value.fit(X,y)"
   ]
  },
  {
   "cell_type": "code",
   "execution_count": 4,
   "metadata": {
    "collapsed": false
   },
   "outputs": [
    {
     "name": "stdout",
     "output_type": "stream",
     "text": [
      "(42L, 150L)\n",
      "(150L,)\n",
      "(150L, 7L)\n",
      "(7L,)\n"
     ]
    }
   ],
   "source": [
    "len(policy.get_parameters())\n",
    "for item in policy.get_parameters():\n",
    "    print item.weights.shape\n",
    "    print item.biases.shape"
   ]
  },
  {
   "cell_type": "code",
   "execution_count": 10,
   "metadata": {
    "collapsed": false
   },
   "outputs": [],
   "source": [
    "class rand_est():\n",
    "    def __init__(self):\n",
    "        None\n",
    "    def predict(self,board):\n",
    "        return np.random.rand(7)\n",
    "\n",
    "inf = float(\"inf\")\n",
    "def policy_move(board, turn, policy = rand_est()):\n",
    "    dummy_board = np.copy(board) * turn\n",
    "    options = cccc.available_moves(dummy_board)  \n",
    "    recommend = policy.predict(dummy_board.reshape(1,42))[0]\n",
    "#     print recommend\n",
    "    return sorted(options, key = lambda x:-1* recommend[x])\n",
    "\n",
    "\n",
    "def partition(temp, total):\n",
    "    return np.sum(np.exp(-1/float(temp) * np.arange(total)))\n",
    "\n",
    "def probs(temp,total):\n",
    "    if temp ==0:\n",
    "        return np.ones(total)\n",
    "    \n",
    "    return np.cumsum(np.exp(-1/float(temp) * np.arange(total)) / partition(temp,total))\n",
    "\n",
    "#returns the index of a sorted list of moves\n",
    "def boltz_move(temp,total):\n",
    "    x = np.random.random()\n",
    "    return np.argmax(x < probs(temp,total))\n",
    "\n",
    "#get self-play moves with policy_move(board,turn,policy)[boltz_move(temp,len(options))]\n",
    "\n",
    "class nn_ai:\n",
    "    \n",
    "    def __init__(self,policy,temp = 0):\n",
    "        self.temp = temp\n",
    "        self.policy = policy\n",
    "    \n",
    "    def make_move(self,board,active_turn):\n",
    "        options = cccc.available_moves(board)\n",
    "        return policy_move(board, active_turn, self.policy)[boltz_move(self.temp, len(options))]+1"
   ]
  },
  {
   "cell_type": "code",
   "execution_count": 11,
   "metadata": {
    "collapsed": false
   },
   "outputs": [],
   "source": [
    "def alpha_beta_move(board, turn, depth = 0, alpha = -inf, beta = inf, evaluation = lambda x: 0):\n",
    "    dummy_board = np.copy(board) # we don't want to change the board state\n",
    "\n",
    "    swap_player = {1:-1,-1:1} # So we can change whose turn\n",
    "    options = cccc.available_moves(board) # get legal moves\n",
    "    random.shuffle(options) # should inherit move order instead of randomizing\n",
    "\n",
    "    best_value = -inf\n",
    "    \n",
    "    if not options:\n",
    "        print board, cccc.game_over(board)\n",
    "        print 'oops, no available moves'\n",
    "    cand_move = options[0]\n",
    "    if depth == 0: \n",
    "        for x in options:\n",
    "            update_move(dummy_board,x,turn)\n",
    "            op_value = evaluation(dummy_board*swap_player[turn])\n",
    "\n",
    "            if -op_value > best_value:\n",
    "                cand_move = x\n",
    "                best_value = -op_value\n",
    "                alpha = max(alpha, best_value)\n",
    "            if alpha >= beta:\n",
    "                break   #alpha-beta cutoff\n",
    "            unupdate_move(dummy_board,x)\n",
    "    else:\n",
    "    \n",
    "        for x in options:\n",
    "            update_move(dummy_board,x,turn)\n",
    "        \n",
    "            if cccc.winner(dummy_board): #should check over and tied too\n",
    "                return(inf, x)\n",
    "            \n",
    "            if cccc.is_full(dummy_board): #This assumes you can't lose on your turn\n",
    "                return(0 , x)\n",
    "            \n",
    "            op_value,_ = alpha_beta_move( dummy_board,\n",
    "                                            swap_player[turn],\n",
    "                                            depth-1,\n",
    "                                            alpha = - beta,\n",
    "                                            beta = - alpha,\n",
    "                                            evaluation = evaluation)\n",
    "\n",
    "            if -op_value > best_value:\n",
    "                cand_move = x\n",
    "                best_value = -op_value\n",
    "                alpha = max(alpha, best_value)\n",
    "            if alpha >= beta:\n",
    "                break   #alpha-beta cutoff\n",
    "            unupdate_move(dummy_board,x)\n",
    "    return (best_value, cand_move)\n",
    "\n",
    "class Alpha_Beta:\n",
    "    def __init__(self,depth):\n",
    "        self.depth = depth\n",
    "    def make_move(self,board,active_turn):\n",
    "        #print (board,active_turn,self.depth)\n",
    "        return alpha_beta_move(board,active_turn,self.depth)[1]+1\n",
    "\n",
    "def one_where(num):\n",
    "    array = np.zeros(7)\n",
    "    array[num] = 1\n",
    "    return array\n",
    "    \n",
    "\n",
    "def get_inputs(log):\n",
    "    boards = []\n",
    "    piece = 1\n",
    "    board = np.zeros((6,7))\n",
    "    boards.append(np.copy(board))\n",
    "    for move in log:\n",
    "        board[np.where(board[:,move-1]==0)[0][-1],move-1] = piece\n",
    "        piece = -piece\n",
    "        boards.append(np.copy(board))\n",
    "    return boards"
   ]
  },
  {
   "cell_type": "code",
   "execution_count": 12,
   "metadata": {
    "collapsed": true
   },
   "outputs": [],
   "source": [
    "\n",
    "def update_move(board, move, turn):\n",
    "    board[np.where(board[:,move]==0)[0][-1], move] = turn\n",
    "    return None\n",
    "    \n",
    "def unupdate_move(board, move):\n",
    "    if 0 in board[:,move]:\n",
    "        board[np.where(board[:,move]==0)[0][-1]+1, move] = 0\n",
    "    else:\n",
    "        board[0,move]=0\n",
    "    return None\n",
    "\n",
    "def value_move(board,active_turn):\n",
    "    dummy_board = np.copy(board).reshape((6,7))*active_turn\n",
    "    options = cccc.available_moves(dummy_board)\n",
    "    if not options:\n",
    "        return 0\n",
    "    \n",
    "    moves = np.zeros(7)\n",
    "    move_values = np.zeros(7)\n",
    "    if len(options )== 1:\n",
    "        return options[0]\n",
    "    for choice in options:\n",
    "        update_move(dummy_board, choice, 1)\n",
    "        if cccc.winner(dummy_board):\n",
    "            move_values[choice] =  cccc.winner(dummy_board)\n",
    "            unupdate_move(dummy_board,choice)\n",
    "            continue\n",
    "        reshapeable = np.copy(dummy_board)\n",
    "        move_values[choice] = -1 * value.predict(-1 * reshapeable.reshape((1,42)))\n",
    "        unupdate_move(dummy_board, choice)\n",
    "#    print move_values\n",
    "#     available_move_values = np.array([move_values[move] for move in options])\n",
    "\n",
    "#     move = options[available_move_values.argmax(-1)]\n",
    "#     moves[move] += 1\n",
    "\n",
    "#     move = np.argmax(moves)\n",
    "    return max(options, key = lambda x: move_values[x])\n",
    "\n"
   ]
  },
  {
   "cell_type": "code",
   "execution_count": 13,
   "metadata": {
    "collapsed": true
   },
   "outputs": [],
   "source": [
    "def validate(validation_str = 0):\n",
    "\n",
    "    test_result = {'wins':0,'ties':0,'losses':0}\n",
    "    for j in range(100):\n",
    "#             sys.stdout.write('\\r playing validation game {:4d} of {:4d}'.format(j+1, 1000))\n",
    "#             sys.stdout.flush()\n",
    "        result = cccc.play(nn_ai(player_1,temp=0),Alpha_Beta(0))\n",
    "        if result.winner ==1:\n",
    "            test_result['wins'] +=1\n",
    "        if result.winner == 0:\n",
    "            test_result['ties'] +=1\n",
    "        if result.winner == -1:\n",
    "            test_result['losses'] +=1\n",
    "\n",
    "         \n",
    "    print 'As X, neural network has a score of {:3d}-{:3d}-{:3d} vs {}-depth minimax'.format(test_result['wins'],\n",
    "                                                           test_result['ties'],test_result['losses'],validation_str)\n",
    "\n",
    "    test_result = {'wins':0,'ties':0,'losses':0}\n",
    "\n",
    "    for j in range(100):\n",
    "#             sys.stdout.write('\\r playing validation game {:4d} of {:4d}'.format(j+1, 1000))\n",
    "#             sys.stdout.flush()\n",
    "        result = cccc.play(Alpha_Beta(0),nn_ai(player_2,temp=0))\n",
    "        if result.winner ==1:\n",
    "            test_result['losses'] +=1\n",
    "        if result.winner == 0:\n",
    "            test_result['ties'] +=1\n",
    "        if result.winner == -1:\n",
    "            test_result['wins'] +=1\n",
    "#         print '\\n'\n",
    "    print 'As O, neural network has a score of {:3d}-{:3d}-{:3d} vs {}-depth minimax'.format(test_result['wins'],\n",
    "                                                        test_result['ties'],test_result['losses'],validation_str)\n",
    "    print 'epoch time: {:3.3f}s'.format(time.clock()-t0)\n",
    "    # save the chromes"
   ]
  },
  {
   "cell_type": "code",
   "execution_count": 19,
   "metadata": {
    "collapsed": false
   },
   "outputs": [
    {
     "data": {
      "text/plain": [
       "6601"
      ]
     },
     "execution_count": 19,
     "metadata": {},
     "output_type": "execute_result"
    }
   ],
   "source": [
    "sum(item[0].size+item[1].size for item in value.get_parameters())"
   ]
  },
  {
   "cell_type": "code",
   "execution_count": 10,
   "metadata": {
    "collapsed": false
   },
   "outputs": [
    {
     "data": {
      "text/plain": [
       "42"
      ]
     },
     "execution_count": 10,
     "metadata": {},
     "output_type": "execute_result"
    }
   ],
   "source": [
    "np.zeros((6,7)).size"
   ]
  },
  {
   "cell_type": "code",
   "execution_count": 66,
   "metadata": {
    "collapsed": false
   },
   "outputs": [
    {
     "name": "stdout",
     "output_type": "stream",
     "text": [
      "1000\n"
     ]
    }
   ],
   "source": [
    "training_size = sum(item[0].size+item[1].size for item in value.get_parameters()) * 5\n",
    "training_size = 1000\n",
    "training_data = [np.zeros((6,7))]*training_size\n",
    "target_data = [0]*training_size\n",
    "current_write_index = 0\n",
    "temperature = 2\n",
    "print training_size"
   ]
  },
  {
   "cell_type": "code",
   "execution_count": 48,
   "metadata": {
    "collapsed": false
   },
   "outputs": [],
   "source": [
    "temperature = 0.7"
   ]
  },
  {
   "cell_type": "code",
   "execution_count": null,
   "metadata": {
    "collapsed": false,
    "scrolled": false
   },
   "outputs": [
    {
     "name": "stdout",
     "output_type": "stream",
     "text": [
      "Starting Epoch 0, temperature = 0.59\n",
      "[XXXXXXXXXXXXXXXXXXXX] 100% complete. games played: 228955\n",
      "\n",
      "[XXXXXXXXXXXXXXXXXXXX] 100% complete. training value net\n",
      "\n",
      "[XXXXXXXXXXXXXXXXXXXX] 100% complete. building policy targets\n",
      "\n",
      "[XXXXXXXXXXXXXXXXXXXX] 100% complete. training policy net"
     ]
    },
    {
     "data": {
      "image/png": "[encoded data removed]",
      "text/plain": [
       "<matplotlib.figure.Figure at 0x1158dbe0>"
      ]
     },
     "metadata": {},
     "output_type": "display_data"
    },
    {
     "name": "stdout",
     "output_type": "stream",
     "text": [
      "value = 0.722031921175, policy = 0.777946165364 epoch 0 complete\n",
      "As X, neural network has a score of  95-  0-  5 vs 0-depth minimax\n",
      "As O, neural network has a score of  83-  0- 17 vs 0-depth minimax\n",
      "epoch time: 1308.140s\n",
      "Starting Epoch 1, temperature = 0.56\n",
      "[XXXXXXXXXXXXXXXXXXXX] 100% complete. games played: 261960\n",
      "\n",
      "[XXXXXXXXXXXXXXXXXXXX] 100% complete. training value net\n",
      "\n",
      "[XXXXXXXXXXXXXXXXXXXX] 100% complete. building policy targets\n",
      "\n",
      "[XXXXXXXXXXXXXXXXXXXX] 100% complete. training policy net"
     ]
    },
    {
     "data": {
      "image/png": "[encoded data removed]",
      "text/plain": [
       "<matplotlib.figure.Figure at 0xdffa748>"
      ]
     },
     "metadata": {},
     "output_type": "display_data"
    },
    {
     "name": "stdout",
     "output_type": "stream",
     "text": [
      "value = 0.584585976648, policy = 0.730527049265 epoch 1 complete\n",
      "As X, neural network has a score of  98-  0-  2 vs 0-depth minimax\n",
      "As O, neural network has a score of  90-  0- 10 vs 0-depth minimax\n",
      "epoch time: 1330.136s\n",
      "Starting Epoch 2, temperature = 0.54\n",
      "[XXXXXXXXXXXXXXX     ]  79% complete. games played: 288361"
     ]
    }
   ],
   "source": [
    "train_duration = 100\n",
    "min_temperature = 0.3\n",
    "self_play = 0\n",
    "temporal_index = 0.8\n",
    "mini_epoch_policy = 400\n",
    "mini_epoch_value = 400\n",
    "refresh_rate = 1\n",
    "for epoch in range(train_duration):\n",
    "    t0 = time.clock()\n",
    "    print \"Starting Epoch {}, temperature = {:.2f}\".format(epoch,temperature)\n",
    "    for train_i in range(training_size/refresh_rate):\n",
    "        t1 = time.clock()\n",
    "\n",
    "        player_1 = policy\n",
    "        player_2 = policy\n",
    "        play_result = cccc.play(nn_ai(player_1,temp = temperature),nn_ai(player_2,temp=temperature))\n",
    "        learning_selection = random.choice(range(len(play_result.log)+1))\n",
    "        boards = get_inputs(play_result.log)[learning_selection:]\n",
    "        learning_board = boards[0]\n",
    "\n",
    "        if learning_selection % 2 ==0:\n",
    "            learning_player = 1\n",
    "        else:\n",
    "            learning_player = -1\n",
    "        self_play +=1\n",
    "        learning_pool = []\n",
    "        value_history = []\n",
    "\n",
    "#        current_state = learning_board * learning_player\n",
    "        current_player = learning_player\n",
    "        learning_board = learning_player * learning_board\n",
    "    #    print play_result.log\n",
    "        for board in boards[:-1]:\n",
    "            board = board * current_player\n",
    "    #        print board\n",
    "    #        board = board * current_player\n",
    "    #        next_value , next_state , explore = play_one_move(current_state,value_funs)\n",
    "    #        next_value = value.predict(current_state)\n",
    "            learning_pool.append(board.reshape((1,42)))\n",
    "            value_history.append(value.predict(board.reshape((1,42)))[0])\n",
    "            current_player *= -1\n",
    "\n",
    "        learning_pool.append(boards[-1]*current_player)\n",
    "\n",
    "        value_history.append(cccc.winner(boards[-1]*current_player))\n",
    "\n",
    "\n",
    "        future_board = learning_pool.pop()\n",
    "        learning_target = value_history.pop()\n",
    "        while(value_history):\n",
    "            learning_target = -1 * temporal_index * learning_target + (1-temporal_index)*value_history.pop()\n",
    "        training_data[current_write_index%training_size] = learning_board\n",
    "        target_data[current_write_index%training_size] = learning_target   \n",
    "        current_write_index +=1\n",
    "\n",
    "        if train_i%(training_size / refresh_rate / 10)==0:\n",
    "            progress_bar(100.*float(train_i+1) / (training_size / refresh_rate),message = \"games played: {}\".format(current_write_index))\n",
    "            \n",
    "    #    if train_i %(training_size/10)==0:\n",
    "    #        print \"\\n\"\n",
    "    progress_bar(100,message = \"games played: {}\".format(current_write_index)) #ascthetic only\n",
    "    if current_write_index < training_size:\n",
    "        \n",
    "        print '\\n'\n",
    "        continue\n",
    "    \n",
    "    X_train =np.array(training_data[:3*training_size/4] ).reshape(3*training_size/4,42)\n",
    "    X_test = np.array(training_data[3*training_size/4:]).reshape(training_size-3*training_size/4,42)\n",
    "    y_train = np.array(target_data[:3*training_size/4]).reshape(3*training_size/4,1)\n",
    "    y_test = np.array(target_data[3*training_size/4:]).reshape(training_size - 3*training_size/4,1)\n",
    "    print '\\n'\n",
    "    policy_scores = []\n",
    "    value_scores = []\n",
    "    for mini_epoch in range(mini_epoch_value):\n",
    "        progress_bar(float(mini_epoch+1) / mini_epoch_value*100, message = \"training value net\")\n",
    "        value.fit(X_train,y_train)\n",
    "        value_scores.append(value.score(X_test,y_test))\n",
    "    zeros = np.zeros(7)\n",
    "    progress_bar(100, message = \"training value net\")#ascthetic only\n",
    "    print '\\n'\n",
    "    policy_targets = [progress_bar(float(i) / training_size*100, message = \"building policy targets\")\n",
    "                      or one_where(value_move(board, 1)) for i,board in enumerate(training_data)]\n",
    "    z_train = np.array(policy_targets[:3*training_size/4]).reshape(3*training_size/4,7)\n",
    "    z_test = np.array(policy_targets[3*training_size/4:]).reshape(training_size - 3*training_size/4,7)\n",
    "    progress_bar(100, message = \"building policy targets\")#ascthetic only\n",
    "    print '\\n'\n",
    "    for mini_epoch in range(mini_epoch_policy):\n",
    "        \n",
    "        progress_bar(float(mini_epoch+1) / mini_epoch_policy*100,message = \"training policy net\")\n",
    "        policy.fit(X_train,z_train)\n",
    "        policy_scores.append(policy.score(X_test,z_test))\n",
    "    progress_bar(100,message = \"training policy net\") # ascthetic only\n",
    "#     print \"\\n\"\n",
    "    pd.DataFrame(list(izip(value_scores,policy_scores, fillvalue = float(\"nan\"))),columns=['value','policy']).plot()\n",
    "    plt.show()\n",
    "    print \"value = {}, policy = {} epoch {} complete\".format(value.score(X_test,y_test),policy.score(X_test,z_test), epoch)\n",
    "    validate()\n",
    "    temperature = (temperature - min_temperature)*0.9 + min_temperature\n",
    "           \n"
   ]
  },
  {
   "cell_type": "code",
   "execution_count": 26,
   "metadata": {
    "collapsed": false
   },
   "outputs": [],
   "source": [
    "with open('value.pkl','wb') as out_strm:\n",
    "    pickle.dump(value,out_strm)\n",
    "with open('policy.pkl','wb') as out_strm:\n",
    "    pickle.dump(policy,out_strm)\n",
    "with open('parameters.pkl','wb') as out_strm:\n",
    "    pickle.dump((training_data, target_data, current_write_index, temperature),out_strm)"
   ]
  },
  {
   "cell_type": "code",
   "execution_count": 3,
   "metadata": {
    "collapsed": false
   },
   "outputs": [],
   "source": [
    "import pickle\n",
    "with open('value.pkl','rb') as in_strm:\n",
    "    value = pickle.load(in_strm)\n",
    "with open('policy.pkl','rb') as in_strm:\n",
    "    policy = pickle.load(in_strm)\n",
    "with open('parameters.pkl','rb') as in_strm:\n",
    "    (training_data, target_data, current_write_index, temperature) = pickle.load(in_strm)"
   ]
  },
  {
   "cell_type": "code",
   "execution_count": 46,
   "metadata": {
    "collapsed": false
   },
   "outputs": [
    {
     "data": {
      "text/plain": [
       "[[array([[ 0.0466457 , -0.07133264,  0.2342066 , ...,  0.03920786,\n",
       "          -0.20146405, -0.06277037],\n",
       "         [ 0.03279254,  0.00865591, -0.01103926, ...,  0.00587294,\n",
       "           0.01153982,  0.01863816],\n",
       "         [-0.16357989, -0.01830044,  0.16933636, ..., -0.04973442,\n",
       "           0.10721005, -0.18843732],\n",
       "         ..., \n",
       "         [ 0.01907351, -0.50830453, -0.05252841, ..., -0.05635788,\n",
       "          -0.49810907,  0.10385911],\n",
       "         [-0.05858975,  0.03139976, -0.05019115, ..., -0.07007032,\n",
       "           0.32351761, -0.06192668],\n",
       "         [-0.03003535, -0.03596934, -0.03544863, ..., -0.04156087,\n",
       "          -0.01103674, -0.09769449]]),\n",
       "  array([ -3.20485929e-02,   2.66550201e-01,   1.61232396e-01,\n",
       "          -4.97888407e-02,   2.50015639e-01,   4.48666947e-01,\n",
       "           2.73101951e-01,   3.36866856e-02,  -3.27886394e-01,\n",
       "           1.19705690e-01,   8.18637389e-02,  -1.40617534e-01,\n",
       "          -1.18001511e-01,  -8.90684039e-02,  -2.69158854e-02,\n",
       "          -7.12719895e-02,  -7.36729505e-03,  -7.71033071e-01,\n",
       "          -4.79784785e-02,  -4.05076980e-01,  -2.48184187e-01,\n",
       "           2.58263920e-01,  -1.95975943e-01,   6.60685398e-02,\n",
       "          -3.90746481e-02,   1.15362823e-01,   4.56161864e-02,\n",
       "           1.83327114e-01,  -2.29618252e-01,   1.01292688e-01,\n",
       "           9.88335755e-02,   4.33567334e-02,  -2.56183990e-02,\n",
       "          -4.28771847e-02,   1.78846178e-01,  -5.74942351e-02,\n",
       "          -1.13000659e-01,   9.74970874e-02,   3.13045762e-02,\n",
       "           2.45149548e-01,   1.82102056e-02,   1.17127108e-01,\n",
       "           9.40134717e-02,   2.38261875e-01,   2.28458588e-01,\n",
       "          -8.50261566e-02,   1.80640039e-01,   5.58409452e-02,\n",
       "          -4.13985521e-01,  -5.52932892e-04,  -1.35074338e-01,\n",
       "           7.85770766e-02,  -3.99367995e-02,   3.64889373e-01,\n",
       "          -1.41689746e-03,  -3.27493838e-02,   2.32197477e-01,\n",
       "           5.82349325e-02,  -5.27519384e-02,   6.12809312e-04,\n",
       "          -1.21101421e-01,  -8.07159729e-02,  -1.39986475e-02,\n",
       "           1.34053264e-01,  -1.86685272e-03,   2.40356461e-01,\n",
       "          -5.10006901e-01,   8.08170368e-02,   1.44650366e-01,\n",
       "           1.49664151e-02,  -2.57505402e-01,   3.12714376e-01,\n",
       "           2.56924096e-02,  -2.42372577e-02,   1.38861692e-01,\n",
       "          -1.71373346e-04,  -1.70649381e-01,  -8.21084589e-02,\n",
       "          -8.60406120e-03,   6.91002994e-02,  -1.40205045e-02,\n",
       "          -1.59336881e-01,  -3.18390149e-01,   3.16248824e-01,\n",
       "           5.66285135e-02,   3.71857558e-01,  -2.35636114e-01,\n",
       "          -8.38306521e-02,  -1.22269486e-01,   3.28409821e-01,\n",
       "          -9.08513530e-02,   9.15695834e-03,  -3.73005165e-03,\n",
       "           5.75760693e-01,  -9.23716716e-03,   9.58585777e-02,\n",
       "           7.10010495e-02,  -1.33689937e-02,  -3.97586116e-02,\n",
       "          -3.75730315e-02,  -1.44116494e-03,   6.15053029e-02,\n",
       "          -7.26772818e-02,   1.01914366e-01,   1.20532917e-01,\n",
       "           2.97379179e-01,   1.07453306e-01,  -3.48028227e-01,\n",
       "          -2.04115215e-01,  -2.42407513e-01,  -4.16245449e-02,\n",
       "           1.41440627e-02,   7.61785473e-03,   9.10290279e-02,\n",
       "           2.73170453e-01,  -7.00095825e-02,   8.74590502e-02,\n",
       "           6.19726416e-02,   1.83298008e-03,   8.36581744e-03,\n",
       "          -3.36519196e-02,  -1.76448485e-01,   5.54071214e-04,\n",
       "           1.09602656e-02,  -4.20585879e-01,   1.18742033e-01,\n",
       "           3.63725833e-02,   2.42755234e-02,  -3.82578445e-01,\n",
       "          -7.25660473e-02,   7.62981662e-04,  -2.57648118e-02,\n",
       "          -6.17202767e-02,  -3.75332961e-02,   8.92313805e-02,\n",
       "          -1.91795594e-01,   4.20538339e-02,   3.85652603e-01,\n",
       "          -4.14675867e-03,  -5.87989919e-02,  -1.45577347e-02,\n",
       "           5.78698534e-02,   1.04680974e-01,   2.64599812e-01,\n",
       "           2.47462761e-01,  -2.10676382e-03,  -4.35677322e-01,\n",
       "          -2.68259365e-01,  -1.03313315e-03,  -4.14762279e-02])],\n",
       " [array([[  8.11046066e-02,   1.52206366e-01,  -1.50660297e-03, ...,\n",
       "            8.46399785e-02,   3.78649285e-02,  -5.33509381e-02],\n",
       "         [ -8.81928182e-02,   2.41985590e-01,   2.10150592e-02, ...,\n",
       "           -4.37160152e-01,   7.62841963e-02,   1.18166549e-01],\n",
       "         [ -1.40801783e-02,  -8.51147489e-02,   4.01515796e-01, ...,\n",
       "           -1.72659780e-01,  -2.24001637e-01,   3.39863657e-03],\n",
       "         ..., \n",
       "         [ -1.09324830e-01,   5.37307552e-01,  -1.54411710e-01, ...,\n",
       "           -4.05524106e-01,  -1.88221829e-01,  -3.89826918e-02],\n",
       "         [ -2.18205440e-04,  -3.80663096e-03,  -1.00716621e-01, ...,\n",
       "           -4.70812109e-01,   3.66030356e-01,  -3.55717033e-02],\n",
       "         [ -7.04875546e-02,   8.20886836e-02,  -2.72804395e-01, ...,\n",
       "            3.20501086e-01,  -2.20405507e-01,   6.90566788e-02]]),\n",
       "  array([ 0.08962419,  0.47245118,  0.23152663,  0.21888593,  0.46443305,\n",
       "          0.2881316 , -0.145147  ])]]"
      ]
     },
     "execution_count": 46,
     "metadata": {},
     "output_type": "execute_result"
    }
   ],
   "source": [
    "p_para"
   ]
  },
  {
   "cell_type": "code",
   "execution_count": 182,
   "metadata": {
    "collapsed": false
   },
   "outputs": [],
   "source": [
    "saved_p = [[array for array in layer[:2]] for layer in saved_p]\n",
    "saved_v = [[array for array in layer[:2]] for layer in saved_v]\n",
    "policy.set_parameters(saved_p)\n",
    "value.set_parameters(saved_v)"
   ]
  },
  {
   "cell_type": "code",
   "execution_count": 175,
   "metadata": {
    "collapsed": false
   },
   "outputs": [
    {
     "name": "stdout",
     "output_type": "stream",
     "text": [
      "[ True  True  True  True  True  True  True  True  True  True  True  True\n",
      "  True  True  True  True  True  True  True  True  True  True  True  True\n",
      "  True  True  True  True  True  True  True  True  True  True  True  True\n",
      "  True  True  True  True  True  True  True  True  True  True  True  True\n",
      "  True  True  True  True  True  True  True  True  True  True  True  True\n",
      "  True  True  True  True  True  True  True  True  True  True  True  True\n",
      "  True  True  True  True  True  True  True  True  True  True  True  True\n",
      "  True  True  True  True  True  True  True  True  True  True  True  True\n",
      "  True  True  True  True  True  True  True  True  True  True  True  True\n",
      "  True  True  True  True  True  True  True  True  True  True  True  True\n",
      "  True  True  True  True  True  True  True  True  True  True  True  True\n",
      "  True  True  True  True  True  True  True  True  True  True  True  True\n",
      "  True  True  True  True  True  True]\n"
     ]
    }
   ],
   "source": [
    "print policy.get_parameters()[0][1]==saved_p[0][1]\n"
   ]
  },
  {
   "cell_type": "code",
   "execution_count": 126,
   "metadata": {
    "collapsed": false
   },
   "outputs": [
    {
     "data": {
      "text/plain": [
       "array([[False, False, False, ..., False, False, False],\n",
       "       [False, False, False, ..., False, False, False],\n",
       "       [False, False, False, ..., False, False, False],\n",
       "       ..., \n",
       "       [False, False, False, ..., False, False, False],\n",
       "       [False, False, False, ..., False, False, False],\n",
       "       [False, False, False, ..., False, False, False]], dtype=bool)"
      ]
     },
     "execution_count": 126,
     "metadata": {},
     "output_type": "execute_result"
    }
   ],
   "source": [
    "np.array(p.get_parameters())[0][0]==np.array(policy.get_parameters())[0][0]"
   ]
  },
  {
   "cell_type": "code",
   "execution_count": 36,
   "metadata": {
    "collapsed": false
   },
   "outputs": [],
   "source": [
    "v_para = value.get_parameters()\n",
    "p_para = policy.get_parameters()"
   ]
  },
  {
   "cell_type": "code",
   "execution_count": 42,
   "metadata": {
    "collapsed": false
   },
   "outputs": [],
   "source": [
    "v_para = [[array for array in layer[:2]] for layer in v_para]\n",
    "p_para = [[array for array in layer[:2]] for layer in p_para]\n",
    "\n",
    "value.set_parameters(v_para) \n",
    "policy.set_parameters(p_para)"
   ]
  },
  {
   "cell_type": "code",
   "execution_count": 19,
   "metadata": {
    "collapsed": false
   },
   "outputs": [],
   "source": [
    "import pickle\n",
    "with open('parameters2', 'rb') as in_strm:\n",
    "        v,p,training_data,target_data,current_write_index = pickle.load(in_strm)"
   ]
  },
  {
   "cell_type": "code",
   "execution_count": 46,
   "metadata": {
    "collapsed": false
   },
   "outputs": [
    {
     "ename": "ValueError",
     "evalue": "too many values to unpack",
     "output_type": "error",
     "traceback": [
      "\u001b[1;31m---------------------------------------------------------------------------\u001b[0m",
      "\u001b[1;31mValueError\u001b[0m                                Traceback (most recent call last)",
      "\u001b[1;32m<ipython-input-46-253242aa06c2>\u001b[0m in \u001b[0;36m<module>\u001b[1;34m()\u001b[0m\n\u001b[1;32m----> 1\u001b[1;33m \u001b[0mpolicy\u001b[0m\u001b[1;33m.\u001b[0m\u001b[0mset_parameters\u001b[0m\u001b[1;33m(\u001b[0m\u001b[0mlist\u001b[0m\u001b[1;33m(\u001b[0m\u001b[0mp\u001b[0m\u001b[1;33m)\u001b[0m\u001b[1;33m)\u001b[0m\u001b[1;33m\u001b[0m\u001b[0m\n\u001b[0m",
      "\u001b[1;32mC:\\Users\\Todd\\Anaconda2\\lib\\site-packages\\sknn\\nn.pyc\u001b[0m in \u001b[0;36mset_parameters\u001b[1;34m(self, storage)\u001b[0m\n\u001b[0;32m    564\u001b[0m             \u001b[0mlayers\u001b[0m \u001b[1;33m=\u001b[0m \u001b[0mstorage\u001b[0m\u001b[1;33m\u001b[0m\u001b[0m\n\u001b[0;32m    565\u001b[0m \u001b[1;33m\u001b[0m\u001b[0m\n\u001b[1;32m--> 566\u001b[1;33m         \u001b[1;32mreturn\u001b[0m \u001b[0mself\u001b[0m\u001b[1;33m.\u001b[0m\u001b[0m_backend\u001b[0m\u001b[1;33m.\u001b[0m\u001b[0m_array_to_mlp\u001b[0m\u001b[1;33m(\u001b[0m\u001b[0mlayers\u001b[0m\u001b[1;33m,\u001b[0m \u001b[0mself\u001b[0m\u001b[1;33m.\u001b[0m\u001b[0m_backend\u001b[0m\u001b[1;33m.\u001b[0m\u001b[0mmlp\u001b[0m\u001b[1;33m)\u001b[0m\u001b[1;33m\u001b[0m\u001b[0m\n\u001b[0m",
      "\u001b[1;32mC:\\Users\\Todd\\Anaconda2\\lib\\site-packages\\sknn\\backend\\lasagne\\mlp.pyc\u001b[0m in \u001b[0;36m_array_to_mlp\u001b[1;34m(self, array, nn)\u001b[0m\n\u001b[0;32m    325\u001b[0m         \u001b[1;32mfor\u001b[0m \u001b[0mlayer\u001b[0m\u001b[1;33m,\u001b[0m \u001b[0mdata\u001b[0m \u001b[1;32min\u001b[0m \u001b[0mzip\u001b[0m\u001b[1;33m(\u001b[0m\u001b[0mnn\u001b[0m\u001b[1;33m,\u001b[0m \u001b[0marray\u001b[0m\u001b[1;33m)\u001b[0m\u001b[1;33m:\u001b[0m\u001b[1;33m\u001b[0m\u001b[0m\n\u001b[0;32m    326\u001b[0m             \u001b[1;32mif\u001b[0m \u001b[0mdata\u001b[0m \u001b[1;32mis\u001b[0m \u001b[0mNone\u001b[0m\u001b[1;33m:\u001b[0m \u001b[1;32mcontinue\u001b[0m\u001b[1;33m\u001b[0m\u001b[0m\n\u001b[1;32m--> 327\u001b[1;33m             \u001b[0mweights\u001b[0m\u001b[1;33m,\u001b[0m \u001b[0mbiases\u001b[0m \u001b[1;33m=\u001b[0m \u001b[0mdata\u001b[0m\u001b[1;33m\u001b[0m\u001b[0m\n\u001b[0m\u001b[0;32m    328\u001b[0m \u001b[1;33m\u001b[0m\u001b[0m\n\u001b[0;32m    329\u001b[0m             \u001b[1;32mwhile\u001b[0m \u001b[1;32mnot\u001b[0m \u001b[0mhasattr\u001b[0m\u001b[1;33m(\u001b[0m\u001b[0mlayer\u001b[0m\u001b[1;33m,\u001b[0m \u001b[1;34m'W'\u001b[0m\u001b[1;33m)\u001b[0m \u001b[1;32mand\u001b[0m \u001b[1;32mnot\u001b[0m \u001b[0mhasattr\u001b[0m\u001b[1;33m(\u001b[0m\u001b[0mlayer\u001b[0m\u001b[1;33m,\u001b[0m \u001b[1;34m'b'\u001b[0m\u001b[1;33m)\u001b[0m\u001b[1;33m:\u001b[0m\u001b[1;33m\u001b[0m\u001b[0m\n",
      "\u001b[1;31mValueError\u001b[0m: too many values to unpack"
     ]
    }
   ],
   "source": [
    "policy.set_parameters(list(p))"
   ]
  },
  {
   "cell_type": "code",
   "execution_count": 35,
   "metadata": {
    "collapsed": false
   },
   "outputs": [
    {
     "data": {
      "text/plain": [
       "array([[-0.40694909]])"
      ]
     },
     "execution_count": 35,
     "metadata": {},
     "output_type": "execute_result"
    }
   ],
   "source": [
    "value.predict(-boards[0].reshape((1,42)))"
   ]
  },
  {
   "cell_type": "code",
   "execution_count": 33,
   "metadata": {
    "collapsed": false
   },
   "outputs": [
    {
     "data": {
      "text/plain": [
       "array([[ 0.,  0.,  0.,  0.,  0.,  0.,  0.],\n",
       "       [ 0.,  0.,  0.,  0.,  0.,  0.,  0.],\n",
       "       [ 0.,  0.,  1.,  0.,  0.,  0.,  0.],\n",
       "       [ 0.,  0.,  1., -1.,  0., -1.,  0.],\n",
       "       [ 0.,  0.,  1.,  1.,  0., -1.,  0.],\n",
       "       [-1.,  0.,  1.,  1.,  0., -1.,  0.]])"
      ]
     },
     "execution_count": 33,
     "metadata": {},
     "output_type": "execute_result"
    }
   ],
   "source": [
    "boards[0]"
   ]
  },
  {
   "cell_type": "code",
   "execution_count": 45,
   "metadata": {
    "collapsed": false
   },
   "outputs": [
    {
     "data": {
      "text/plain": [
       "[Parameters(weights=array([[ 0.10713747, -0.11199324,  0.10277964, ..., -0.03107075,\n",
       "        -0.1648835 , -0.05584284],\n",
       "       [ 0.04986459,  0.06363781,  0.01551032, ...,  0.16507727,\n",
       "        -0.01411279,  0.11935348],\n",
       "       [-0.10634266, -0.03136429,  0.07384725, ..., -0.05273866,\n",
       "         0.07376527, -0.00728419],\n",
       "       ..., \n",
       "       [ 0.16502712, -0.10894664,  0.0820191 , ..., -0.1020957 ,\n",
       "        -0.06141815,  0.11160652],\n",
       "       [ 0.01521472,  0.1271042 , -0.09782301, ..., -0.03381845,\n",
       "         0.1753141 , -0.11578896],\n",
       "       [ 0.06263408, -0.11556657,  0.08329605, ...,  0.071731  ,\n",
       "        -0.04514209, -0.17116802]]), biases=array([  3.77970966e-03,  -2.10656906e-04,   7.74439963e-03,\n",
       "        -8.34223206e-04,   3.78463112e-03,  -3.16353173e-03,\n",
       "        -2.83451546e-04,  -1.95067843e-03,  -5.73721080e-03,\n",
       "        -1.13304378e-03,  -3.90153449e-04,  -3.22483137e-03,\n",
       "        -4.15094938e-03,  -1.76362650e-03,  -7.08357228e-03,\n",
       "        -3.57063931e-05,  -1.15433647e-03,  -1.60776157e-03,\n",
       "        -2.66882938e-03,  -3.76510472e-03,   2.80317041e-04,\n",
       "         4.63123329e-03,  -3.82427413e-03,  -4.49561125e-03,\n",
       "        -4.80987404e-03,  -5.73485398e-03,   1.29983867e-03,\n",
       "         5.44253864e-04,  -7.25816585e-04,   5.17503235e-06,\n",
       "        -2.68216086e-03,  -1.80754708e-03,   3.85854027e-03,\n",
       "        -5.56540078e-03,  -1.52986364e-03,  -1.38803238e-03,\n",
       "         5.08491563e-03,  -3.82990383e-03,   3.06611609e-05,\n",
       "         4.38493849e-04,  -9.90029969e-04,  -1.40858648e-03,\n",
       "        -7.59886654e-03,   3.59886604e-04,   9.24207137e-04,\n",
       "         8.10180232e-04,   1.38232831e-03,  -9.67838459e-03,\n",
       "         3.28343574e-03,   2.50617543e-03,   2.00173521e-03,\n",
       "        -4.57919608e-03,  -5.45122066e-03,  -3.25475842e-03,\n",
       "         6.02577353e-03,  -4.72763330e-03,   7.09891251e-04,\n",
       "         1.86217173e-03,   3.25641527e-03,   5.82850830e-03,\n",
       "         9.48471869e-04,   4.98406480e-03,  -1.60922341e-03,\n",
       "        -5.77936308e-03,  -1.93266209e-03,   9.69846245e-03,\n",
       "        -6.38234625e-04,   1.81270564e-03,   1.70943300e-03,\n",
       "        -8.91813883e-03,   3.21516848e-04,  -8.65315769e-04,\n",
       "        -3.10603845e-04,   2.69735284e-03,  -4.08154576e-03,\n",
       "         9.12792495e-04,   7.33187140e-03,  -1.79647155e-03,\n",
       "        -5.10223613e-04,  -3.47487933e-03,   1.41543408e-03,\n",
       "        -1.45553143e-04,   2.54090439e-03,  -1.71526527e-03,\n",
       "        -3.25415364e-03,  -1.65076823e-03,   8.78296217e-04,\n",
       "        -1.90069455e-03,  -7.46378577e-03,  -6.42802452e-04,\n",
       "         2.21095497e-03,   4.93958033e-03,  -1.12247203e-02,\n",
       "        -7.57200869e-04,  -1.09152728e-02,   5.31735562e-03,\n",
       "         2.45712103e-03,   1.03081691e-03,  -6.41707689e-03,\n",
       "        -4.38648674e-04,   1.86465110e-04,   2.95297060e-03,\n",
       "        -6.80543699e-03,   1.82156502e-03,  -1.69596170e-03,\n",
       "         4.40653139e-04,  -4.85194029e-03,   2.39092453e-03,\n",
       "         7.79432286e-03,   3.22665479e-03,  -5.49499806e-03,\n",
       "         4.16693781e-03,   1.34599589e-03,   1.85467794e-03,\n",
       "        -7.18325121e-03,  -3.01470125e-03,   3.47228337e-03,\n",
       "        -3.41298337e-03,  -6.17662760e-03,  -1.76110158e-03,\n",
       "        -2.08290008e-03,   1.91456286e-03,   1.71460594e-03,\n",
       "        -1.93161767e-03,  -2.08792850e-03,   3.64784721e-03,\n",
       "         9.26927397e-03,  -6.36163068e-03,  -4.26087908e-04,\n",
       "        -1.63015191e-03,  -1.43186216e-03,  -1.17145382e-03,\n",
       "         2.19501655e-03,   1.26638342e-03,  -2.87553043e-04,\n",
       "         2.76258619e-03,  -7.36099498e-03,   1.84608706e-03,\n",
       "         1.07921452e-02,  -6.60280492e-03,  -1.07648829e-02,\n",
       "        -1.87350706e-03,  -1.35411706e-02,   4.07304410e-03,\n",
       "         6.06005580e-03,  -7.62712293e-03,   3.35675614e-04,\n",
       "         5.20659777e-04,   8.75921020e-04,  -2.07235153e-03]), layer=u'hidden0'),\n",
       " Parameters(weights=array([[ 0.07855731, -0.18857013,  0.04971826, ...,  0.01476237,\n",
       "        -0.00107107, -0.19460563],\n",
       "       [-0.05395177,  0.03932808,  0.13626533, ..., -0.00879228,\n",
       "         0.08885262, -0.07293174],\n",
       "       [-0.06225829, -0.12177251,  0.02245206, ..., -0.1826568 ,\n",
       "         0.06890089,  0.07506852],\n",
       "       ..., \n",
       "       [ 0.02959527,  0.02089928, -0.12191042, ..., -0.16525104,\n",
       "         0.19191569,  0.11025531],\n",
       "       [ 0.16365469, -0.12253921,  0.17829902, ..., -0.01454385,\n",
       "         0.12539755, -0.06551677],\n",
       "       [-0.02946534, -0.14618075, -0.14774627, ...,  0.05905916,\n",
       "         0.10764649,  0.0181425 ]]), biases=array([-0.00289542, -0.00891585, -0.00464961, -0.01540573, -0.06768468,\n",
       "       -0.0128858 , -0.02526067]), layer=u'output')]"
      ]
     },
     "execution_count": 45,
     "metadata": {},
     "output_type": "execute_result"
    }
   ],
   "source": [
    "policy.get_parameters()"
   ]
  },
  {
   "cell_type": "code",
   "execution_count": 128,
   "metadata": {
    "collapsed": false
   },
   "outputs": [
    {
     "name": "stdout",
     "output_type": "stream",
     "text": [
      "[[  0.00000000e+00   1.05718265e-01   2.05222898e-02   0.00000000e+00\n",
      "    5.55111512e-17   0.00000000e+00   6.81224115e-01]]\n",
      "[1, 2, 4, 0, 3]\n",
      "[ 0.06019007  0.04614589 -1.          0.00267254  0.05088697  0.          0.        ]\n",
      "0\n"
     ]
    }
   ],
   "source": [
    "print policy.predict(X_train[i].reshape((1,42)))\n",
    "print policy_move(X_train[i].reshape((6,7)),1,policy)\n",
    "print value_move(X_train[i].reshape((6,7)),1)"
   ]
  },
  {
   "cell_type": "code",
   "execution_count": 120,
   "metadata": {
    "collapsed": false
   },
   "outputs": [
    {
     "name": "stdout",
     "output_type": "stream",
     "text": [
      "[0, 1, 2, 3, 4]\n",
      "[ 0.06019007  0.04614589  0.17373381  0.00267254  0.05088697  0.          0.        ]\n",
      "2\n"
     ]
    }
   ],
   "source": [
    "dummy_board = X_train[14].reshape((6,7))\n",
    "options = cccc.available_moves(dummy_board)\n",
    "print options\n",
    "\n",
    "moves = np.zeros(7)\n",
    "move_values = np.zeros(7)\n",
    "\n",
    "for choice in options:\n",
    "    update_move(dummy_board, choice, 1)\n",
    "    reshapeable = np.copy(dummy_board)\n",
    "    move_values[choice] = -1 * value.predict(-1 * reshapeable.reshape((1,42)))\n",
    "    unupdate_move(dummy_board, choice)\n",
    "print move_values\n",
    "print max(options, key = lambda x:  move_values[x])"
   ]
  },
  {
   "cell_type": "code",
   "execution_count": 30,
   "metadata": {
    "collapsed": false
   },
   "outputs": [
    {
     "name": "stdout",
     "output_type": "stream",
     "text": [
      "value = 0.120798554732, policy = -0.437051063332 epoch 0 complete\n",
      "value = 0.101803571257, policy = -0.284918307083 epoch 1 complete\n",
      "value = 0.09770518044, policy = -0.251997171308 epoch 2 complete\n",
      "value = 0.0860769768841, policy = -0.2462004443 epoch 3 complete\n",
      "value = 0.113245520518, policy = -0.31231018018 epoch 4 complete\n",
      "value = 0.115281285356, policy = -0.300428208949 epoch 5 complete\n",
      "value = 0.0599270240985, policy = -0.293244037285 epoch 6 complete\n",
      "value = 0.0996128519659, policy = -0.270490540291 epoch 7 complete\n",
      "value = 0.0959149105556, policy = -0.26012062539 epoch 8 complete\n",
      "value = 0.101433792129, policy = -0.218059443375 epoch 9 complete\n",
      "value = 0.0986670612722, policy = -0.233956916815 epoch 10 complete\n",
      "value = 0.0932080401872, policy = -0.203944635185 epoch 11 complete\n",
      "value = 0.0940497570382, policy = -0.184805294441 epoch 12 complete\n",
      "value = 0.084254668461, policy = -0.191887068805 epoch 13 complete\n",
      "value = 0.0949794012475, policy = -0.186291115696 epoch 14 complete\n",
      "value = 0.095449393021, policy = -0.174000242701 epoch 15 complete\n",
      "value = 0.0968017853041, policy = -0.178450742049 epoch 16 complete\n",
      "value = 0.100613023182, policy = -0.168662488204 epoch 17 complete\n",
      "value = 0.0958879350734, policy = -0.167480724581 epoch 18 complete\n",
      "value = 0.1016378116, policy = -0.160790500255 epoch 19 complete\n",
      "value = 0.0994382673532, policy = -0.164414759912 epoch 20 complete\n",
      "value = 0.105044686148, policy = -0.202602243885 epoch 21 complete\n",
      "value = 0.0828720129013, policy = -0.230053104775 epoch 22 complete\n",
      "value = 0.0875082553509, policy = -0.220174443248 epoch 23 complete\n",
      "value = 0.0871483246298, policy = -0.221558837709 epoch 24 complete\n",
      "value = 0.0866073494324, policy = -0.220393484809 epoch 25 complete\n",
      "value = 0.0947331607409, policy = -0.256845872184 epoch 26 complete\n",
      "value = 0.106598125188, policy = -0.25627406536 epoch 27 complete\n",
      "value = 0.122173194415, policy = -0.221278524423 epoch 28 complete\n",
      "value = 0.124905264063, policy = -0.222947143827 epoch 29 complete\n",
      "value = 0.109140221448, policy = -0.243051968948 epoch 30 complete\n",
      "value = 0.117639881918, policy = -0.249711134058 epoch 31 complete\n",
      "value = 0.117168502539, policy = -0.251860888169 epoch 32 complete\n",
      "value = 0.136658369751, policy = -0.218063589526 epoch 33 complete\n",
      "value = 0.094938027556, policy = -0.256156314819 epoch 34 complete\n",
      "value = 0.0575717540234, policy = -0.214529668725 epoch 35 complete\n",
      "value = 0.0747648268016, policy = -0.22517600533 epoch 36 complete\n",
      "value = 0.0657758530553, policy = -0.239662421473 epoch 37 complete\n",
      "value = 0.0669236269845, policy = -0.227467185666 epoch 38 complete\n",
      "value = 0.0734508607136, policy = -0.222500568359 epoch 39 complete\n",
      "value = 0.0817809846697, policy = -0.225042460856 epoch 40 complete\n",
      "value = 0.0790331288471, policy = -0.192996448048 epoch 41 complete\n",
      "value = 0.0788467179161, policy = -0.158075797577 epoch 42 complete\n",
      "value = 0.0778607259032, policy = -0.159202605386 epoch 43 complete\n",
      "value = 0.0789780437079, policy = -0.249677352662 epoch 44 complete\n",
      "value = 0.0757963576098, policy = -0.231892418696 epoch 45 complete\n",
      "value = 0.0755854352819, policy = -0.234795205472 epoch 46 complete\n",
      "value = 0.0720255642555, policy = -0.287087538604 epoch 47 complete\n",
      "value = 0.0739534458311, policy = -0.261409272066 epoch 48 complete\n",
      "value = 0.0805412281351, policy = -0.274925625937 epoch 49 complete\n",
      "value = 0.0945501122899, policy = -0.151275215355 epoch 50 complete\n",
      "value = 0.0902892826169, policy = -0.180672949239 epoch 51 complete\n",
      "value = 0.0981806064964, policy = -0.178054966164 epoch 52 complete\n",
      "value = 0.0900654379121, policy = -0.206246453372 epoch 53 complete\n",
      "value = 0.0974580007008, policy = -0.153836409734 epoch 54 complete\n",
      "value = 0.114904689653, policy = -0.149863120747 epoch 55 complete\n",
      "value = 0.105830822689, policy = -0.151296695959 epoch 56 complete\n",
      "value = 0.0831381337143, policy = -0.152911876356 epoch 57 complete\n",
      "value = 0.0706982134025, policy = -0.210024267693 epoch 58 complete\n",
      "value = 0.0697407154281, policy = -0.230419534827 epoch 59 complete\n",
      "value = 0.0674189617015, policy = -0.230549363639 epoch 60 complete\n",
      "value = 0.0856262235676, policy = -0.235336850166 epoch 61 complete\n",
      "value = 0.0821594014761, policy = -0.235122665043 epoch 62 complete\n",
      "value = 0.0769765979669, policy = -0.22084992891 epoch 63 complete\n",
      "value = 0.0890973720876, policy = -0.215759998078 epoch 64 complete\n",
      "value = 0.0814455838813, policy = -0.221635514001 epoch 65 complete\n",
      "value = 0.0800916701593, policy = -0.195389830649 epoch 66 complete\n",
      "value = 0.0739074168956, policy = -0.190766182638 epoch 67 complete\n",
      "value = 0.0745867634236, policy = -0.206773852972 epoch 68 complete\n",
      "value = 0.0594015020982, policy = -0.246547777668 epoch 69 complete\n",
      "value = 0.0630738092368, policy = -0.230844174587 epoch 70 complete\n",
      "value = 0.0762496252715, policy = -0.216253671949 epoch 71 complete\n",
      "value = 0.0570375977476, policy = -0.201079616743 epoch 72 complete\n",
      "value = 0.0751168879343, policy = -0.195734998219 epoch 73 complete\n",
      "value = 0.0742359777314, policy = -0.212234602599 epoch 74 complete\n",
      "value = 0.0799485677261, policy = -0.219403018174 epoch 75 complete\n",
      "value = 0.083532048742, policy = -0.218966807153 epoch 76 complete\n",
      "value = 0.0864330244178, policy = -0.24380362428 epoch 77 complete\n",
      "value = 0.0968672142387, policy = -0.239918004168 epoch 78 complete\n",
      "value = 0.0978088332396, policy = -0.209986166628 epoch 79 complete\n",
      "value = 0.0942173703216, policy = -0.209674318998 epoch 80 complete\n",
      "value = 0.0612897972725, policy = -0.182130220277 epoch 81 complete\n"
     ]
    },
    {
     "ename": "KeyboardInterrupt",
     "evalue": "",
     "output_type": "error",
     "traceback": [
      "\u001b[1;31m---------------------------------------------------------------------------\u001b[0m",
      "\u001b[1;31mKeyboardInterrupt\u001b[0m                         Traceback (most recent call last)",
      "\u001b[1;32m<ipython-input-30-8d611af9527f>\u001b[0m in \u001b[0;36m<module>\u001b[1;34m()\u001b[0m\n\u001b[0;32m      3\u001b[0m \u001b[1;32mfor\u001b[0m \u001b[0mepoch\u001b[0m \u001b[1;32min\u001b[0m \u001b[0mrange\u001b[0m\u001b[1;33m(\u001b[0m\u001b[1;36m100\u001b[0m\u001b[1;33m)\u001b[0m\u001b[1;33m:\u001b[0m\u001b[1;33m\u001b[0m\u001b[0m\n\u001b[0;32m      4\u001b[0m \u001b[1;33m\u001b[0m\u001b[0m\n\u001b[1;32m----> 5\u001b[1;33m     \u001b[0mvalue\u001b[0m\u001b[1;33m.\u001b[0m\u001b[0mfit\u001b[0m\u001b[1;33m(\u001b[0m\u001b[0mX_train\u001b[0m\u001b[1;33m,\u001b[0m\u001b[0my_train\u001b[0m\u001b[1;33m)\u001b[0m\u001b[1;33m\u001b[0m\u001b[0m\n\u001b[0m\u001b[0;32m      6\u001b[0m     \u001b[0mpolicy\u001b[0m\u001b[1;33m.\u001b[0m\u001b[0mfit\u001b[0m\u001b[1;33m(\u001b[0m\u001b[0mX_train\u001b[0m\u001b[1;33m,\u001b[0m\u001b[0mz_train\u001b[0m\u001b[1;33m)\u001b[0m\u001b[1;33m\u001b[0m\u001b[0m\n\u001b[0;32m      7\u001b[0m \u001b[1;33m\u001b[0m\u001b[0m\n",
      "\u001b[1;32mC:\\Users\\Todd\\Anaconda2\\lib\\site-packages\\sknn\\mlp.pyc\u001b[0m in \u001b[0;36mfit\u001b[1;34m(self, X, y, w)\u001b[0m\n\u001b[0;32m    291\u001b[0m             \u001b[0mself\u001b[0m\u001b[1;33m.\u001b[0m\u001b[0mvalid_set\u001b[0m \u001b[1;33m=\u001b[0m \u001b[0mself\u001b[0m\u001b[1;33m.\u001b[0m\u001b[0m_reshape\u001b[0m\u001b[1;33m(\u001b[0m\u001b[1;33m*\u001b[0m\u001b[0mself\u001b[0m\u001b[1;33m.\u001b[0m\u001b[0mvalid_set\u001b[0m\u001b[1;33m)\u001b[0m\u001b[1;33m\u001b[0m\u001b[0m\n\u001b[0;32m    292\u001b[0m \u001b[1;33m\u001b[0m\u001b[0m\n\u001b[1;32m--> 293\u001b[1;33m         \u001b[1;32mreturn\u001b[0m \u001b[0msuper\u001b[0m\u001b[1;33m(\u001b[0m\u001b[0mRegressor\u001b[0m\u001b[1;33m,\u001b[0m \u001b[0mself\u001b[0m\u001b[1;33m)\u001b[0m\u001b[1;33m.\u001b[0m\u001b[0m_fit\u001b[0m\u001b[1;33m(\u001b[0m\u001b[0mX\u001b[0m\u001b[1;33m,\u001b[0m \u001b[0my\u001b[0m\u001b[1;33m,\u001b[0m \u001b[0mw\u001b[0m\u001b[1;33m)\u001b[0m\u001b[1;33m\u001b[0m\u001b[0m\n\u001b[0m\u001b[0;32m    294\u001b[0m \u001b[1;33m\u001b[0m\u001b[0m\n\u001b[0;32m    295\u001b[0m     \u001b[1;32mdef\u001b[0m \u001b[0mpredict\u001b[0m\u001b[1;33m(\u001b[0m\u001b[0mself\u001b[0m\u001b[1;33m,\u001b[0m \u001b[0mX\u001b[0m\u001b[1;33m)\u001b[0m\u001b[1;33m:\u001b[0m\u001b[1;33m\u001b[0m\u001b[0m\n",
      "\u001b[1;32mC:\\Users\\Todd\\Anaconda2\\lib\\site-packages\\sknn\\mlp.pyc\u001b[0m in \u001b[0;36m_fit\u001b[1;34m(self, X, y, w)\u001b[0m\n\u001b[0;32m    230\u001b[0m \u001b[1;33m\u001b[0m\u001b[0m\n\u001b[0;32m    231\u001b[0m         \u001b[1;32mtry\u001b[0m\u001b[1;33m:\u001b[0m\u001b[1;33m\u001b[0m\u001b[0m\n\u001b[1;32m--> 232\u001b[1;33m             \u001b[0mself\u001b[0m\u001b[1;33m.\u001b[0m\u001b[0m_train\u001b[0m\u001b[1;33m(\u001b[0m\u001b[0mX\u001b[0m\u001b[1;33m,\u001b[0m \u001b[0my\u001b[0m\u001b[1;33m,\u001b[0m \u001b[0mw\u001b[0m\u001b[1;33m)\u001b[0m\u001b[1;33m\u001b[0m\u001b[0m\n\u001b[0m\u001b[0;32m    233\u001b[0m         \u001b[1;32mexcept\u001b[0m \u001b[0mRuntimeError\u001b[0m \u001b[1;32mas\u001b[0m \u001b[0me\u001b[0m\u001b[1;33m:\u001b[0m\u001b[1;33m\u001b[0m\u001b[0m\n\u001b[0;32m    234\u001b[0m             log.error(\"\\n{}{}{}\\n\\n{}\\n\".format(\n",
      "\u001b[1;32mC:\\Users\\Todd\\Anaconda2\\lib\\site-packages\\sknn\\mlp.pyc\u001b[0m in \u001b[0;36m_train\u001b[1;34m(self, X, y, w)\u001b[0m\n\u001b[0;32m    200\u001b[0m \u001b[1;33m\u001b[0m\u001b[0m\n\u001b[0;32m    201\u001b[0m         \u001b[0mself\u001b[0m\u001b[1;33m.\u001b[0m\u001b[0m_do_callback\u001b[0m\u001b[1;33m(\u001b[0m\u001b[1;34m'on_train_finish'\u001b[0m\u001b[1;33m,\u001b[0m \u001b[0mlocals\u001b[0m\u001b[1;33m(\u001b[0m\u001b[1;33m)\u001b[0m\u001b[1;33m)\u001b[0m\u001b[1;33m\u001b[0m\u001b[0m\n\u001b[1;32m--> 202\u001b[1;33m         \u001b[0mself\u001b[0m\u001b[1;33m.\u001b[0m\u001b[0m_backend\u001b[0m\u001b[1;33m.\u001b[0m\u001b[0m_array_to_mlp\u001b[0m\u001b[1;33m(\u001b[0m\u001b[0mbest_params\u001b[0m\u001b[1;33m,\u001b[0m \u001b[0mself\u001b[0m\u001b[1;33m.\u001b[0m\u001b[0m_backend\u001b[0m\u001b[1;33m.\u001b[0m\u001b[0mmlp\u001b[0m\u001b[1;33m)\u001b[0m\u001b[1;33m\u001b[0m\u001b[0m\n\u001b[0m\u001b[0;32m    203\u001b[0m \u001b[1;33m\u001b[0m\u001b[0m\n\u001b[0;32m    204\u001b[0m     \u001b[1;32mdef\u001b[0m \u001b[0m_fit\u001b[0m\u001b[1;33m(\u001b[0m\u001b[0mself\u001b[0m\u001b[1;33m,\u001b[0m \u001b[0mX\u001b[0m\u001b[1;33m,\u001b[0m \u001b[0my\u001b[0m\u001b[1;33m,\u001b[0m \u001b[0mw\u001b[0m\u001b[1;33m=\u001b[0m\u001b[0mNone\u001b[0m\u001b[1;33m)\u001b[0m\u001b[1;33m:\u001b[0m\u001b[1;33m\u001b[0m\u001b[0m\n",
      "\u001b[1;32mC:\\Users\\Todd\\Anaconda2\\lib\\site-packages\\sknn\\backend\\lasagne\\mlp.pyc\u001b[0m in \u001b[0;36m_array_to_mlp\u001b[1;34m(self, array, nn)\u001b[0m\n\u001b[0;32m    330\u001b[0m                 \u001b[0mlayer\u001b[0m \u001b[1;33m=\u001b[0m \u001b[0mlayer\u001b[0m\u001b[1;33m.\u001b[0m\u001b[0minput_layer\u001b[0m\u001b[1;33m\u001b[0m\u001b[0m\n\u001b[0;32m    331\u001b[0m \u001b[1;33m\u001b[0m\u001b[0m\n\u001b[1;32m--> 332\u001b[1;33m             \u001b[0mws\u001b[0m \u001b[1;33m=\u001b[0m \u001b[0mtuple\u001b[0m\u001b[1;33m(\u001b[0m\u001b[0mlayer\u001b[0m\u001b[1;33m.\u001b[0m\u001b[0mW\u001b[0m\u001b[1;33m.\u001b[0m\u001b[0mshape\u001b[0m\u001b[1;33m.\u001b[0m\u001b[0meval\u001b[0m\u001b[1;33m(\u001b[0m\u001b[1;33m)\u001b[0m\u001b[1;33m)\u001b[0m\u001b[1;33m\u001b[0m\u001b[0m\n\u001b[0m\u001b[0;32m    333\u001b[0m             \u001b[1;32massert\u001b[0m \u001b[0mws\u001b[0m \u001b[1;33m==\u001b[0m \u001b[0mweights\u001b[0m\u001b[1;33m.\u001b[0m\u001b[0mshape\u001b[0m\u001b[1;33m,\u001b[0m \u001b[1;34m\"Layer weights shape mismatch: %r != %r\"\u001b[0m \u001b[1;33m%\u001b[0m\u001b[0;31m\\\u001b[0m\u001b[1;33m\u001b[0m\u001b[0m\n\u001b[0;32m    334\u001b[0m                                         \u001b[1;33m(\u001b[0m\u001b[0mws\u001b[0m\u001b[1;33m,\u001b[0m \u001b[0mweights\u001b[0m\u001b[1;33m.\u001b[0m\u001b[0mshape\u001b[0m\u001b[1;33m)\u001b[0m\u001b[1;33m\u001b[0m\u001b[0m\n",
      "\u001b[1;32mC:\\Users\\Todd\\Anaconda2\\lib\\site-packages\\theano\\gof\\graph.pyc\u001b[0m in \u001b[0;36meval\u001b[1;34m(self, inputs_to_values)\u001b[0m\n\u001b[0;32m    410\u001b[0m         \u001b[0minputs\u001b[0m \u001b[1;33m=\u001b[0m \u001b[0mtuple\u001b[0m\u001b[1;33m(\u001b[0m\u001b[0msorted\u001b[0m\u001b[1;33m(\u001b[0m\u001b[0minputs_to_values\u001b[0m\u001b[1;33m.\u001b[0m\u001b[0mkeys\u001b[0m\u001b[1;33m(\u001b[0m\u001b[1;33m)\u001b[0m\u001b[1;33m,\u001b[0m \u001b[0mkey\u001b[0m\u001b[1;33m=\u001b[0m\u001b[0mid\u001b[0m\u001b[1;33m)\u001b[0m\u001b[1;33m)\u001b[0m\u001b[1;33m\u001b[0m\u001b[0m\n\u001b[0;32m    411\u001b[0m         \u001b[1;32mif\u001b[0m \u001b[0minputs\u001b[0m \u001b[1;32mnot\u001b[0m \u001b[1;32min\u001b[0m \u001b[0mself\u001b[0m\u001b[1;33m.\u001b[0m\u001b[0m_fn_cache\u001b[0m\u001b[1;33m:\u001b[0m\u001b[1;33m\u001b[0m\u001b[0m\n\u001b[1;32m--> 412\u001b[1;33m             \u001b[0mself\u001b[0m\u001b[1;33m.\u001b[0m\u001b[0m_fn_cache\u001b[0m\u001b[1;33m[\u001b[0m\u001b[0minputs\u001b[0m\u001b[1;33m]\u001b[0m \u001b[1;33m=\u001b[0m \u001b[0mtheano\u001b[0m\u001b[1;33m.\u001b[0m\u001b[0mfunction\u001b[0m\u001b[1;33m(\u001b[0m\u001b[0minputs\u001b[0m\u001b[1;33m,\u001b[0m \u001b[0mself\u001b[0m\u001b[1;33m)\u001b[0m\u001b[1;33m\u001b[0m\u001b[0m\n\u001b[0m\u001b[0;32m    413\u001b[0m         \u001b[0margs\u001b[0m \u001b[1;33m=\u001b[0m \u001b[1;33m[\u001b[0m\u001b[0minputs_to_values\u001b[0m\u001b[1;33m[\u001b[0m\u001b[0mparam\u001b[0m\u001b[1;33m]\u001b[0m \u001b[1;32mfor\u001b[0m \u001b[0mparam\u001b[0m \u001b[1;32min\u001b[0m \u001b[0minputs\u001b[0m\u001b[1;33m]\u001b[0m\u001b[1;33m\u001b[0m\u001b[0m\n\u001b[0;32m    414\u001b[0m \u001b[1;33m\u001b[0m\u001b[0m\n",
      "\u001b[1;32mC:\\Users\\Todd\\Anaconda2\\lib\\site-packages\\theano\\compile\\function.pyc\u001b[0m in \u001b[0;36mfunction\u001b[1;34m(inputs, outputs, mode, updates, givens, no_default_updates, accept_inplace, name, rebuild_strict, allow_input_downcast, profile, on_unused_input)\u001b[0m\n\u001b[0;32m    314\u001b[0m                    \u001b[0mon_unused_input\u001b[0m\u001b[1;33m=\u001b[0m\u001b[0mon_unused_input\u001b[0m\u001b[1;33m,\u001b[0m\u001b[1;33m\u001b[0m\u001b[0m\n\u001b[0;32m    315\u001b[0m                    \u001b[0mprofile\u001b[0m\u001b[1;33m=\u001b[0m\u001b[0mprofile\u001b[0m\u001b[1;33m,\u001b[0m\u001b[1;33m\u001b[0m\u001b[0m\n\u001b[1;32m--> 316\u001b[1;33m                    output_keys=output_keys)\n\u001b[0m\u001b[0;32m    317\u001b[0m     \u001b[1;31m# We need to add the flag check_aliased inputs if we have any mutable or\u001b[0m\u001b[1;33m\u001b[0m\u001b[1;33m\u001b[0m\u001b[0m\n\u001b[0;32m    318\u001b[0m     \u001b[1;31m# borrowed used defined inputs\u001b[0m\u001b[1;33m\u001b[0m\u001b[1;33m\u001b[0m\u001b[0m\n",
      "\u001b[1;32mC:\\Users\\Todd\\Anaconda2\\lib\\site-packages\\theano\\compile\\pfunc.pyc\u001b[0m in \u001b[0;36mpfunc\u001b[1;34m(params, outputs, mode, updates, givens, no_default_updates, accept_inplace, name, rebuild_strict, allow_input_downcast, profile, on_unused_input, output_keys)\u001b[0m\n\u001b[0;32m    521\u001b[0m                          \u001b[0maccept_inplace\u001b[0m\u001b[1;33m=\u001b[0m\u001b[0maccept_inplace\u001b[0m\u001b[1;33m,\u001b[0m \u001b[0mname\u001b[0m\u001b[1;33m=\u001b[0m\u001b[0mname\u001b[0m\u001b[1;33m,\u001b[0m\u001b[1;33m\u001b[0m\u001b[0m\n\u001b[0;32m    522\u001b[0m                          \u001b[0mprofile\u001b[0m\u001b[1;33m=\u001b[0m\u001b[0mprofile\u001b[0m\u001b[1;33m,\u001b[0m \u001b[0mon_unused_input\u001b[0m\u001b[1;33m=\u001b[0m\u001b[0mon_unused_input\u001b[0m\u001b[1;33m,\u001b[0m\u001b[1;33m\u001b[0m\u001b[0m\n\u001b[1;32m--> 523\u001b[1;33m                          output_keys=output_keys)\n\u001b[0m\u001b[0;32m    524\u001b[0m \u001b[1;33m\u001b[0m\u001b[0m\n\u001b[0;32m    525\u001b[0m \u001b[1;33m\u001b[0m\u001b[0m\n",
      "\u001b[1;32mC:\\Users\\Todd\\Anaconda2\\lib\\site-packages\\theano\\compile\\function_module.pyc\u001b[0m in \u001b[0;36morig_function\u001b[1;34m(inputs, outputs, mode, accept_inplace, name, profile, on_unused_input, output_keys)\u001b[0m\n\u001b[0;32m   1523\u001b[0m                    \u001b[0mprofile\u001b[0m\u001b[1;33m=\u001b[0m\u001b[0mprofile\u001b[0m\u001b[1;33m,\u001b[0m\u001b[1;33m\u001b[0m\u001b[0m\n\u001b[0;32m   1524\u001b[0m                    \u001b[0mon_unused_input\u001b[0m\u001b[1;33m=\u001b[0m\u001b[0mon_unused_input\u001b[0m\u001b[1;33m,\u001b[0m\u001b[1;33m\u001b[0m\u001b[0m\n\u001b[1;32m-> 1525\u001b[1;33m                    \u001b[0moutput_keys\u001b[0m\u001b[1;33m=\u001b[0m\u001b[0moutput_keys\u001b[0m\u001b[1;33m)\u001b[0m\u001b[1;33m.\u001b[0m\u001b[0mcreate\u001b[0m\u001b[1;33m(\u001b[0m\u001b[1;33m\u001b[0m\u001b[0m\n\u001b[0m\u001b[0;32m   1526\u001b[0m             defaults)\n\u001b[0;32m   1527\u001b[0m \u001b[1;33m\u001b[0m\u001b[0m\n",
      "\u001b[1;32mC:\\Users\\Todd\\Anaconda2\\lib\\site-packages\\theano\\compile\\function_module.pyc\u001b[0m in \u001b[0;36m__init__\u001b[1;34m(self, inputs, outputs, mode, accept_inplace, function_builder, profile, on_unused_input, fgraph, output_keys)\u001b[0m\n\u001b[0;32m   1169\u001b[0m \u001b[1;33m\u001b[0m\u001b[0m\n\u001b[0;32m   1170\u001b[0m         \u001b[1;31m# Check if some input variables are unused\u001b[0m\u001b[1;33m\u001b[0m\u001b[1;33m\u001b[0m\u001b[0m\n\u001b[1;32m-> 1171\u001b[1;33m         \u001b[0mself\u001b[0m\u001b[1;33m.\u001b[0m\u001b[0m_check_unused_inputs\u001b[0m\u001b[1;33m(\u001b[0m\u001b[0minputs\u001b[0m\u001b[1;33m,\u001b[0m \u001b[0moutputs\u001b[0m\u001b[1;33m,\u001b[0m \u001b[0mon_unused_input\u001b[0m\u001b[1;33m)\u001b[0m\u001b[1;33m\u001b[0m\u001b[0m\n\u001b[0m\u001b[0;32m   1172\u001b[0m \u001b[1;33m\u001b[0m\u001b[0m\n\u001b[0;32m   1173\u001b[0m         \u001b[1;31m# Make a list of (SymbolicInput|SymblicInputKits, indices,\u001b[0m\u001b[1;33m\u001b[0m\u001b[1;33m\u001b[0m\u001b[0m\n",
      "\u001b[1;32mC:\\Users\\Todd\\Anaconda2\\lib\\site-packages\\theano\\compile\\function_module.pyc\u001b[0m in \u001b[0;36m_check_unused_inputs\u001b[1;34m(self, inputs, outputs, on_unused_input)\u001b[0m\n\u001b[0;32m   1283\u001b[0m             ([o.variable for o in outputs] +\n\u001b[0;32m   1284\u001b[0m              [i.update for i in inputs if getattr(i, 'update', False)]),\n\u001b[1;32m-> 1285\u001b[1;33m             blockers=[i.variable for i in inputs])\n\u001b[0m\u001b[0;32m   1286\u001b[0m \u001b[1;33m\u001b[0m\u001b[0m\n\u001b[0;32m   1287\u001b[0m         msg = (\"theano.function was asked to create a function computing \"\n",
      "\u001b[1;32mC:\\Users\\Todd\\Anaconda2\\lib\\site-packages\\theano\\gof\\graph.pyc\u001b[0m in \u001b[0;36mancestors\u001b[1;34m(variable_list, blockers)\u001b[0m\n\u001b[0;32m    548\u001b[0m         \u001b[1;32mif\u001b[0m \u001b[0mr\u001b[0m\u001b[1;33m.\u001b[0m\u001b[0mowner\u001b[0m \u001b[1;32mand\u001b[0m \u001b[1;33m(\u001b[0m\u001b[1;32mnot\u001b[0m \u001b[0mblockers\u001b[0m \u001b[1;32mor\u001b[0m \u001b[0mr\u001b[0m \u001b[1;32mnot\u001b[0m \u001b[1;32min\u001b[0m \u001b[0mblockers\u001b[0m\u001b[1;33m)\u001b[0m\u001b[1;33m:\u001b[0m\u001b[1;33m\u001b[0m\u001b[0m\n\u001b[0;32m    549\u001b[0m             \u001b[1;32mreturn\u001b[0m \u001b[0mreversed\u001b[0m\u001b[1;33m(\u001b[0m\u001b[0mr\u001b[0m\u001b[1;33m.\u001b[0m\u001b[0mowner\u001b[0m\u001b[1;33m.\u001b[0m\u001b[0minputs\u001b[0m\u001b[1;33m)\u001b[0m\u001b[1;33m\u001b[0m\u001b[0m\n\u001b[1;32m--> 550\u001b[1;33m     \u001b[0mdfs_variables\u001b[0m \u001b[1;33m=\u001b[0m \u001b[0mstack_search\u001b[0m\u001b[1;33m(\u001b[0m\u001b[0mdeque\u001b[0m\u001b[1;33m(\u001b[0m\u001b[0mvariable_list\u001b[0m\u001b[1;33m)\u001b[0m\u001b[1;33m,\u001b[0m \u001b[0mexpand\u001b[0m\u001b[1;33m,\u001b[0m \u001b[1;34m'dfs'\u001b[0m\u001b[1;33m)\u001b[0m\u001b[1;33m\u001b[0m\u001b[0m\n\u001b[0m\u001b[0;32m    551\u001b[0m     \u001b[1;32mreturn\u001b[0m \u001b[0mdfs_variables\u001b[0m\u001b[1;33m\u001b[0m\u001b[0m\n\u001b[0;32m    552\u001b[0m \u001b[1;33m\u001b[0m\u001b[0m\n",
      "\u001b[1;32mC:\\Users\\Todd\\Anaconda2\\lib\\site-packages\\theano\\gof\\graph.pyc\u001b[0m in \u001b[0;36mstack_search\u001b[1;34m(start, expand, mode, build_inv)\u001b[0m\n\u001b[0;32m    526\u001b[0m                     \u001b[1;32mfor\u001b[0m \u001b[0mr\u001b[0m \u001b[1;32min\u001b[0m \u001b[0mexpand_l\u001b[0m\u001b[1;33m:\u001b[0m\u001b[1;33m\u001b[0m\u001b[0m\n\u001b[0;32m    527\u001b[0m                         \u001b[0mexpand_inv\u001b[0m\u001b[1;33m.\u001b[0m\u001b[0msetdefault\u001b[0m\u001b[1;33m(\u001b[0m\u001b[0mr\u001b[0m\u001b[1;33m,\u001b[0m \u001b[1;33m[\u001b[0m\u001b[1;33m]\u001b[0m\u001b[1;33m)\u001b[0m\u001b[1;33m.\u001b[0m\u001b[0mappend\u001b[0m\u001b[1;33m(\u001b[0m\u001b[0ml\u001b[0m\u001b[1;33m)\u001b[0m\u001b[1;33m\u001b[0m\u001b[0m\n\u001b[1;32m--> 528\u001b[1;33m                 \u001b[0mstart\u001b[0m\u001b[1;33m.\u001b[0m\u001b[0mextend\u001b[0m\u001b[1;33m(\u001b[0m\u001b[0mexpand_l\u001b[0m\u001b[1;33m)\u001b[0m\u001b[1;33m\u001b[0m\u001b[0m\n\u001b[0m\u001b[0;32m    529\u001b[0m     \u001b[1;32massert\u001b[0m \u001b[0mlen\u001b[0m\u001b[1;33m(\u001b[0m\u001b[0mrval_list\u001b[0m\u001b[1;33m)\u001b[0m \u001b[1;33m==\u001b[0m \u001b[0mlen\u001b[0m\u001b[1;33m(\u001b[0m\u001b[0mrval_set\u001b[0m\u001b[1;33m)\u001b[0m\u001b[1;33m\u001b[0m\u001b[0m\n\u001b[0;32m    530\u001b[0m     \u001b[1;32mif\u001b[0m \u001b[0mbuild_inv\u001b[0m\u001b[1;33m:\u001b[0m\u001b[1;33m\u001b[0m\u001b[0m\n",
      "\u001b[1;31mKeyboardInterrupt\u001b[0m: "
     ]
    }
   ],
   "source": [
    "train_duration = 100\n",
    "scores = []\n",
    "for epoch in range(100):\n",
    "    \n",
    "    value.fit(X_train,y_train)\n",
    "    policy.fit(X_train,z_train)\n",
    "    \n",
    "    scores.append((value.score(X_test,y_test),policy.score(X_test,z_test)))\n",
    "    print \"value = {}, policy = {} epoch {} complete\".format(scores[-1][0],scores[-1][1], epoch)\n",
    "           \n"
   ]
  },
  {
   "cell_type": "code",
   "execution_count": 28,
   "metadata": {
    "collapsed": false
   },
   "outputs": [
    {
     "data": {
      "text/plain": [
       "<matplotlib.axes._subplots.AxesSubplot at 0xcac4f60>"
      ]
     },
     "execution_count": 28,
     "metadata": {},
     "output_type": "execute_result"
    },
    {
     "data": {
      "image/png": "[encoded data removed]",
      "text/plain": [
       "<matplotlib.figure.Figure at 0xe753588>"
      ]
     },
     "metadata": {},
     "output_type": "display_data"
    }
   ],
   "source": [
    "import pandas as pd\n",
    "(pd.DataFrame(scores)).plot()"
   ]
  },
  {
   "cell_type": "code",
   "execution_count": 76,
   "metadata": {
    "collapsed": false
   },
   "outputs": [
    {
     "data": {
      "text/plain": [
       "128"
      ]
     },
     "execution_count": 76,
     "metadata": {},
     "output_type": "execute_result"
    }
   ],
   "source": [
    "len(y)"
   ]
  },
  {
   "cell_type": "code",
   "execution_count": null,
   "metadata": {
    "collapsed": true
   },
   "outputs": [],
   "source": []
  }
 ],
 "metadata": {
  "kernelspec": {
   "display_name": "Python 2",
   "language": "python",
   "name": "python2"
  },
  "language_info": {
   "codemirror_mode": {
    "name": "ipython",
    "version": 2
   },
   "file_extension": ".py",
   "mimetype": "text/x-python",
   "name": "python",
   "nbconvert_exporter": "python",
   "pygments_lexer": "ipython2",
   "version": "2.7.11"
  }
 },
 "nbformat": 4,
 "nbformat_minor": 0
}
