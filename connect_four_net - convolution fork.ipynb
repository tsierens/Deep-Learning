{
 "cells": [
  {
   "cell_type": "code",
   "execution_count": 2,
   "metadata": {
    "collapsed": false,
    "scrolled": false
   },
   "outputs": [
    {
     "name": "stderr",
     "output_type": "stream",
     "text": [
      "WARNING (theano.configdefaults): g++ not detected ! Theano will be unable to execute optimized C-implementations (for both CPU and GPU) and will default to Python implementations. Performance will be severely degraded. To remove this warning, set Theano flags cxx to an empty string.\n",
      "C:\\Users\\todds\\Anaconda2\\lib\\site-packages\\theano\\tensor\\signal\\downsample.py:6: UserWarning: downsample module has been moved to the theano.tensor.signal.pool module.\n",
      "  \"downsample module has been moved to the theano.tensor.signal.pool module.\")\n"
     ]
    }
   ],
   "source": [
    "import numpy as np\n",
    "import pandas as pd\n",
    "import lasagne\n",
    "import theano\n",
    "import theano.tensor as T\n",
    "import random\n",
    "import time\n",
    "import connect_four as cccc\n",
    "import sys\n",
    "#import seaborn\n",
    "import matplotlib.pyplot as plt\n",
    "%matplotlib inline\n"
   ]
  },
  {
   "cell_type": "code",
   "execution_count": 3,
   "metadata": {
    "collapsed": false,
    "scrolled": false
   },
   "outputs": [],
   "source": [
    "#initialization\n",
    "\n",
    "nets = []\n",
    "activation = lasagne.nonlinearities.tanh\n",
    "\n",
    "hidden_units = 25\n",
    "num_nets = 1\n",
    "drop_rate = 0.2\n",
    "\n",
    "for i in range(num_nets):\n",
    "    value_in = lasagne.layers.InputLayer(shape=(None,42))\n",
    "    \n",
    "    value_shape = lasagne.layers.ReshapeLayer(value_in, (-1, 1, 6, 7))\n",
    "    \n",
    "    value_conv1 = lasagne.layers.Conv2DLayer(value_shape, num_filters = 8, filter_size = 3,\n",
    "                                             W=lasagne.init.GlorotUniform(), nonlinearity = activation)\n",
    "    \n",
    "#   value_drop1 = lasagne.layers.DropoutLayer(value_conv1,p=drop_rate)\n",
    "    \n",
    "    value_conv2 = lasagne.layers.Conv2DLayer(value_conv1, num_filters = 8, filter_size = 3,\n",
    "                                             W=lasagne.init.GlorotUniform(), nonlinearity = activation)\n",
    "#   value_drop2 = lasagne.layers.DropoutLayer(value_conv2,p=drop_rate)\n",
    "    \n",
    "    value_hid1 = lasagne.layers.DenseLayer(value_conv2, num_units=hidden_units,W=lasagne.init.GlorotUniform(),\n",
    "                                              nonlinearity = activation)\n",
    "\n",
    "    value_drop1= lasagne.layers.DropoutLayer(value_hid1,p=drop_rate)\n",
    "    \n",
    "    value_hid2= lasagne.layers.DenseLayer(value_drop1, num_units=hidden_units,W=lasagne.init.GlorotUniform(),\n",
    "                                              nonlinearity = activation)\n",
    "\n",
    "    value_drop2= lasagne.layers.DropoutLayer(value_hid2,p=drop_rate)\n",
    "    \n",
    "\n",
    "    value_out = lasagne.layers.DenseLayer(value_drop2,\n",
    "                                      num_units=1, nonlinearity = activation)\n",
    "    nets.append(value_out)\n",
    "\n",
    "\n",
    "train_in = lasagne.layers.InputLayer(shape=(None,42))\n",
    "\n",
    "train_hid = lasagne.layers.DenseLayer(train_in, num_units = 100, nonlinearity = activation)\n",
    "\n",
    "train_out = lasagne.layers.DenseLayer(train_hid, num_units = 1, nonlinearity = activation)"
   ]
  },
  {
   "cell_type": "code",
   "execution_count": 4,
   "metadata": {
    "collapsed": false,
    "scrolled": false
   },
   "outputs": [],
   "source": [
    "def value_move(board,active_turn,output_funs,exploration = 0):\n",
    "    X_sym = theano.tensor.matrix()\n",
    "    y_sym = theano.tensor.ivector()\n",
    "    dummy_board = np.copy(board)\n",
    "    options = cccc.available_moves(dummy_board)\n",
    "    \n",
    "    \n",
    "    if exploration > random.random():\n",
    "        move = random.choice(options) \n",
    "    else:\n",
    "        moves = np.zeros(7)\n",
    "        for output_fun in output_funs:\n",
    "            move_values = np.zeros(7)\n",
    "            for choice in options:\n",
    "                dummy_board = active_turn * board[:]\n",
    "                dummy_board[np.where(dummy_board[:,choice]==0)[0][-1],choice] = 1\n",
    "                reshapeable = np.copy(dummy_board)\n",
    "                move_values[choice] = -1 * output_fun(-1* reshapeable.reshape(1,42))\n",
    "            available_move_values = np.array([move_values[move] for move in options])\n",
    "\n",
    "            move = options[available_move_values.argmax(-1)]\n",
    "            moves[move] += 1\n",
    "        \n",
    "        move = np.argmax(moves)\n",
    "    return move + 1\n",
    "\n",
    "\n",
    "class nn_ai:\n",
    "    \n",
    "    def __init__(self,output_fun, net = 'value',exploration = 0):\n",
    "        self.output_fun = output_fun\n",
    "        self.exploration = exploration\n",
    "        self.net = net\n",
    "    \n",
    "    def make_move(self,board,active_turn):\n",
    "#         if self.net == 'policy':\n",
    "#             move = policy_move(board,active_turn,self.output_fun,self.exploration)\n",
    "        if self.net == 'value':\n",
    "            move = value_move(board,active_turn,self.output_fun,self.exploration)\n",
    "        return move\n",
    "    \n",
    "def alpha_beta_move(board,active_turn,depth,alpha = 2):\n",
    "    swap_dict = {1:-1,-1:1}\n",
    "    dummy_board = np.zeros((6,7))\n",
    "    dummy_board[:] = board[:]\n",
    "    options = cccc.available_moves(board)\n",
    "    random.shuffle(options)\n",
    "    if len(options) == 1:\n",
    "        dummy_board[np.where(dummy_board[:,options[0]]==0)[0][-1],options[0]] = active_turn\n",
    "        if cccc.winner(dummy_board):\n",
    "            return (1,options[0]+1)\n",
    "        else:\n",
    "            return (0,options[0]+1)\n",
    "    if depth ==0:\n",
    "        return (0, options[np.random.randint(len(options))]+1)\n",
    "\n",
    "    best_value = -2\n",
    "    candidate_move = None\n",
    "    for x in options:\n",
    "        height = np.where(dummy_board[:,x]==0)[0][-1]\n",
    "        dummy_board[height,x] = active_turn\n",
    "        if cccc.winner(dummy_board):\n",
    "            return (1, x+1)\n",
    "        (opp_value,opp_move) = alpha_beta_move(dummy_board,swap_dict[active_turn],depth-1,-best_value)\n",
    "        if -opp_value > best_value:\n",
    "            candidate_move = x+1\n",
    "            best_value = -opp_value\n",
    "        if -opp_value >= alpha:\n",
    "            #print (options, x, best_value, alpha)\n",
    "            break\n",
    "        dummy_board[height,x] = 0\n",
    "\n",
    "    return (best_value, candidate_move)\n",
    "\n",
    "class alpha_beta:\n",
    "    def __init__(self,depth):\n",
    "        self.depth = depth\n",
    "    def make_move(self,board,active_turn):\n",
    "        #print (board,active_turn,self.depth)\n",
    "        return alpha_beta_move(board,active_turn,self.depth)[1]\n",
    "\n",
    "def get_max_future(future_board,value_fun):\n",
    "    options = cccc.available_moves(future_board)\n",
    "    dummy_board = np.copy(future_board)\n",
    "    move_values = np.zeros(7)\n",
    "    for move in options:\n",
    "        dummy_board = np.copy(future_board)\n",
    "        dummy_board[np.where(dummy_board[:,move]==0)[0][-1],move] = -1\n",
    "        # dummy_board = dummy_board.reshape(1,42)\n",
    "        if cccc.winner(dummy_board):\n",
    "            move_values[move] = cccc.winner(dummy_board)\n",
    "        else:\n",
    "            reshapable = np.copy(dummy_board)\n",
    "            reshapable = reshapable.reshape(1,42)\n",
    "            move_values[move] = value_fun(reshapable)\n",
    "    \n",
    "    available_move_values = np.array([move_values[move] for move in options])\n",
    "    dummy_board = np.copy(future_board)\n",
    "    options_index = np.argmin(available_move_values)\n",
    "    dummy_board[np.where(dummy_board[:,options[options_index]]==0)[0][-1],options[options_index]] = -1\n",
    "    return np.amin(available_move_values), dummy_board\n",
    "\n",
    "def play_one_move(current_board,value_funs,exploration = 0):\n",
    "    options = cccc.available_moves(current_board)\n",
    "    dummy_board = np.copy(current_board)\n",
    "    move_values = np.zeros(7)\n",
    "    values = []\n",
    "    if np.random.random() < exploration:\n",
    "        chosen_move = random.choice(options)\n",
    "        dummy_board[np.where(dummy_board[:,chosen_move]==0)[0][-1],chosen_move] = 1\n",
    "        explore = True\n",
    "        if cccc.winner(dummy_board):\n",
    "            value = cccc.winner(dummy_board)\n",
    "        else:\n",
    "            reshapable = np.copy(dummy_board)\n",
    "            reshapable = reshapable.reshape(1,42)\n",
    "            for value_fun in value_funs:\n",
    "                values.append(-1 * value_fun(-1 * reshapable))\n",
    "            value = np.mean(np.array(values))\n",
    "    else:\n",
    "        moves = np.zeros(7)\n",
    "        explore = False\n",
    "        for value_fun in value_funs:\n",
    "            for move in options:\n",
    "                dummy_board = np.copy(current_board)\n",
    "                dummy_board[np.where(dummy_board[:,move]==0)[0][-1],move] = 1\n",
    "                # dummy_board = dummy_board.reshape(1,42)\n",
    "                if cccc.winner(dummy_board):\n",
    "                    move_values[move] = cccc.winner(dummy_board)\n",
    "                else:\n",
    "                    reshapable = np.copy(dummy_board)\n",
    "                    reshapable = reshapable.reshape(1,42)\n",
    "                    move_values[move] = -1 * value_fun(-1 * reshapable)\n",
    "            \n",
    "            available_move_values = np.array([move_values[move] for move in options])\n",
    "            options_index = np.argmax(available_move_values)\n",
    "            move = options[options_index]\n",
    "            moves[move] += 1\n",
    "            values.append(np.amax(available_move_values))\n",
    "    \n",
    "        value = np.mean(np.array(values))\n",
    "        move = np.argmax(moves)\n",
    "        dummy_board = np.copy(current_board)\n",
    "        dummy_board[np.where(dummy_board[:,move]==0)[0][-1],move] = 1\n",
    "        \n",
    "\n",
    "    return value , dummy_board , explore\n",
    "\n",
    "def get_value(current_board,value_funs):\n",
    "    values = []\n",
    "    reshapable = np.copy(current_board)\n",
    "    reshapable = reshapable.reshape(1,42)\n",
    "    for value_fun in value_funs:\n",
    "        values.append(value_fun(reshapable))\n",
    "    return np.mean(np.array(values))\n",
    "\n",
    "def get_inputs(log):\n",
    "    boards = []\n",
    "    piece = 1\n",
    "    board = np.zeros((6,7))\n",
    "    boards.append(np.copy(board))\n",
    "    for move in log:\n",
    "        board[np.where(board[:,move-1]==0)[0][-1],move-1] = piece\n",
    "        piece = -piece\n",
    "        boards.append(np.copy(board))\n",
    "    return boards\n",
    "\n",
    "\n",
    "\n",
    "def game_over(board):\n",
    "    return cccc.winner(board) or cccc.is_full(board)"
   ]
  },
  {
   "cell_type": "code",
   "execution_count": 25,
   "metadata": {
    "collapsed": false,
    "scrolled": false
   },
   "outputs": [],
   "source": [
    "# load the chromes\n",
    "test = np.load('TD_cccc_100_1_8_million.npz')['arr_0']\n",
    "lasagne.layers.set_all_param_values(train_out,test)\n"
   ]
  },
  {
   "cell_type": "code",
   "execution_count": 5,
   "metadata": {
    "collapsed": true
   },
   "outputs": [],
   "source": [
    "test = np.load('TD_cccc_last.npz')['arr_0']\n",
    "lasagne.layers.set_all_param_values(nets[0],test)"
   ]
  },
  {
   "cell_type": "code",
   "execution_count": 4,
   "metadata": {
    "collapsed": false,
    "scrolled": false
   },
   "outputs": [
    {
     "ename": "NameError",
     "evalue": "name 'test' is not defined",
     "output_type": "error",
     "traceback": [
      "\u001b[1;31m---------------------------------------------------------------------------\u001b[0m",
      "\u001b[1;31mNameError\u001b[0m                                 Traceback (most recent call last)",
      "\u001b[1;32m<ipython-input-4-369b05c99bc6>\u001b[0m in \u001b[0;36m<module>\u001b[1;34m()\u001b[0m\n\u001b[1;32m----> 1\u001b[1;33m \u001b[1;32mfor\u001b[0m \u001b[0mitem\u001b[0m \u001b[1;32min\u001b[0m \u001b[0mtest\u001b[0m\u001b[1;33m:\u001b[0m\u001b[1;33m\u001b[0m\u001b[0m\n\u001b[0m\u001b[0;32m      2\u001b[0m     \u001b[1;32mprint\u001b[0m \u001b[0mitem\u001b[0m\u001b[1;33m.\u001b[0m\u001b[0mshape\u001b[0m\u001b[1;33m\u001b[0m\u001b[0m\n",
      "\u001b[1;31mNameError\u001b[0m: name 'test' is not defined"
     ]
    }
   ],
   "source": [
    "for item in test:\n",
    "    print item.shape"
   ]
  },
  {
   "cell_type": "markdown",
   "metadata": {},
   "source": [
    "# Reinforcement Learning"
   ]
  },
  {
   "cell_type": "code",
   "execution_count": 5,
   "metadata": {
    "collapsed": false,
    "scrolled": false
   },
   "outputs": [
    {
     "name": "stderr",
     "output_type": "stream",
     "text": [
      "C:\\Users\\todds\\Anaconda2\\lib\\site-packages\\lasagne\\layers\\conv.py:489: UserWarning: The `image_shape` keyword argument to `tensor.nnet.conv2d` is deprecated, it has been renamed to `input_shape`.\n",
      "  border_mode=border_mode)\n"
     ]
    }
   ],
   "source": [
    "X_sym = T.matrix()\n",
    "y_sym = T.matrix()\n",
    "\n",
    "input_history = []\n",
    "output_history = []\n",
    "results = {}\n",
    "move_history = []\n",
    "outputs = [lasagne.layers.get_output(output_layer, X_sym) for output_layer in nets]\n",
    "outputs_det = [lasagne.layers.get_output(output_layer, X_sym,deterministic=True) for output_layer in nets]\n",
    "train_output = lasagne.layers.get_output(train_out, X_sym)\n",
    "\n",
    "value_funs = [theano.function([X_sym],output) for output in outputs]\n",
    "value_funs_det = [theano.function([X_sym],output_det) for output_det in outputs_det]\n",
    "# training_funs = [theano.function([X_sym], train_output)]\n",
    "training_funs = value_funs\n",
    "params = [lasagne.layers.get_all_params(output_layer) for output_layer in nets]\n",
    "objective_list = [T.mean(lasagne.objectives.squared_error(output,y_sym)) for output in outputs]\n",
    "\n",
    "grads = [T.grad(objective_list[i],params[i]) for i in range(num_nets)]\n",
    "self_play = 0\n",
    "\n",
    "#flush training sets\n",
    "input_history = []\n",
    "output_history = []\n",
    "results = {}\n",
    "move_history = []"
   ]
  },
  {
   "cell_type": "code",
   "execution_count": 6,
   "metadata": {
    "collapsed": false,
    "scrolled": false
   },
   "outputs": [],
   "source": [
    "BATCH_SIZE = 256\n",
    "batches_per_step = 50\n",
    "training_per_step =0\n",
    "train_duration = 10000\n",
    "exploration = 0.25\n",
    "exploration_min = 0.10\n",
    "exploration_step = 0.995\n",
    "future_discount = 0.5\n",
    "minimax_str = 0\n",
    "validation_str = 2\n",
    "monte_carlo_duration = 0\n",
    "print_freq = batches_per_step-1\n",
    "valid_freq = 10\n",
    "learning_speed = 0.01\n",
    "updates = [lasagne.updates.nesterov_momentum(grads[i], params[i], learning_rate=learning_speed,momentum = 0.9)\n",
    "           for i in range(num_nets)]\n",
    "#updates = [lasagne.updates.sgd(grads[i], params[i], learning_rate=learning_speed) for i in range(num_nets)]\n",
    "\n",
    "#updates = [lasagne.updates.rmsprop(grads[i],params[i], learning_rate = 1) for i in range(num_nets)]\n",
    "\n",
    "# updates = [lasagne.updates.adam(grads[i], params[i], learning_rate = learning_speed) for i in range(num_nets)]\n",
    "train_nets = [theano.function([X_sym, y_sym], objective_list[i], updates=updates[i]) for i in range(num_nets)]\n",
    "temporal_index = 0.5\n",
    "objective_total = 1000.0\n"
   ]
  },
  {
   "cell_type": "code",
   "execution_count": null,
   "metadata": {
    "collapsed": true
   },
   "outputs": [],
   "source": []
  },
  {
   "cell_type": "code",
   "execution_count": 7,
   "metadata": {
    "collapsed": false,
    "scrolled": false
   },
   "outputs": [
    {
     "name": "stdout",
     "output_type": "stream",
     "text": [
      "(8, 1, 3, 3)\n",
      "72\n",
      "(8,)\n",
      "8\n",
      "(8, 8, 3, 3)\n",
      "576\n",
      "(8,)\n",
      "8\n",
      "(48, 25)\n",
      "1200\n",
      "(25,)\n",
      "25\n",
      "(25, 25)\n",
      "625\n",
      "(25,)\n",
      "25\n",
      "(25, 1)\n",
      "25\n",
      "(1,)\n",
      "1\n",
      "7695\n"
     ]
    }
   ],
   "source": [
    "param_values = lasagne.layers.get_all_param_values(value_out)\n",
    "training_size = 3 * sum([param_values[i].size for i,_ in enumerate(param_values)])\n",
    "for item in param_values:\n",
    "    print item.shape\n",
    "    print item.size\n",
    "    \n",
    "print training_size"
   ]
  },
  {
   "cell_type": "code",
   "execution_count": null,
   "metadata": {
    "collapsed": false,
    "scrolled": true
   },
   "outputs": [],
   "source": [
    "t0 = time.clock()\n",
    "epoch_objective_list = []\n",
    "\n",
    "param_values = lasagne.layers.get_all_param_values(value_out)\n",
    "training_size = 3 * sum([param_values[i].size for i,_ in enumerate(param_values)])\n",
    "\n",
    "training_data = [0]*training_size\n",
    "target_data = [0]*training_size\n",
    "\n",
    "current_write_index = 0\n",
    "\n",
    "# start training\n",
    "\n",
    "data_generation = 0\n",
    "first_pass = True\n",
    "for epoch in range(train_duration):\n",
    "    \n",
    "    t1 = time.clock()\n",
    "    exploration = (exploration-exploration_min)* exploration_step + exploration_min\n",
    "    if current_write_index >= training_size:\n",
    "        data_generation +=1\n",
    "        print '\\n'\n",
    "        print 'now starting generation {} of data'.format(data_generation)\n",
    "        print '\\n'\n",
    "    current_write_index = current_write_index%training_size\n",
    "    \n",
    "    # continue to update training set\n",
    "#     for _ in range(training_size/50):\n",
    "    counter = 0\n",
    "\n",
    "    while(counter < training_size or (first_pass and counter < training_size)):\n",
    "    \n",
    "        current_state = cccc.empty_board()\n",
    "        player = 1\n",
    "        self_play +=1\n",
    "        board_history = []\n",
    "        value_history = []\n",
    "        explore_history = []\n",
    "        while not game_over(np.copy(current_state)):\n",
    "            \n",
    "            next_value , next_state , explore = play_one_move(current_state,training_funs,exploration)\n",
    "            board_history.append(current_state)\n",
    "            value_history.append(get_value(current_state,training_funs))\n",
    "            explore_history.append(explore)\n",
    "            \n",
    "\n",
    "\n",
    "            current_state = -1 * np.copy(next_state)\n",
    "            player *= -1\n",
    "\n",
    "\n",
    "        board_history.append(current_state)\n",
    "        value_history.append(cccc.winner(current_state))\n",
    "        explore_history.append(False)\n",
    "        \n",
    "\n",
    "        \n",
    "        # record the targets\n",
    "        explore = explore_history.pop(-1)\n",
    "        training_data[current_write_index%training_size] = board_history.pop(-1)\n",
    "        target_data[current_write_index%training_size] = value_history.pop(-1)\n",
    "        last_target = target_data[current_write_index%training_size]\n",
    "        current_write_index += 1\n",
    "        counter +=1\n",
    "\n",
    "        while board_history:\n",
    "            explore = explore_history.pop(-1)\n",
    "            if explore:\n",
    "                board_history.pop(-1)\n",
    "                last_target = value_history.pop(-1)\n",
    "                \n",
    "            else:\n",
    "            \n",
    "                training_data[current_write_index%training_size] = board_history.pop(-1)\n",
    "                target_data[current_write_index%training_size] = (\n",
    "                    1 - temporal_index) * value_history.pop(-1) - temporal_index * last_target\n",
    "                last_target = target_data[current_write_index%training_size]\n",
    "                current_write_index += 1\n",
    "                counter +=1\n",
    "                      \n",
    "    objective_totals = []\n",
    "    first_pass = False\n",
    "    current_net = 0\n",
    "    for train_net in train_nets:\n",
    "        current_net +=1\n",
    "        for j in range(batches_per_step):\n",
    "            t2=time.clock()\n",
    "            targets = np.zeros((BATCH_SIZE,1))\n",
    "            training = np.zeros((BATCH_SIZE,42))\n",
    "            index_pool = range(training_size)\n",
    "            random.shuffle(index_pool)\n",
    "            objectives = []        \n",
    "\n",
    "            while len(index_pool) > BATCH_SIZE:\n",
    "                sample_indices = [index_pool.pop() for _ in xrange(BATCH_SIZE)]\n",
    "                #Should try to use generators\n",
    "\n",
    "\n",
    "                for k in range(BATCH_SIZE):\n",
    "                    #train it on output_history evaluated by the opponent\n",
    "                    training[k] = training_data[sample_indices[k]].reshape(1,42)\n",
    "                    targets[k] = target_data[sample_indices[k]]\n",
    "\n",
    "\n",
    "\n",
    "                objectives.append(train_net(training,targets))\n",
    "                #break to only do 1 batch per run.\n",
    "            objective_total = np.mean(objectives)\n",
    "            \n",
    "\n",
    "            if j % print_freq ==0 or j == print_freq /5 *4:\n",
    "                print (('Net {}, Epoch {:5d}, Pass number {}, objective: {:0.5f}, exploration: {:0.2f}, '+\n",
    "                       'number of games played: {}, step duration: {:1.3f}s').format(current_net,\n",
    "                       epoch,j+1,float(objective_total),exploration,self_play,time.clock()-t2))\n",
    "\n",
    "\n",
    "            epoch_objective_list.append([epoch,current_net, j+1,objective_total,exploration])\n",
    "\n",
    "\n",
    "    print 'epoch duration {:2.2f}s'.format(time.clock()-t1)\n",
    "    if epoch%valid_freq==0:\n",
    "        print ' '\n",
    "        print ' '\n",
    "        test_result = {'wins':0,'ties':0,'losses':0}\n",
    "        for j in range(1000):\n",
    "            result = cccc.play(nn_ai(value_funs_det,'value'),alpha_beta(validation_str))\n",
    "            if result.winner ==1:\n",
    "                test_result['wins'] +=1\n",
    "            if result.winner == 0:\n",
    "                test_result['ties'] +=1\n",
    "            if result.winner == -1:\n",
    "                test_result['losses'] +=1\n",
    "\n",
    "\n",
    "        print 'As X, neural network has a score of {:3d}-{:3d}-{:3d} vs {}-depth minimax'.format(test_result['wins'],\n",
    "                                                               test_result['ties'],test_result['losses'],validation_str)\n",
    "\n",
    "        test_result = {'wins':0,'ties':0,'losses':0}\n",
    "\n",
    "        for j in range(1000):\n",
    "            result = cccc.play(alpha_beta(validation_str),nn_ai(value_funs_det,'value'))\n",
    "            if result.winner ==1:\n",
    "                test_result['losses'] +=1\n",
    "            if result.winner == 0:\n",
    "                test_result['ties'] +=1\n",
    "            if result.winner == -1:\n",
    "                test_result['wins'] +=1\n",
    "\n",
    "        print 'As O, neural network has a score of {:3d}-{:3d}-{:3d} vs {}-depth minimax'.format(test_result['wins'],\n",
    "                                                            test_result['ties'],test_result['losses'],validation_str)\n",
    "        print ' '\n",
    "        print 'elapsed time: {:3.3f}s'.format(time.clock()-t0)\n",
    "        print ' '\n",
    "        # save the chromes\n",
    "        np.savez('TD_cccc_last',lasagne.layers.get_all_param_values(value_out))\n",
    "    if epoch%100==0:\n",
    "        np.savez('TD_cccc_last_100',lasagne.layers.get_all_param_values(value_out))\n",
    "\n",
    "\n",
    "print('\\n')\n",
    "\n",
    "#for epoch in range(10):\n",
    "\n",
    "        \n",
    "#    t_epoch = time.clock()\n",
    "\n",
    "#    result_list = [tourney(output) for i in range(BATCH_SIZE)]\n",
    "#    fitness_list = [fitness(result) for result in result_list]\n",
    "    \n",
    "#    score= f_train(fitness_list)\n",
    "       \n",
    "#    t1=time.clock()-t_epoch\n",
    "    \n",
    "#    print('Epoch {}, duration {:.01f} seconds'.format(\n",
    "#            epoch+1, t1))\n",
    "#    print('Record is: {}-{}-{} with a score of {}'.format(sum([result['wins'] for result in result_list]),\n",
    "#                                                          sum([result['ties'] for result in result_list]),\n",
    "#                                                          sum([result['losses'] for result in result_list]),\n",
    "#                                                          sum([fitness for fitness in fitness_list])))\n",
    "#    print('mean score is {}'.format(score))\n",
    "print('total time for neural network is {:.01f} seconds'.format(time.clock()-t0))\n"
   ]
  },
  {
   "cell_type": "code",
   "execution_count": 15,
   "metadata": {
    "collapsed": false,
    "scrolled": false
   },
   "outputs": [],
   "source": [
    "# save the chromes\n",
    "np.savez('TD_cccc_cnn_adam_275_thousand',lasagne.layers.get_all_param_values(value_out))\n"
   ]
  },
  {
   "cell_type": "code",
   "execution_count": 35,
   "metadata": {
    "collapsed": false,
    "scrolled": false
   },
   "outputs": [
    {
     "name": "stdout",
     "output_type": "stream",
     "text": [
      " \n",
      " \n",
      "As X, neural network has a score of 100-  0-  0 vs 0-depth minimax\n",
      "As O, neural network has a score of  96-  0-  4 vs 0-depth minimax\n",
      " \n",
      "elapsed time: 1098.680s\n",
      " \n"
     ]
    }
   ],
   "source": [
    "validation_str = 0\n",
    "this_one = [theano.function([X_sym], train_output)]\n",
    "player_1 = nn_ai(value_funs)\n",
    "player_2 = alpha_beta(validation_str)\n",
    "print ' '\n",
    "print ' '\n",
    "test_result = {'wins':0,'ties':0,'losses':0}\n",
    "for j in range(100):\n",
    "    result = cccc.play(player_1,player_2)\n",
    "    if result.winner ==1:\n",
    "        test_result['wins'] +=1\n",
    "    if result.winner == 0:\n",
    "        test_result['ties'] +=1\n",
    "    if result.winner == -1:\n",
    "        test_result['losses'] +=1\n",
    "\n",
    "\n",
    "print 'As X, neural network has a score of {:3d}-{:3d}-{:3d} vs {}-depth minimax'.format(test_result['wins'],\n",
    "                                                       test_result['ties'],test_result['losses'],validation_str)\n",
    "\n",
    "test_result = {'wins':0,'ties':0,'losses':0}\n",
    "\n",
    "for j in range(100):\n",
    "    result = cccc.play(player_2,player_1)\n",
    "    if result.winner ==1:\n",
    "        test_result['losses'] +=1\n",
    "    if result.winner == 0:\n",
    "        test_result['ties'] +=1\n",
    "    if result.winner == -1:\n",
    "        test_result['wins'] +=1\n",
    "\n",
    "print 'As O, neural network has a score of {:3d}-{:3d}-{:3d} vs {}-depth minimax'.format(test_result['wins'],\n",
    "                                                    test_result['ties'],test_result['losses'],validation_str)\n",
    "print ' '\n",
    "print 'elapsed time: {:3.3f}s'.format(time.clock()-t0)\n",
    "print ' '"
   ]
  },
  {
   "cell_type": "code",
   "execution_count": 20,
   "metadata": {
    "collapsed": false,
    "scrolled": false
   },
   "outputs": [
    {
     "name": "stdout",
     "output_type": "stream",
     "text": [
      "it is X's turn, please choose a move\n",
      "\n",
      "     |   |   |   |   |   |    \n",
      "  ---------------------------        \n",
      "     |   |   |   |   |   |    \n",
      "  ---------------------------       \n",
      "     |   |   |   |   |   |     \n",
      "  ---------------------------        \n",
      "     |   |   |   |   |   |    \n",
      "  ---------------------------       \n",
      "     |   |   |   |   |   |   \n",
      "  ---------------------------       \n",
      "     |   |   |   |   |   |    \n",
      "  ---------------------------\n",
      "   1 | 2 | 3 | 4 | 5 | 6 | 7\n",
      "    \n",
      "4\n"
     ]
    },
    {
     "ename": "TypeError",
     "evalue": "'NoneType' object is not callable",
     "output_type": "error",
     "traceback": [
      "\u001b[1;31m---------------------------------------------------------------------------\u001b[0m",
      "\u001b[1;31mTypeError\u001b[0m                                 Traceback (most recent call last)",
      "\u001b[1;32m<ipython-input-20-facf1c5d1df1>\u001b[0m in \u001b[0;36m<module>\u001b[1;34m()\u001b[0m\n\u001b[1;32m----> 1\u001b[1;33m \u001b[0mcccc\u001b[0m\u001b[1;33m.\u001b[0m\u001b[0mplay\u001b[0m\u001b[1;33m(\u001b[0m\u001b[0mcccc\u001b[0m\u001b[1;33m.\u001b[0m\u001b[0mplayer\u001b[0m\u001b[1;33m(\u001b[0m\u001b[1;33m)\u001b[0m\u001b[1;33m,\u001b[0m\u001b[0mnn_ai\u001b[0m\u001b[1;33m(\u001b[0m\u001b[0mvalue_funs_det\u001b[0m\u001b[1;33m[\u001b[0m\u001b[1;36m0\u001b[0m\u001b[1;33m]\u001b[0m\u001b[1;33m)\u001b[0m\u001b[1;33m)\u001b[0m\u001b[1;33m\u001b[0m\u001b[0m\n\u001b[0m",
      "\u001b[1;32mC:\\Users\\Todd\\Dropbox\\Data Incubator Challenge April\\deep_learning\\Deep-Learning\\Deep-Learning\\connect_four.pyc\u001b[0m in \u001b[0;36mplay\u001b[1;34m(player_1, player_2)\u001b[0m\n\u001b[0;32m    107\u001b[0m                 \u001b[0mmove\u001b[0m \u001b[1;33m=\u001b[0m \u001b[0mplayer_1\u001b[0m\u001b[1;33m.\u001b[0m\u001b[0mmake_move\u001b[0m\u001b[1;33m(\u001b[0m\u001b[0mboard\u001b[0m\u001b[1;33m,\u001b[0m\u001b[0mactive_turn\u001b[0m\u001b[1;33m)\u001b[0m\u001b[1;33m\u001b[0m\u001b[0m\n\u001b[0;32m    108\u001b[0m             \u001b[1;32melif\u001b[0m \u001b[0mactive_turn\u001b[0m \u001b[1;33m==\u001b[0m \u001b[1;33m-\u001b[0m\u001b[1;36m1\u001b[0m\u001b[1;33m:\u001b[0m\u001b[1;33m\u001b[0m\u001b[0m\n\u001b[1;32m--> 109\u001b[1;33m                 \u001b[0mmove\u001b[0m \u001b[1;33m=\u001b[0m \u001b[0mplayer_2\u001b[0m\u001b[1;33m.\u001b[0m\u001b[0mmake_move\u001b[0m\u001b[1;33m(\u001b[0m\u001b[0mboard\u001b[0m\u001b[1;33m,\u001b[0m\u001b[0mactive_turn\u001b[0m\u001b[1;33m)\u001b[0m\u001b[1;33m\u001b[0m\u001b[0m\n\u001b[0m\u001b[0;32m    110\u001b[0m             \u001b[1;32mif\u001b[0m \u001b[0mmove\u001b[0m\u001b[1;33m-\u001b[0m\u001b[1;36m1\u001b[0m \u001b[1;32min\u001b[0m \u001b[0mavailable_moves\u001b[0m\u001b[1;33m(\u001b[0m\u001b[0mboard\u001b[0m\u001b[1;33m)\u001b[0m\u001b[1;33m:\u001b[0m\u001b[1;33m\u001b[0m\u001b[0m\n\u001b[0;32m    111\u001b[0m                 \u001b[0mboard\u001b[0m\u001b[1;33m[\u001b[0m\u001b[0mnp\u001b[0m\u001b[1;33m.\u001b[0m\u001b[0mwhere\u001b[0m\u001b[1;33m(\u001b[0m\u001b[0mboard\u001b[0m\u001b[1;33m[\u001b[0m\u001b[1;33m:\u001b[0m\u001b[1;33m,\u001b[0m\u001b[0mmove\u001b[0m\u001b[1;33m-\u001b[0m\u001b[1;36m1\u001b[0m\u001b[1;33m]\u001b[0m\u001b[1;33m==\u001b[0m\u001b[1;36m0\u001b[0m\u001b[1;33m)\u001b[0m\u001b[1;33m[\u001b[0m\u001b[1;36m0\u001b[0m\u001b[1;33m]\u001b[0m\u001b[1;33m[\u001b[0m\u001b[1;33m-\u001b[0m\u001b[1;36m1\u001b[0m\u001b[1;33m]\u001b[0m\u001b[1;33m,\u001b[0m\u001b[0mmove\u001b[0m\u001b[1;33m-\u001b[0m\u001b[1;36m1\u001b[0m\u001b[1;33m]\u001b[0m \u001b[1;33m=\u001b[0m \u001b[0mactive_turn\u001b[0m\u001b[1;33m\u001b[0m\u001b[0m\n",
      "\u001b[1;32m<ipython-input-7-c0b3724f0218>\u001b[0m in \u001b[0;36mmake_move\u001b[1;34m(self, board, active_turn)\u001b[0m\n\u001b[0;32m     40\u001b[0m \u001b[1;31m#             move = policy_move(board,active_turn,self.output_fun,self.exploration)\u001b[0m\u001b[1;33m\u001b[0m\u001b[1;33m\u001b[0m\u001b[0m\n\u001b[0;32m     41\u001b[0m         \u001b[1;32mif\u001b[0m \u001b[0mself\u001b[0m\u001b[1;33m.\u001b[0m\u001b[0mnet\u001b[0m \u001b[1;33m==\u001b[0m \u001b[1;34m'value'\u001b[0m\u001b[1;33m:\u001b[0m\u001b[1;33m\u001b[0m\u001b[0m\n\u001b[1;32m---> 42\u001b[1;33m             \u001b[0mmove\u001b[0m \u001b[1;33m=\u001b[0m \u001b[0mvalue_move\u001b[0m\u001b[1;33m(\u001b[0m\u001b[0mboard\u001b[0m\u001b[1;33m,\u001b[0m\u001b[0mactive_turn\u001b[0m\u001b[1;33m,\u001b[0m\u001b[0mself\u001b[0m\u001b[1;33m.\u001b[0m\u001b[0moutput_fun\u001b[0m\u001b[1;33m,\u001b[0m\u001b[0mself\u001b[0m\u001b[1;33m.\u001b[0m\u001b[0mexploration\u001b[0m\u001b[1;33m)\u001b[0m\u001b[1;33m\u001b[0m\u001b[0m\n\u001b[0m\u001b[0;32m     43\u001b[0m         \u001b[1;32mreturn\u001b[0m \u001b[0mmove\u001b[0m\u001b[1;33m\u001b[0m\u001b[0m\n\u001b[0;32m     44\u001b[0m \u001b[1;33m\u001b[0m\u001b[0m\n",
      "\u001b[1;32m<ipython-input-7-c0b3724f0218>\u001b[0m in \u001b[0;36mvalue_move\u001b[1;34m(board, active_turn, output_funs, exploration)\u001b[0m\n\u001b[0;32m     17\u001b[0m                 \u001b[0mdummy_board\u001b[0m \u001b[1;33m=\u001b[0m \u001b[0mactive_turn\u001b[0m \u001b[1;33m*\u001b[0m \u001b[0mboard\u001b[0m\u001b[1;33m[\u001b[0m\u001b[1;33m:\u001b[0m\u001b[1;33m]\u001b[0m\u001b[1;33m\u001b[0m\u001b[0m\n\u001b[0;32m     18\u001b[0m                 \u001b[0mdummy_board\u001b[0m\u001b[1;33m[\u001b[0m\u001b[1;36m0\u001b[0m\u001b[1;33m]\u001b[0m\u001b[1;33m[\u001b[0m\u001b[0mchoice\u001b[0m\u001b[1;33m]\u001b[0m \u001b[1;33m=\u001b[0m \u001b[1;36m1\u001b[0m\u001b[1;33m\u001b[0m\u001b[0m\n\u001b[1;32m---> 19\u001b[1;33m                 \u001b[0mmove_values\u001b[0m\u001b[1;33m[\u001b[0m\u001b[0mchoice\u001b[0m\u001b[1;33m]\u001b[0m \u001b[1;33m=\u001b[0m \u001b[1;33m-\u001b[0m\u001b[1;36m1\u001b[0m \u001b[1;33m*\u001b[0m \u001b[0moutput_fun\u001b[0m\u001b[1;33m(\u001b[0m\u001b[1;33m-\u001b[0m\u001b[1;36m1\u001b[0m\u001b[1;33m*\u001b[0m \u001b[0mdummy_board\u001b[0m\u001b[1;33m)\u001b[0m\u001b[1;33m\u001b[0m\u001b[0m\n\u001b[0m\u001b[0;32m     20\u001b[0m \u001b[1;33m\u001b[0m\u001b[0m\n\u001b[0;32m     21\u001b[0m \u001b[1;33m\u001b[0m\u001b[0m\n",
      "\u001b[1;31mTypeError\u001b[0m: 'NoneType' object is not callable"
     ]
    }
   ],
   "source": [
    "cccc.play(cccc.player(),nn_ai(value_funs_det[0]))"
   ]
  },
  {
   "cell_type": "code",
   "execution_count": 17,
   "metadata": {
    "collapsed": false,
    "scrolled": true
   },
   "outputs": [
    {
     "data": {
      "image/png": "[encoded data removed]",
      "text/plain": [
       "<matplotlib.figure.Figure at 0xd95cac8>"
      ]
     },
     "metadata": {},
     "output_type": "display_data"
    },
    {
     "name": "stdout",
     "output_type": "stream",
     "text": [
      "-0.158546747048\n"
     ]
    },
    {
     "data": {
      "image/png": "[encoded data removed]",
      "text/plain": [
       "<matplotlib.figure.Figure at 0xcbbefd0>"
      ]
     },
     "metadata": {},
     "output_type": "display_data"
    },
    {
     "name": "stdout",
     "output_type": "stream",
     "text": [
      "-0.0910054888915\n"
     ]
    },
    {
     "data": {
      "image/png": "[encoded data removed]",
      "text/plain": [
       "<matplotlib.figure.Figure at 0xc062208>"
      ]
     },
     "metadata": {},
     "output_type": "display_data"
    },
    {
     "name": "stdout",
     "output_type": "stream",
     "text": [
      "0.285640754601\n"
     ]
    },
    {
     "data": {
      "image/png": "[encoded data removed]",
      "text/plain": [
       "<matplotlib.figure.Figure at 0xaf3f320>"
      ]
     },
     "metadata": {},
     "output_type": "display_data"
    },
    {
     "name": "stdout",
     "output_type": "stream",
     "text": [
      "0.349145862433\n"
     ]
    },
    {
     "data": {
      "image/png": "[encoded data removed]",
      "text/plain": [
       "<matplotlib.figure.Figure at 0x10e9f4e0>"
      ]
     },
     "metadata": {},
     "output_type": "display_data"
    },
    {
     "name": "stdout",
     "output_type": "stream",
     "text": [
      "-0.492760632298\n"
     ]
    },
    {
     "data": {
      "image/png": "[encoded data removed]",
      "text/plain": [
       "<matplotlib.figure.Figure at 0xda2d0b8>"
      ]
     },
     "metadata": {},
     "output_type": "display_data"
    },
    {
     "name": "stdout",
     "output_type": "stream",
     "text": [
      "0.341428946067\n"
     ]
    },
    {
     "data": {
      "image/png": "[encoded data removed]",
      "text/plain": [
       "<matplotlib.figure.Figure at 0x10d45c50>"
      ]
     },
     "metadata": {},
     "output_type": "display_data"
    },
    {
     "name": "stdout",
     "output_type": "stream",
     "text": [
      "-0.420542728816\n"
     ]
    },
    {
     "data": {
      "image/png": "[encoded data removed]",
      "text/plain": [
       "<matplotlib.figure.Figure at 0x10f8b780>"
      ]
     },
     "metadata": {},
     "output_type": "display_data"
    },
    {
     "name": "stdout",
     "output_type": "stream",
     "text": [
      "0.596451093897\n"
     ]
    },
    {
     "data": {
      "image/png": "[encoded data removed]",
      "text/plain": [
       "<matplotlib.figure.Figure at 0x116c0160>"
      ]
     },
     "metadata": {},
     "output_type": "display_data"
    },
    {
     "name": "stdout",
     "output_type": "stream",
     "text": [
      "0.650609649934\n"
     ]
    },
    {
     "data": {
      "image/png": "[encoded data removed]",
      "text/plain": [
       "<matplotlib.figure.Figure at 0x1154ea58>"
      ]
     },
     "metadata": {},
     "output_type": "display_data"
    },
    {
     "name": "stdout",
     "output_type": "stream",
     "text": [
      "-0.609569279663\n"
     ]
    },
    {
     "data": {
      "image/png": "[encoded data removed]",
      "text/plain": [
       "<matplotlib.figure.Figure at 0x111bb5f8>"
      ]
     },
     "metadata": {},
     "output_type": "display_data"
    },
    {
     "name": "stdout",
     "output_type": "stream",
     "text": [
      "0.623903277606\n"
     ]
    },
    {
     "data": {
      "image/png": "[encoded data removed]",
      "text/plain": [
       "<matplotlib.figure.Figure at 0x11484780>"
      ]
     },
     "metadata": {},
     "output_type": "display_data"
    },
    {
     "name": "stdout",
     "output_type": "stream",
     "text": [
      "-0.48277871166\n"
     ]
    },
    {
     "data": {
      "image/png": "[encoded data removed]",
      "text/plain": [
       "<matplotlib.figure.Figure at 0xd1ec4e0>"
      ]
     },
     "metadata": {},
     "output_type": "display_data"
    },
    {
     "name": "stdout",
     "output_type": "stream",
     "text": [
      "0.502471112621\n"
     ]
    },
    {
     "data": {
      "image/png": "[encoded data removed]",
      "text/plain": [
       "<matplotlib.figure.Figure at 0xd2fcf98>"
      ]
     },
     "metadata": {},
     "output_type": "display_data"
    },
    {
     "name": "stdout",
     "output_type": "stream",
     "text": [
      "0.105177435219\n"
     ]
    },
    {
     "data": {
      "image/png": "[encoded data removed]",
      "text/plain": [
       "<matplotlib.figure.Figure at 0xd4ff278>"
      ]
     },
     "metadata": {},
     "output_type": "display_data"
    },
    {
     "name": "stdout",
     "output_type": "stream",
     "text": [
      "-1.0\n"
     ]
    },
    {
     "data": {
      "image/png": "[encoded data removed]",
      "text/plain": [
       "<matplotlib.figure.Figure at 0xbc54f28>"
      ]
     },
     "metadata": {},
     "output_type": "display_data"
    },
    {
     "name": "stdout",
     "output_type": "stream",
     "text": [
      "0.486379623323\n"
     ]
    },
    {
     "data": {
      "image/png": "[encoded data removed]",
      "text/plain": [
       "<matplotlib.figure.Figure at 0xd7047f0>"
      ]
     },
     "metadata": {},
     "output_type": "display_data"
    },
    {
     "name": "stdout",
     "output_type": "stream",
     "text": [
      "-0.123866446552\n"
     ]
    },
    {
     "data": {
      "image/png": "[encoded data removed]",
      "text/plain": [
       "<matplotlib.figure.Figure at 0xb092e48>"
      ]
     },
     "metadata": {},
     "output_type": "display_data"
    },
    {
     "name": "stdout",
     "output_type": "stream",
     "text": [
      "-0.807347581102\n"
     ]
    },
    {
     "data": {
      "image/png": "[encoded data removed]",
      "text/plain": [
       "<matplotlib.figure.Figure at 0xc291908>"
      ]
     },
     "metadata": {},
     "output_type": "display_data"
    },
    {
     "name": "stdout",
     "output_type": "stream",
     "text": [
      "0.791367261145\n"
     ]
    },
    {
     "data": {
      "image/png": "[encoded data removed]",
      "text/plain": [
       "<matplotlib.figure.Figure at 0xd750240>"
      ]
     },
     "metadata": {},
     "output_type": "display_data"
    },
    {
     "name": "stdout",
     "output_type": "stream",
     "text": [
      "-0.71474490044\n"
     ]
    },
    {
     "data": {
      "image/png": "[encoded data removed]",
      "text/plain": [
       "<matplotlib.figure.Figure at 0x109562b0>"
      ]
     },
     "metadata": {},
     "output_type": "display_data"
    },
    {
     "name": "stdout",
     "output_type": "stream",
     "text": [
      "0.633836258696\n"
     ]
    },
    {
     "data": {
      "image/png": "[encoded data removed]",
      "text/plain": [
       "<matplotlib.figure.Figure at 0xd737e10>"
      ]
     },
     "metadata": {},
     "output_type": "display_data"
    },
    {
     "name": "stdout",
     "output_type": "stream",
     "text": [
      "0.0503234167527\n"
     ]
    },
    {
     "data": {
      "image/png": "[encoded data removed]",
      "text/plain": [
       "<matplotlib.figure.Figure at 0xc6293c8>"
      ]
     },
     "metadata": {},
     "output_type": "display_data"
    },
    {
     "name": "stdout",
     "output_type": "stream",
     "text": [
      "-0.0567333840793\n"
     ]
    },
    {
     "data": {
      "image/png": "[encoded data removed]",
      "text/plain": [
       "<matplotlib.figure.Figure at 0xd1ceeb8>"
      ]
     },
     "metadata": {},
     "output_type": "display_data"
    },
    {
     "name": "stdout",
     "output_type": "stream",
     "text": [
      "0.0869491442986\n"
     ]
    },
    {
     "data": {
      "image/png": "[encoded data removed]",
      "text/plain": [
       "<matplotlib.figure.Figure at 0x110a3a58>"
      ]
     },
     "metadata": {},
     "output_type": "display_data"
    },
    {
     "name": "stdout",
     "output_type": "stream",
     "text": [
      "-1.0\n"
     ]
    },
    {
     "data": {
      "image/png": "[encoded data removed]",
      "text/plain": [
       "<matplotlib.figure.Figure at 0xaf13a20>"
      ]
     },
     "metadata": {},
     "output_type": "display_data"
    },
    {
     "name": "stdout",
     "output_type": "stream",
     "text": [
      "0.845841878185\n"
     ]
    },
    {
     "data": {
      "image/png": "[encoded data removed]",
      "text/plain": [
       "<matplotlib.figure.Figure at 0xd8f9ba8>"
      ]
     },
     "metadata": {},
     "output_type": "display_data"
    },
    {
     "name": "stdout",
     "output_type": "stream",
     "text": [
      "-0.710861969129\n"
     ]
    },
    {
     "data": {
      "image/png": "[encoded data removed]",
      "text/plain": [
       "<matplotlib.figure.Figure at 0xc45a588>"
      ]
     },
     "metadata": {},
     "output_type": "display_data"
    },
    {
     "name": "stdout",
     "output_type": "stream",
     "text": [
      "0.510882743082\n"
     ]
    },
    {
     "data": {
      "image/png": "[encoded data removed]",
      "text/plain": [
       "<matplotlib.figure.Figure at 0xd8c7278>"
      ]
     },
     "metadata": {},
     "output_type": "display_data"
    },
    {
     "name": "stdout",
     "output_type": "stream",
     "text": [
      "-0.394390615253\n"
     ]
    },
    {
     "data": {
      "image/png": "[encoded data removed]",
      "text/plain": [
       "<matplotlib.figure.Figure at 0xd8602e8>"
      ]
     },
     "metadata": {},
     "output_type": "display_data"
    },
    {
     "name": "stdout",
     "output_type": "stream",
     "text": [
      "0.226137873797\n"
     ]
    },
    {
     "data": {
      "image/png": "[encoded data removed]",
      "text/plain": [
       "<matplotlib.figure.Figure at 0xd507b38>"
      ]
     },
     "metadata": {},
     "output_type": "display_data"
    },
    {
     "name": "stdout",
     "output_type": "stream",
     "text": [
      "-0.135962455555\n"
     ]
    },
    {
     "data": {
      "image/png": "[encoded data removed]",
      "text/plain": [
       "<matplotlib.figure.Figure at 0x11091fd0>"
      ]
     },
     "metadata": {},
     "output_type": "display_data"
    },
    {
     "name": "stdout",
     "output_type": "stream",
     "text": [
      "0.233448754933\n"
     ]
    },
    {
     "data": {
      "image/png": "[encoded data removed]",
      "text/plain": [
       "<matplotlib.figure.Figure at 0xd603e10>"
      ]
     },
     "metadata": {},
     "output_type": "display_data"
    },
    {
     "name": "stdout",
     "output_type": "stream",
     "text": [
      "-0.0555804672359\n"
     ]
    },
    {
     "data": {
      "image/png": "[encoded data removed]",
      "text/plain": [
       "<matplotlib.figure.Figure at 0xc06b518>"
      ]
     },
     "metadata": {},
     "output_type": "display_data"
    },
    {
     "name": "stdout",
     "output_type": "stream",
     "text": [
      "0.0186036151634\n"
     ]
    },
    {
     "data": {
      "image/png": "[encoded data removed]",
      "text/plain": [
       "<matplotlib.figure.Figure at 0xd61a128>"
      ]
     },
     "metadata": {},
     "output_type": "display_data"
    },
    {
     "name": "stdout",
     "output_type": "stream",
     "text": [
      "-0.0621508681407\n"
     ]
    },
    {
     "data": {
      "image/png": "[encoded data removed]",
      "text/plain": [
       "<matplotlib.figure.Figure at 0xd55c400>"
      ]
     },
     "metadata": {},
     "output_type": "display_data"
    },
    {
     "name": "stdout",
     "output_type": "stream",
     "text": [
      "0.127900720306\n"
     ]
    },
    {
     "data": {
      "image/png": "[encoded data removed]",
      "text/plain": [
       "<matplotlib.figure.Figure at 0xbbf0780>"
      ]
     },
     "metadata": {},
     "output_type": "display_data"
    },
    {
     "name": "stdout",
     "output_type": "stream",
     "text": [
      "-1.0\n"
     ]
    },
    {
     "data": {
      "image/png": "[encoded data removed]",
      "text/plain": [
       "<matplotlib.figure.Figure at 0xcdab2b0>"
      ]
     },
     "metadata": {},
     "output_type": "display_data"
    },
    {
     "name": "stdout",
     "output_type": "stream",
     "text": [
      "0.843739326072\n"
     ]
    },
    {
     "data": {
      "image/png": "[encoded data removed]",
      "text/plain": [
       "<matplotlib.figure.Figure at 0x1109b9e8>"
      ]
     },
     "metadata": {},
     "output_type": "display_data"
    },
    {
     "name": "stdout",
     "output_type": "stream",
     "text": [
      "-0.861039911651\n"
     ]
    },
    {
     "data": {
      "image/png": "[encoded data removed]",
      "text/plain": [
       "<matplotlib.figure.Figure at 0xd754278>"
      ]
     },
     "metadata": {},
     "output_type": "display_data"
    },
    {
     "name": "stdout",
     "output_type": "stream",
     "text": [
      "0.853512564138\n"
     ]
    },
    {
     "data": {
      "image/png": "[encoded data removed]",
      "text/plain": [
       "<matplotlib.figure.Figure at 0xd2f5780>"
      ]
     },
     "metadata": {},
     "output_type": "display_data"
    },
    {
     "name": "stdout",
     "output_type": "stream",
     "text": [
      "0.0708102370847\n"
     ]
    },
    {
     "data": {
      "image/png": "[encoded data removed]",
      "text/plain": [
       "<matplotlib.figure.Figure at 0xbfd7b38>"
      ]
     },
     "metadata": {},
     "output_type": "display_data"
    },
    {
     "name": "stdout",
     "output_type": "stream",
     "text": [
      "-0.0774410525188\n"
     ]
    },
    {
     "data": {
      "image/png": "[encoded data removed]",
      "text/plain": [
       "<matplotlib.figure.Figure at 0x10f91fd0>"
      ]
     },
     "metadata": {},
     "output_type": "display_data"
    },
    {
     "name": "stdout",
     "output_type": "stream",
     "text": [
      "0.09962223042\n"
     ]
    },
    {
     "data": {
      "image/png": "[encoded data removed]",
      "text/plain": [
       "<matplotlib.figure.Figure at 0xbfb4278>"
      ]
     },
     "metadata": {},
     "output_type": "display_data"
    },
    {
     "name": "stdout",
     "output_type": "stream",
     "text": [
      "-1.0\n"
     ]
    },
    {
     "data": {
      "image/png": "[encoded data removed]",
      "text/plain": [
       "<matplotlib.figure.Figure at 0xd705c50>"
      ]
     },
     "metadata": {},
     "output_type": "display_data"
    },
    {
     "name": "stdout",
     "output_type": "stream",
     "text": [
      "0.828964093214\n"
     ]
    },
    {
     "data": {
      "image/png": "[encoded data removed]",
      "text/plain": [
       "<matplotlib.figure.Figure at 0xc2d96a0>"
      ]
     },
     "metadata": {},
     "output_type": "display_data"
    },
    {
     "name": "stdout",
     "output_type": "stream",
     "text": [
      "-0.381395198078\n"
     ]
    },
    {
     "data": {
      "image/png": "[encoded data removed]",
      "text/plain": [
       "<matplotlib.figure.Figure at 0xc61f3c8>"
      ]
     },
     "metadata": {},
     "output_type": "display_data"
    },
    {
     "name": "stdout",
     "output_type": "stream",
     "text": [
      "0.614195882682\n"
     ]
    },
    {
     "data": {
      "image/png": "[encoded data removed]",
      "text/plain": [
       "<matplotlib.figure.Figure at 0xd95cbe0>"
      ]
     },
     "metadata": {},
     "output_type": "display_data"
    },
    {
     "name": "stdout",
     "output_type": "stream",
     "text": [
      "-0.717960348429\n"
     ]
    },
    {
     "data": {
      "image/png": "[encoded data removed]",
      "text/plain": [
       "<matplotlib.figure.Figure at 0xc1bdb70>"
      ]
     },
     "metadata": {},
     "output_type": "display_data"
    },
    {
     "name": "stdout",
     "output_type": "stream",
     "text": [
      "0.793746472182\n"
     ]
    },
    {
     "data": {
      "image/png": "[encoded data removed]",
      "text/plain": [
       "<matplotlib.figure.Figure at 0xd1c1860>"
      ]
     },
     "metadata": {},
     "output_type": "display_data"
    },
    {
     "name": "stdout",
     "output_type": "stream",
     "text": [
      "-0.732746176399\n"
     ]
    },
    {
     "data": {
      "image/png": "[encoded data removed]",
      "text/plain": [
       "<matplotlib.figure.Figure at 0xd8c80f0>"
      ]
     },
     "metadata": {},
     "output_type": "display_data"
    },
    {
     "name": "stdout",
     "output_type": "stream",
     "text": [
      "0.740898224717\n"
     ]
    },
    {
     "data": {
      "image/png": "[encoded data removed]",
      "text/plain": [
       "<matplotlib.figure.Figure at 0xbf3b2e8>"
      ]
     },
     "metadata": {},
     "output_type": "display_data"
    },
    {
     "name": "stdout",
     "output_type": "stream",
     "text": [
      "-0.129102363209\n"
     ]
    },
    {
     "data": {
      "image/png": "[encoded data removed]",
      "text/plain": [
       "<matplotlib.figure.Figure at 0xd621b38>"
      ]
     },
     "metadata": {},
     "output_type": "display_data"
    },
    {
     "name": "stdout",
     "output_type": "stream",
     "text": [
      "0.0873890200478\n"
     ]
    },
    {
     "ename": "KeyboardInterrupt",
     "evalue": "",
     "output_type": "error",
     "traceback": [
      "\u001b[1;31m---------------------------------------------------------------------------\u001b[0m",
      "\u001b[1;31mKeyboardInterrupt\u001b[0m                         Traceback (most recent call last)",
      "\u001b[1;32m<ipython-input-17-54c5bc9a37fa>\u001b[0m in \u001b[0;36m<module>\u001b[1;34m()\u001b[0m\n\u001b[0;32m      1\u001b[0m \u001b[1;32mfor\u001b[0m \u001b[0mi\u001b[0m \u001b[1;32min\u001b[0m \u001b[0mrange\u001b[0m\u001b[1;33m(\u001b[0m\u001b[1;36m100\u001b[0m\u001b[1;33m)\u001b[0m\u001b[1;33m:\u001b[0m\u001b[1;33m\u001b[0m\u001b[0m\n\u001b[1;32m----> 2\u001b[1;33m     \u001b[0mplt\u001b[0m\u001b[1;33m.\u001b[0m\u001b[0mimshow\u001b[0m\u001b[1;33m(\u001b[0m\u001b[0mtraining_data\u001b[0m\u001b[1;33m[\u001b[0m\u001b[0mi\u001b[0m\u001b[1;33m]\u001b[0m\u001b[1;33m,\u001b[0m\u001b[0minterpolation\u001b[0m \u001b[1;33m=\u001b[0m \u001b[1;34m'nearest'\u001b[0m\u001b[1;33m)\u001b[0m\u001b[1;33m\u001b[0m\u001b[0m\n\u001b[0m\u001b[0;32m      3\u001b[0m     \u001b[0mplt\u001b[0m\u001b[1;33m.\u001b[0m\u001b[0mshow\u001b[0m\u001b[1;33m(\u001b[0m\u001b[1;33m)\u001b[0m\u001b[1;33m\u001b[0m\u001b[0m\n\u001b[0;32m      4\u001b[0m     \u001b[1;32mprint\u001b[0m \u001b[0mtarget_data\u001b[0m\u001b[1;33m[\u001b[0m\u001b[0mi\u001b[0m\u001b[1;33m]\u001b[0m\u001b[1;33m\u001b[0m\u001b[0m\n\u001b[0;32m      5\u001b[0m \u001b[0mtraining_data\u001b[0m\u001b[1;33m[\u001b[0m\u001b[1;36m0\u001b[0m\u001b[1;33m]\u001b[0m\u001b[1;33m\u001b[0m\u001b[0m\n",
      "\u001b[1;32mC:\\Users\\Todd\\Anaconda2\\lib\\site-packages\\matplotlib\\pyplot.pyc\u001b[0m in \u001b[0;36mimshow\u001b[1;34m(X, cmap, norm, aspect, interpolation, alpha, vmin, vmax, origin, extent, shape, filternorm, filterrad, imlim, resample, url, hold, data, **kwargs)\u001b[0m\n\u001b[0;32m   3008\u001b[0m            \u001b[0mfilternorm\u001b[0m\u001b[1;33m=\u001b[0m\u001b[1;36m1\u001b[0m\u001b[1;33m,\u001b[0m \u001b[0mfilterrad\u001b[0m\u001b[1;33m=\u001b[0m\u001b[1;36m4.0\u001b[0m\u001b[1;33m,\u001b[0m \u001b[0mimlim\u001b[0m\u001b[1;33m=\u001b[0m\u001b[0mNone\u001b[0m\u001b[1;33m,\u001b[0m \u001b[0mresample\u001b[0m\u001b[1;33m=\u001b[0m\u001b[0mNone\u001b[0m\u001b[1;33m,\u001b[0m \u001b[0murl\u001b[0m\u001b[1;33m=\u001b[0m\u001b[0mNone\u001b[0m\u001b[1;33m,\u001b[0m\u001b[1;33m\u001b[0m\u001b[0m\n\u001b[0;32m   3009\u001b[0m            hold=None, data=None, **kwargs):\n\u001b[1;32m-> 3010\u001b[1;33m     \u001b[0max\u001b[0m \u001b[1;33m=\u001b[0m \u001b[0mgca\u001b[0m\u001b[1;33m(\u001b[0m\u001b[1;33m)\u001b[0m\u001b[1;33m\u001b[0m\u001b[0m\n\u001b[0m\u001b[0;32m   3011\u001b[0m     \u001b[1;31m# allow callers to override the hold state by passing hold=True|False\u001b[0m\u001b[1;33m\u001b[0m\u001b[1;33m\u001b[0m\u001b[0m\n\u001b[0;32m   3012\u001b[0m     \u001b[0mwashold\u001b[0m \u001b[1;33m=\u001b[0m \u001b[0max\u001b[0m\u001b[1;33m.\u001b[0m\u001b[0mishold\u001b[0m\u001b[1;33m(\u001b[0m\u001b[1;33m)\u001b[0m\u001b[1;33m\u001b[0m\u001b[0m\n",
      "\u001b[1;32mC:\\Users\\Todd\\Anaconda2\\lib\\site-packages\\matplotlib\\pyplot.pyc\u001b[0m in \u001b[0;36mgca\u001b[1;34m(**kwargs)\u001b[0m\n\u001b[0;32m    926\u001b[0m     \u001b[0mmatplotlib\u001b[0m\u001b[1;33m.\u001b[0m\u001b[0mfigure\u001b[0m\u001b[1;33m.\u001b[0m\u001b[0mFigure\u001b[0m\u001b[1;33m.\u001b[0m\u001b[0mgca\u001b[0m \u001b[1;33m:\u001b[0m \u001b[0mThe\u001b[0m \u001b[0mfigure\u001b[0m\u001b[0;31m'\u001b[0m\u001b[0ms\u001b[0m \u001b[0mgca\u001b[0m \u001b[0mmethod\u001b[0m\u001b[1;33m.\u001b[0m\u001b[1;33m\u001b[0m\u001b[0m\n\u001b[0;32m    927\u001b[0m     \"\"\"\n\u001b[1;32m--> 928\u001b[1;33m     \u001b[1;32mreturn\u001b[0m \u001b[0mgcf\u001b[0m\u001b[1;33m(\u001b[0m\u001b[1;33m)\u001b[0m\u001b[1;33m.\u001b[0m\u001b[0mgca\u001b[0m\u001b[1;33m(\u001b[0m\u001b[1;33m**\u001b[0m\u001b[0mkwargs\u001b[0m\u001b[1;33m)\u001b[0m\u001b[1;33m\u001b[0m\u001b[0m\n\u001b[0m\u001b[0;32m    929\u001b[0m \u001b[1;33m\u001b[0m\u001b[0m\n\u001b[0;32m    930\u001b[0m \u001b[1;31m# More ways of creating axes:\u001b[0m\u001b[1;33m\u001b[0m\u001b[1;33m\u001b[0m\u001b[0m\n",
      "\u001b[1;32mC:\\Users\\Todd\\Anaconda2\\lib\\site-packages\\matplotlib\\figure.pyc\u001b[0m in \u001b[0;36mgca\u001b[1;34m(self, **kwargs)\u001b[0m\n\u001b[0;32m   1357\u001b[0m \u001b[1;33m\u001b[0m\u001b[0m\n\u001b[0;32m   1358\u001b[0m         \u001b[1;31m# no axes found, so create one which spans the figure\u001b[0m\u001b[1;33m\u001b[0m\u001b[1;33m\u001b[0m\u001b[0m\n\u001b[1;32m-> 1359\u001b[1;33m         \u001b[1;32mreturn\u001b[0m \u001b[0mself\u001b[0m\u001b[1;33m.\u001b[0m\u001b[0madd_subplot\u001b[0m\u001b[1;33m(\u001b[0m\u001b[1;36m1\u001b[0m\u001b[1;33m,\u001b[0m \u001b[1;36m1\u001b[0m\u001b[1;33m,\u001b[0m \u001b[1;36m1\u001b[0m\u001b[1;33m,\u001b[0m \u001b[1;33m**\u001b[0m\u001b[0mkwargs\u001b[0m\u001b[1;33m)\u001b[0m\u001b[1;33m\u001b[0m\u001b[0m\n\u001b[0m\u001b[0;32m   1360\u001b[0m \u001b[1;33m\u001b[0m\u001b[0m\n\u001b[0;32m   1361\u001b[0m     \u001b[1;32mdef\u001b[0m \u001b[0msca\u001b[0m\u001b[1;33m(\u001b[0m\u001b[0mself\u001b[0m\u001b[1;33m,\u001b[0m \u001b[0ma\u001b[0m\u001b[1;33m)\u001b[0m\u001b[1;33m:\u001b[0m\u001b[1;33m\u001b[0m\u001b[0m\n",
      "\u001b[1;32mC:\\Users\\Todd\\Anaconda2\\lib\\site-packages\\matplotlib\\figure.pyc\u001b[0m in \u001b[0;36madd_subplot\u001b[1;34m(self, *args, **kwargs)\u001b[0m\n\u001b[0;32m   1003\u001b[0m                     \u001b[0mself\u001b[0m\u001b[1;33m.\u001b[0m\u001b[0m_axstack\u001b[0m\u001b[1;33m.\u001b[0m\u001b[0mremove\u001b[0m\u001b[1;33m(\u001b[0m\u001b[0max\u001b[0m\u001b[1;33m)\u001b[0m\u001b[1;33m\u001b[0m\u001b[0m\n\u001b[0;32m   1004\u001b[0m \u001b[1;33m\u001b[0m\u001b[0m\n\u001b[1;32m-> 1005\u001b[1;33m             \u001b[0ma\u001b[0m \u001b[1;33m=\u001b[0m \u001b[0msubplot_class_factory\u001b[0m\u001b[1;33m(\u001b[0m\u001b[0mprojection_class\u001b[0m\u001b[1;33m)\u001b[0m\u001b[1;33m(\u001b[0m\u001b[0mself\u001b[0m\u001b[1;33m,\u001b[0m \u001b[1;33m*\u001b[0m\u001b[0margs\u001b[0m\u001b[1;33m,\u001b[0m \u001b[1;33m**\u001b[0m\u001b[0mkwargs\u001b[0m\u001b[1;33m)\u001b[0m\u001b[1;33m\u001b[0m\u001b[0m\n\u001b[0m\u001b[0;32m   1006\u001b[0m \u001b[1;33m\u001b[0m\u001b[0m\n\u001b[0;32m   1007\u001b[0m         \u001b[0mself\u001b[0m\u001b[1;33m.\u001b[0m\u001b[0m_axstack\u001b[0m\u001b[1;33m.\u001b[0m\u001b[0madd\u001b[0m\u001b[1;33m(\u001b[0m\u001b[0mkey\u001b[0m\u001b[1;33m,\u001b[0m \u001b[0ma\u001b[0m\u001b[1;33m)\u001b[0m\u001b[1;33m\u001b[0m\u001b[0m\n",
      "\u001b[1;32mC:\\Users\\Todd\\Anaconda2\\lib\\site-packages\\matplotlib\\axes\\_subplots.pyc\u001b[0m in \u001b[0;36m__init__\u001b[1;34m(self, fig, *args, **kwargs)\u001b[0m\n\u001b[0;32m     71\u001b[0m \u001b[1;33m\u001b[0m\u001b[0m\n\u001b[0;32m     72\u001b[0m         \u001b[1;31m# _axes_class is set in the subplot_class_factory\u001b[0m\u001b[1;33m\u001b[0m\u001b[1;33m\u001b[0m\u001b[0m\n\u001b[1;32m---> 73\u001b[1;33m         \u001b[0mself\u001b[0m\u001b[1;33m.\u001b[0m\u001b[0m_axes_class\u001b[0m\u001b[1;33m.\u001b[0m\u001b[0m__init__\u001b[0m\u001b[1;33m(\u001b[0m\u001b[0mself\u001b[0m\u001b[1;33m,\u001b[0m \u001b[0mfig\u001b[0m\u001b[1;33m,\u001b[0m \u001b[0mself\u001b[0m\u001b[1;33m.\u001b[0m\u001b[0mfigbox\u001b[0m\u001b[1;33m,\u001b[0m \u001b[1;33m**\u001b[0m\u001b[0mkwargs\u001b[0m\u001b[1;33m)\u001b[0m\u001b[1;33m\u001b[0m\u001b[0m\n\u001b[0m\u001b[0;32m     74\u001b[0m \u001b[1;33m\u001b[0m\u001b[0m\n\u001b[0;32m     75\u001b[0m     \u001b[1;32mdef\u001b[0m \u001b[0m__reduce__\u001b[0m\u001b[1;33m(\u001b[0m\u001b[0mself\u001b[0m\u001b[1;33m)\u001b[0m\u001b[1;33m:\u001b[0m\u001b[1;33m\u001b[0m\u001b[0m\n",
      "\u001b[1;32mC:\\Users\\Todd\\Anaconda2\\lib\\site-packages\\matplotlib\\axes\\_base.pyc\u001b[0m in \u001b[0;36m__init__\u001b[1;34m(self, fig, rect, axisbg, frameon, sharex, sharey, label, xscale, yscale, **kwargs)\u001b[0m\n\u001b[0;32m    506\u001b[0m \u001b[1;33m\u001b[0m\u001b[0m\n\u001b[0;32m    507\u001b[0m         \u001b[1;31m# this call may differ for non-sep axes, e.g., polar\u001b[0m\u001b[1;33m\u001b[0m\u001b[1;33m\u001b[0m\u001b[0m\n\u001b[1;32m--> 508\u001b[1;33m         \u001b[0mself\u001b[0m\u001b[1;33m.\u001b[0m\u001b[0m_init_axis\u001b[0m\u001b[1;33m(\u001b[0m\u001b[1;33m)\u001b[0m\u001b[1;33m\u001b[0m\u001b[0m\n\u001b[0m\u001b[0;32m    509\u001b[0m \u001b[1;33m\u001b[0m\u001b[0m\n\u001b[0;32m    510\u001b[0m         \u001b[1;32mif\u001b[0m \u001b[0maxisbg\u001b[0m \u001b[1;32mis\u001b[0m \u001b[0mNone\u001b[0m\u001b[1;33m:\u001b[0m\u001b[1;33m\u001b[0m\u001b[0m\n",
      "\u001b[1;32mC:\\Users\\Todd\\Anaconda2\\lib\\site-packages\\matplotlib\\axes\\_base.pyc\u001b[0m in \u001b[0;36m_init_axis\u001b[1;34m(self)\u001b[0m\n\u001b[0;32m    567\u001b[0m         \u001b[0mself\u001b[0m\u001b[1;33m.\u001b[0m\u001b[0mspines\u001b[0m\u001b[1;33m[\u001b[0m\u001b[1;34m'bottom'\u001b[0m\u001b[1;33m]\u001b[0m\u001b[1;33m.\u001b[0m\u001b[0mregister_axis\u001b[0m\u001b[1;33m(\u001b[0m\u001b[0mself\u001b[0m\u001b[1;33m.\u001b[0m\u001b[0mxaxis\u001b[0m\u001b[1;33m)\u001b[0m\u001b[1;33m\u001b[0m\u001b[0m\n\u001b[0;32m    568\u001b[0m         \u001b[0mself\u001b[0m\u001b[1;33m.\u001b[0m\u001b[0mspines\u001b[0m\u001b[1;33m[\u001b[0m\u001b[1;34m'top'\u001b[0m\u001b[1;33m]\u001b[0m\u001b[1;33m.\u001b[0m\u001b[0mregister_axis\u001b[0m\u001b[1;33m(\u001b[0m\u001b[0mself\u001b[0m\u001b[1;33m.\u001b[0m\u001b[0mxaxis\u001b[0m\u001b[1;33m)\u001b[0m\u001b[1;33m\u001b[0m\u001b[0m\n\u001b[1;32m--> 569\u001b[1;33m         \u001b[0mself\u001b[0m\u001b[1;33m.\u001b[0m\u001b[0myaxis\u001b[0m \u001b[1;33m=\u001b[0m \u001b[0mmaxis\u001b[0m\u001b[1;33m.\u001b[0m\u001b[0mYAxis\u001b[0m\u001b[1;33m(\u001b[0m\u001b[0mself\u001b[0m\u001b[1;33m)\u001b[0m\u001b[1;33m\u001b[0m\u001b[0m\n\u001b[0m\u001b[0;32m    570\u001b[0m         \u001b[0mself\u001b[0m\u001b[1;33m.\u001b[0m\u001b[0mspines\u001b[0m\u001b[1;33m[\u001b[0m\u001b[1;34m'left'\u001b[0m\u001b[1;33m]\u001b[0m\u001b[1;33m.\u001b[0m\u001b[0mregister_axis\u001b[0m\u001b[1;33m(\u001b[0m\u001b[0mself\u001b[0m\u001b[1;33m.\u001b[0m\u001b[0myaxis\u001b[0m\u001b[1;33m)\u001b[0m\u001b[1;33m\u001b[0m\u001b[0m\n\u001b[0;32m    571\u001b[0m         \u001b[0mself\u001b[0m\u001b[1;33m.\u001b[0m\u001b[0mspines\u001b[0m\u001b[1;33m[\u001b[0m\u001b[1;34m'right'\u001b[0m\u001b[1;33m]\u001b[0m\u001b[1;33m.\u001b[0m\u001b[0mregister_axis\u001b[0m\u001b[1;33m(\u001b[0m\u001b[0mself\u001b[0m\u001b[1;33m.\u001b[0m\u001b[0myaxis\u001b[0m\u001b[1;33m)\u001b[0m\u001b[1;33m\u001b[0m\u001b[0m\n",
      "\u001b[1;32mC:\\Users\\Todd\\Anaconda2\\lib\\site-packages\\matplotlib\\axis.pyc\u001b[0m in \u001b[0;36m__init__\u001b[1;34m(self, axes, pickradius)\u001b[0m\n\u001b[0;32m    647\u001b[0m         \u001b[0mself\u001b[0m\u001b[1;33m.\u001b[0m\u001b[0mlabel\u001b[0m \u001b[1;33m=\u001b[0m \u001b[0mself\u001b[0m\u001b[1;33m.\u001b[0m\u001b[0m_get_label\u001b[0m\u001b[1;33m(\u001b[0m\u001b[1;33m)\u001b[0m\u001b[1;33m\u001b[0m\u001b[0m\n\u001b[0;32m    648\u001b[0m         \u001b[0mself\u001b[0m\u001b[1;33m.\u001b[0m\u001b[0mlabelpad\u001b[0m \u001b[1;33m=\u001b[0m \u001b[0mrcParams\u001b[0m\u001b[1;33m[\u001b[0m\u001b[1;34m'axes.labelpad'\u001b[0m\u001b[1;33m]\u001b[0m\u001b[1;33m\u001b[0m\u001b[0m\n\u001b[1;32m--> 649\u001b[1;33m         \u001b[0mself\u001b[0m\u001b[1;33m.\u001b[0m\u001b[0moffsetText\u001b[0m \u001b[1;33m=\u001b[0m \u001b[0mself\u001b[0m\u001b[1;33m.\u001b[0m\u001b[0m_get_offset_text\u001b[0m\u001b[1;33m(\u001b[0m\u001b[1;33m)\u001b[0m\u001b[1;33m\u001b[0m\u001b[0m\n\u001b[0m\u001b[0;32m    650\u001b[0m         \u001b[0mself\u001b[0m\u001b[1;33m.\u001b[0m\u001b[0mmajorTicks\u001b[0m \u001b[1;33m=\u001b[0m \u001b[1;33m[\u001b[0m\u001b[1;33m]\u001b[0m\u001b[1;33m\u001b[0m\u001b[0m\n\u001b[0;32m    651\u001b[0m         \u001b[0mself\u001b[0m\u001b[1;33m.\u001b[0m\u001b[0mminorTicks\u001b[0m \u001b[1;33m=\u001b[0m \u001b[1;33m[\u001b[0m\u001b[1;33m]\u001b[0m\u001b[1;33m\u001b[0m\u001b[0m\n",
      "\u001b[1;32mC:\\Users\\Todd\\Anaconda2\\lib\\site-packages\\matplotlib\\axis.pyc\u001b[0m in \u001b[0;36m_get_offset_text\u001b[1;34m(self)\u001b[0m\n\u001b[0;32m   2030\u001b[0m                                 horizontalalignment='left')\n\u001b[0;32m   2031\u001b[0m         offsetText.set_transform(mtransforms.blended_transform_factory(\n\u001b[1;32m-> 2032\u001b[1;33m             self.axes.transAxes, mtransforms.IdentityTransform())\n\u001b[0m\u001b[0;32m   2033\u001b[0m         )\n\u001b[0;32m   2034\u001b[0m         \u001b[0mself\u001b[0m\u001b[1;33m.\u001b[0m\u001b[0m_set_artist_props\u001b[0m\u001b[1;33m(\u001b[0m\u001b[0moffsetText\u001b[0m\u001b[1;33m)\u001b[0m\u001b[1;33m\u001b[0m\u001b[0m\n",
      "\u001b[1;32mC:\\Users\\Todd\\Anaconda2\\lib\\site-packages\\matplotlib\\transforms.pyc\u001b[0m in \u001b[0;36mblended_transform_factory\u001b[1;34m(x_transform, y_transform)\u001b[0m\n\u001b[0;32m   2252\u001b[0m     if (isinstance(x_transform, Affine2DBase)\n\u001b[0;32m   2253\u001b[0m         and isinstance(y_transform, Affine2DBase)):\n\u001b[1;32m-> 2254\u001b[1;33m         \u001b[1;32mreturn\u001b[0m \u001b[0mBlendedAffine2D\u001b[0m\u001b[1;33m(\u001b[0m\u001b[0mx_transform\u001b[0m\u001b[1;33m,\u001b[0m \u001b[0my_transform\u001b[0m\u001b[1;33m)\u001b[0m\u001b[1;33m\u001b[0m\u001b[0m\n\u001b[0m\u001b[0;32m   2255\u001b[0m     \u001b[1;32mreturn\u001b[0m \u001b[0mBlendedGenericTransform\u001b[0m\u001b[1;33m(\u001b[0m\u001b[0mx_transform\u001b[0m\u001b[1;33m,\u001b[0m \u001b[0my_transform\u001b[0m\u001b[1;33m)\u001b[0m\u001b[1;33m\u001b[0m\u001b[0m\n\u001b[0;32m   2256\u001b[0m \u001b[1;33m\u001b[0m\u001b[0m\n",
      "\u001b[1;32mC:\\Users\\Todd\\Anaconda2\\lib\\site-packages\\matplotlib\\transforms.pyc\u001b[0m in \u001b[0;36m__init__\u001b[1;34m(self, x_transform, y_transform, **kwargs)\u001b[0m\n\u001b[0;32m   2206\u001b[0m         \u001b[0mself\u001b[0m\u001b[1;33m.\u001b[0m\u001b[0mset_children\u001b[0m\u001b[1;33m(\u001b[0m\u001b[0mx_transform\u001b[0m\u001b[1;33m,\u001b[0m \u001b[0my_transform\u001b[0m\u001b[1;33m)\u001b[0m\u001b[1;33m\u001b[0m\u001b[0m\n\u001b[0;32m   2207\u001b[0m \u001b[1;33m\u001b[0m\u001b[0m\n\u001b[1;32m-> 2208\u001b[1;33m         \u001b[0mAffine2DBase\u001b[0m\u001b[1;33m.\u001b[0m\u001b[0m__init__\u001b[0m\u001b[1;33m(\u001b[0m\u001b[0mself\u001b[0m\u001b[1;33m)\u001b[0m\u001b[1;33m\u001b[0m\u001b[0m\n\u001b[0m\u001b[0;32m   2209\u001b[0m         \u001b[0mself\u001b[0m\u001b[1;33m.\u001b[0m\u001b[0m_mtx\u001b[0m \u001b[1;33m=\u001b[0m \u001b[0mNone\u001b[0m\u001b[1;33m\u001b[0m\u001b[0m\n\u001b[0;32m   2210\u001b[0m \u001b[1;33m\u001b[0m\u001b[0m\n",
      "\u001b[1;32mC:\\Users\\Todd\\Anaconda2\\lib\\site-packages\\matplotlib\\transforms.pyc\u001b[0m in \u001b[0;36m__init__\u001b[1;34m(self, *args, **kwargs)\u001b[0m\n\u001b[0;32m   1639\u001b[0m \u001b[1;33m\u001b[0m\u001b[0m\n\u001b[0;32m   1640\u001b[0m     \u001b[1;32mdef\u001b[0m \u001b[0m__init__\u001b[0m\u001b[1;33m(\u001b[0m\u001b[0mself\u001b[0m\u001b[1;33m,\u001b[0m \u001b[1;33m*\u001b[0m\u001b[0margs\u001b[0m\u001b[1;33m,\u001b[0m \u001b[1;33m**\u001b[0m\u001b[0mkwargs\u001b[0m\u001b[1;33m)\u001b[0m\u001b[1;33m:\u001b[0m\u001b[1;33m\u001b[0m\u001b[0m\n\u001b[1;32m-> 1641\u001b[1;33m         \u001b[0mTransform\u001b[0m\u001b[1;33m.\u001b[0m\u001b[0m__init__\u001b[0m\u001b[1;33m(\u001b[0m\u001b[0mself\u001b[0m\u001b[1;33m,\u001b[0m \u001b[1;33m*\u001b[0m\u001b[0margs\u001b[0m\u001b[1;33m,\u001b[0m \u001b[1;33m**\u001b[0m\u001b[0mkwargs\u001b[0m\u001b[1;33m)\u001b[0m\u001b[1;33m\u001b[0m\u001b[0m\n\u001b[0m\u001b[0;32m   1642\u001b[0m         \u001b[0mself\u001b[0m\u001b[1;33m.\u001b[0m\u001b[0m_inverted\u001b[0m \u001b[1;33m=\u001b[0m \u001b[0mNone\u001b[0m\u001b[1;33m\u001b[0m\u001b[0m\n\u001b[0;32m   1643\u001b[0m \u001b[1;33m\u001b[0m\u001b[0m\n",
      "\u001b[1;32mC:\\Users\\Todd\\Anaconda2\\lib\\site-packages\\matplotlib\\transforms.pyc\u001b[0m in \u001b[0;36m__init__\u001b[1;34m(self, shorthand_name)\u001b[0m\n\u001b[0;32m     96\u001b[0m         \u001b[1;31m# parents are deleted, references from the children won't keep\u001b[0m\u001b[1;33m\u001b[0m\u001b[1;33m\u001b[0m\u001b[0m\n\u001b[0;32m     97\u001b[0m         \u001b[1;31m# them alive.\u001b[0m\u001b[1;33m\u001b[0m\u001b[1;33m\u001b[0m\u001b[0m\n\u001b[1;32m---> 98\u001b[1;33m         \u001b[0mself\u001b[0m\u001b[1;33m.\u001b[0m\u001b[0m_parents\u001b[0m \u001b[1;33m=\u001b[0m \u001b[0mWeakValueDictionary\u001b[0m\u001b[1;33m(\u001b[0m\u001b[1;33m)\u001b[0m\u001b[1;33m\u001b[0m\u001b[0m\n\u001b[0m\u001b[0;32m     99\u001b[0m \u001b[1;33m\u001b[0m\u001b[0m\n\u001b[0;32m    100\u001b[0m         \u001b[1;31m# TransformNodes start out as invalid until their values are\u001b[0m\u001b[1;33m\u001b[0m\u001b[1;33m\u001b[0m\u001b[0m\n",
      "\u001b[1;32mC:\\Users\\Todd\\Anaconda2\\lib\\weakref.pyc\u001b[0m in \u001b[0;36m__init__\u001b[1;34m(*args, **kw)\u001b[0m\n\u001b[0;32m     64\u001b[0m         \u001b[0mself\u001b[0m\u001b[1;33m.\u001b[0m\u001b[0m_pending_removals\u001b[0m \u001b[1;33m=\u001b[0m \u001b[1;33m[\u001b[0m\u001b[1;33m]\u001b[0m\u001b[1;33m\u001b[0m\u001b[0m\n\u001b[0;32m     65\u001b[0m         \u001b[0mself\u001b[0m\u001b[1;33m.\u001b[0m\u001b[0m_iterating\u001b[0m \u001b[1;33m=\u001b[0m \u001b[0mset\u001b[0m\u001b[1;33m(\u001b[0m\u001b[1;33m)\u001b[0m\u001b[1;33m\u001b[0m\u001b[0m\n\u001b[1;32m---> 66\u001b[1;33m         \u001b[0mUserDict\u001b[0m\u001b[1;33m.\u001b[0m\u001b[0mUserDict\u001b[0m\u001b[1;33m.\u001b[0m\u001b[0m__init__\u001b[0m\u001b[1;33m(\u001b[0m\u001b[0mself\u001b[0m\u001b[1;33m,\u001b[0m \u001b[1;33m*\u001b[0m\u001b[0margs\u001b[0m\u001b[1;33m,\u001b[0m \u001b[1;33m**\u001b[0m\u001b[0mkw\u001b[0m\u001b[1;33m)\u001b[0m\u001b[1;33m\u001b[0m\u001b[0m\n\u001b[0m\u001b[0;32m     67\u001b[0m \u001b[1;33m\u001b[0m\u001b[0m\n\u001b[0;32m     68\u001b[0m     \u001b[1;32mdef\u001b[0m \u001b[0m_commit_removals\u001b[0m\u001b[1;33m(\u001b[0m\u001b[0mself\u001b[0m\u001b[1;33m)\u001b[0m\u001b[1;33m:\u001b[0m\u001b[1;33m\u001b[0m\u001b[0m\n",
      "\u001b[1;32mC:\\Users\\Todd\\Anaconda2\\lib\\UserDict.pyc\u001b[0m in \u001b[0;36m__init__\u001b[1;34m(*args, **kwargs)\u001b[0m\n\u001b[0;32m      7\u001b[0m                             \"needs an argument\")\n\u001b[0;32m      8\u001b[0m         \u001b[0mself\u001b[0m \u001b[1;33m=\u001b[0m \u001b[0margs\u001b[0m\u001b[1;33m[\u001b[0m\u001b[1;36m0\u001b[0m\u001b[1;33m]\u001b[0m\u001b[1;33m\u001b[0m\u001b[0m\n\u001b[1;32m----> 9\u001b[1;33m         \u001b[0margs\u001b[0m \u001b[1;33m=\u001b[0m \u001b[0margs\u001b[0m\u001b[1;33m[\u001b[0m\u001b[1;36m1\u001b[0m\u001b[1;33m:\u001b[0m\u001b[1;33m]\u001b[0m\u001b[1;33m\u001b[0m\u001b[0m\n\u001b[0m\u001b[0;32m     10\u001b[0m         \u001b[1;32mif\u001b[0m \u001b[0mlen\u001b[0m\u001b[1;33m(\u001b[0m\u001b[0margs\u001b[0m\u001b[1;33m)\u001b[0m \u001b[1;33m>\u001b[0m \u001b[1;36m1\u001b[0m\u001b[1;33m:\u001b[0m\u001b[1;33m\u001b[0m\u001b[0m\n\u001b[0;32m     11\u001b[0m             \u001b[1;32mraise\u001b[0m \u001b[0mTypeError\u001b[0m\u001b[1;33m(\u001b[0m\u001b[1;34m'expected at most 1 arguments, got %d'\u001b[0m \u001b[1;33m%\u001b[0m \u001b[0mlen\u001b[0m\u001b[1;33m(\u001b[0m\u001b[0margs\u001b[0m\u001b[1;33m)\u001b[0m\u001b[1;33m)\u001b[0m\u001b[1;33m\u001b[0m\u001b[0m\n",
      "\u001b[1;31mKeyboardInterrupt\u001b[0m: "
     ]
    },
    {
     "data": {
      "text/plain": [
       "<matplotlib.figure.Figure at 0x11077fd0>"
      ]
     },
     "metadata": {},
     "output_type": "display_data"
    }
   ],
   "source": [
    "for i in range(100):\n",
    "    plt.imshow(training_data[i],interpolation = 'nearest')\n",
    "    plt.show()\n",
    "    print target_data[i]\n",
    "training_data[0]"
   ]
  },
  {
   "cell_type": "code",
   "execution_count": 14,
   "metadata": {
    "collapsed": false,
    "scrolled": false
   },
   "outputs": [],
   "source": [
    "f = open('TD_connect_four.txt','w')\n",
    "\n",
    "for item in epoch_objective_list:\n",
    "    print>>f , item"
   ]
  },
  {
   "cell_type": "code",
   "execution_count": 12,
   "metadata": {
    "collapsed": false,
    "scrolled": false
   },
   "outputs": [
    {
     "name": "stdout",
     "output_type": "stream",
     "text": [
      "[[-0. -0. -0. -0. -0. -0. -0.]\n",
      " [-0. -0. -0. -0. -0.  1. -0.]\n",
      " [-0. -0. -0.  1. -0.  1. -0.]\n",
      " [-0. -1. -0. -1. -1. -1. -0.]\n",
      " [-0.  1. -0. -1. -1. -1. -0.]\n",
      " [-0.  1. -0. -1.  1.  1. -0.]] -0.884977422936 [[-0.84104956]]\n",
      "[[ 0.  0.  0.  0.  0.  0.  0.]\n",
      " [ 0.  0.  0.  0.  0. -1.  0.]\n",
      " [ 0.  0.  0. -1.  0. -1.  0.]\n",
      " [ 0.  1.  0.  1.  0.  1.  0.]\n",
      " [ 0. -1.  0.  1.  1.  1.  0.]\n",
      " [ 0. -1.  0.  1. -1. -1.  0.]] 0.864071308121 [[ 0.67993259]]\n",
      "[[-0. -0. -0. -0. -0. -0. -0.]\n",
      " [-0. -0. -0. -0. -0.  1. -0.]\n",
      " [-0. -0. -0. -0. -0.  1. -0.]\n",
      " [-0. -1. -0. -1. -0. -1. -0.]\n",
      " [-0.  1. -0. -1. -1. -1. -0.]\n",
      " [-0.  1. -0. -1.  1.  1. -0.]] -0.878999495293 [[-0.95157618]]\n",
      "[[ 0.  0.  0.  0.  0.  0.  0.]\n",
      " [ 0.  0.  0.  0.  0. -1.  0.]\n",
      " [ 0.  0.  0.  0.  0. -1.  0.]\n",
      " [ 0.  1.  0.  0.  0.  1.  0.]\n",
      " [ 0. -1.  0.  1.  1.  1.  0.]\n",
      " [ 0. -1.  0.  1. -1. -1.  0.]] 0.777899941882 [[ 0.42414778]]\n",
      "[[-0. -0. -0. -0. -0. -0. -0.]\n",
      " [-0. -0. -0. -0. -0. -0. -0.]\n",
      " [-0. -0. -0. -0. -0.  1. -0.]\n",
      " [-0. -1. -0. -0. -0. -1. -0.]\n",
      " [-0.  1. -0. -1. -1. -1. -0.]\n",
      " [-0.  1. -0. -1.  1.  1. -0.]] -0.734632771676 [[-0.57969827]]\n",
      "[[ 0.  0.  0.  0.  0.  0.  0.]\n",
      " [ 0.  0.  0.  0.  0.  0.  0.]\n",
      " [ 0.  0.  0.  0.  0.  0.  0.]\n",
      " [ 0.  0.  0.  0.  0.  1.  0.]\n",
      " [ 0. -1.  0.  0.  1.  1.  0.]\n",
      " [ 0. -1.  0.  1. -1. -1.  0.]] 0.615652031443 [[ 0.49859986]]\n",
      "[[-0. -0. -0. -0. -0. -0. -0.]\n",
      " [-0. -0. -0. -0. -0. -0. -0.]\n",
      " [-0. -0. -0. -0. -0. -0. -0.]\n",
      " [-0. -0. -0. -0. -0. -1. -0.]\n",
      " [-0. -0. -0. -0. -1. -1. -0.]\n",
      " [-0.  1. -0. -1.  1.  1. -0.]] -0.638448072104 [[-0.60084659]]\n",
      "[[-0. -0. -0. -0. -0. -0. -0.]\n",
      " [-0. -0. -0. -0. -0. -0. -0.]\n",
      " [-0. -0. -0. -0. -0. -0. -0.]\n",
      " [-0. -0. -0. -0. -0. -0. -0.]\n",
      " [-0. -0. -0. -0. -1. -1. -0.]\n",
      " [-0. -0. -0. -1.  1.  1. -0.]] -0.156053506757 [[-0.7137579]]\n",
      "[[ 0.  0.  0.  0.  0.  0.  0.]\n",
      " [ 0.  0.  0.  0.  0.  0.  0.]\n",
      " [ 0.  0.  0.  0.  0.  0.  0.]\n",
      " [ 0.  0.  0.  0.  0.  0.  0.]\n",
      " [ 0.  0.  0.  0.  1.  0.  0.]\n",
      " [ 0.  0.  0.  1. -1. -1.  0.]] 0.246839862285 [[ 0.65470227]]\n",
      "[[ 0.  0.  0.  0.  0.  0.  0.]\n",
      " [ 0.  0.  0.  0.  0.  0.  0.]\n",
      " [ 0.  0.  0.  0.  0.  0.  0.]\n",
      " [ 0.  0.  0.  0.  0.  0.  0.]\n",
      " [ 0.  0.  0.  0.  0.  0.  0.]\n",
      " [ 0.  0.  0.  1. -1.  0.  0.]] 0.395423855843 [[ 0.40281621]]\n"
     ]
    }
   ],
   "source": [
    "for i in range(10):\n",
    "    print training_data[i],target_data[i],value_funs[0](training_data[i].reshape(1,42))"
   ]
  },
  {
   "cell_type": "markdown",
   "metadata": {},
   "source": [
    "# Supervised Learning"
   ]
  },
  {
   "cell_type": "code",
   "execution_count": null,
   "metadata": {
    "collapsed": false,
    "scrolled": false
   },
   "outputs": [],
   "source": [
    "raw_training = pd.read_csv('connect-4.csv',header = None)"
   ]
  },
  {
   "cell_type": "code",
   "execution_count": null,
   "metadata": {
    "collapsed": false,
    "scrolled": false
   },
   "outputs": [],
   "source": [
    "training_set = []\n",
    "targets_set = []\n",
    "for index,row in raw_training.iterrows():\n",
    "    input_dict = {'b':0,'x':1,'o':-1}\n",
    "    game_state_dict = {'win':1,'draw':0,'loss':-1}\n",
    "    game_state = game_state_dict[row[42]]\n",
    "    row = row[:-1].apply(lambda x: input_dict[x])\n",
    "    board = np.flipud(np.reshape(np.array(row),(6,7),order = 'F'))\n",
    "    if np.sum(board)==1:\n",
    "        board = -1 * np.copy(board)\n",
    "    \n",
    "    training_set.append(np.copy(board).reshape(1,42))\n",
    "    targets_set.append(game_state)\n",
    "\n",
    "dummy_list = list(zip(training_set,targets_set))\n",
    "random.shuffle(dummy_list)\n",
    "training_set,targets_set = zip(*dummy_list)\n",
    "\n",
    "val_training_set = training_set[:len(training_set)/2]\n",
    "val_targets_set = targets_set[:len(targets_set)/2]\n",
    "training_set = training_set[len(training_set)/2:]\n",
    "targets_set = targets_set[len(targets_set)/2:]"
   ]
  },
  {
   "cell_type": "code",
   "execution_count": null,
   "metadata": {
    "collapsed": true,
    "scrolled": false
   },
   "outputs": [],
   "source": [
    "X_sym = T.matrix()\n",
    "y_sym = T.matrix()\n",
    "\n",
    "output = lasagne.layers.get_output(value_out,X_sym)\n",
    "output_det = lasagne.layers.get_output(value_out,X_sym,deterministic=True)\n",
    "value_fun = theano.function([X_sym],output)\n",
    "value_fun_det = theano.function([X_sym],output_det)\n",
    "params = lasagne.layers.get_all_params(value_out)\n",
    "objective = T.mean(lasagne.objectives.squared_error(output,y_sym))\n",
    "grad = T.grad(objective,params)\n",
    "\n"
   ]
  },
  {
   "cell_type": "code",
   "execution_count": null,
   "metadata": {
    "collapsed": true,
    "scrolled": false
   },
   "outputs": [],
   "source": [
    "BATCH_SIZE = 256\n",
    "train_duration = 500\n",
    "minimax_str = 0\n",
    "validation_str = 2\n",
    "valid_freq = 100\n",
    "learning_speed = 0.01\n",
    "updates = lasagne.updates.nesterov_momentum(grad, params, learning_rate=learning_speed,momentum = 0.9)\n",
    "#updates = lasagne.updates.sgd(grad, params, learning_rate=learning_speed)\n",
    "train_net = theano.function([X_sym, y_sym], objective, updates=updates)\n",
    "val_net = theano.function([X_sym, y_sym], objective)"
   ]
  },
  {
   "cell_type": "code",
   "execution_count": null,
   "metadata": {
    "collapsed": false,
    "scrolled": true
   },
   "outputs": [],
   "source": [
    "t0 = time.clock()\n",
    "\n",
    "epoch_objective_list = []\n",
    "\n",
    "for epoch in range(train_duration):\n",
    "\n",
    "\n",
    "    t2=time.clock()\n",
    "\n",
    "    objectives = []\n",
    "    index_pool = range(len(targets_set))\n",
    "    random.shuffle(index_pool)\n",
    "    while len(index_pool) > BATCH_SIZE:\n",
    "        \n",
    "        sample_indices = [index_pool.pop() for _ in xrange(BATCH_SIZE)]\n",
    "\n",
    "        targets = np.zeros((BATCH_SIZE,1))\n",
    "        training = np.zeros((BATCH_SIZE,42))\n",
    "        for k in range(BATCH_SIZE):\n",
    "            training[k] = np.copy(training_set[sample_indices[k]])\n",
    "            targets[k] = targets_set[sample_indices[k]]\n",
    "\n",
    "        objectives.append(train_net(training,targets))\n",
    "        #break to only do 1 batch per run.\n",
    "    objective_total = np.mean(objectives)\n",
    "\n",
    "\n",
    "    objectives = []\n",
    "    index_pool = range(len(val_targets_set))\n",
    "    random.shuffle(index_pool)\n",
    "    while len(index_pool) > BATCH_SIZE:\n",
    "        \n",
    "        sample_indices = [index_pool.pop() for _ in xrange(BATCH_SIZE)]\n",
    "\n",
    "        targets = np.zeros((BATCH_SIZE,1))\n",
    "        training = np.zeros((BATCH_SIZE,42))\n",
    "        for k in range(BATCH_SIZE):\n",
    "            training[k] = np.copy(training_set[sample_indices[k]])\n",
    "            targets[k] = targets_set[sample_indices[k]]\n",
    "\n",
    "        objectives.append(val_net(training,targets))\n",
    "        #break to only do 1 batch per run.\n",
    "    val_total = np.mean(objectives)\n",
    "\n",
    "    print (('Epoch {:5d},objective: {:0.5f}, validation: {:0.5f}, step duration: {:1.3f}s').format(\n",
    "            epoch,float(objective_total),float(val_total),time.clock()-t2))\n",
    "    \n",
    "        \n",
    "    \n",
    "    \n",
    "    \n",
    "    epoch_objective_list.append([epoch,objective_total,val_total])\n",
    "\n",
    "    # print 'epoch duration {:2.2f}s'.format(time.clock()-t2)\n",
    "    if epoch%valid_freq==0:\n",
    "        print ' '\n",
    "        print ' '\n",
    "        test_result = {'wins':0,'ties':0,'losses':0}\n",
    "        for j in range(100):\n",
    "            result = cccc.play(nn_ai(value_fun_det,'value'),alpha_beta(validation_str))\n",
    "            if result.winner ==1:\n",
    "                test_result['wins'] +=1\n",
    "            if result.winner == 0:\n",
    "                test_result['ties'] +=1\n",
    "            if result.winner == -1:\n",
    "                test_result['losses'] +=1\n",
    "\n",
    "\n",
    "        print 'As X, neural network has a score of {:3d}-{:3d}-{:3d} vs {}-depth minimax'.format(test_result['wins'],\n",
    "                                                               test_result['ties'],test_result['losses'],validation_str)\n",
    "\n",
    "        test_result = {'wins':0,'ties':0,'losses':0}\n",
    "\n",
    "        for j in range(100):\n",
    "            result = cccc.play(alpha_beta(validation_str),nn_ai(value_fun_det,'value'))\n",
    "            if result.winner ==1:\n",
    "                test_result['losses'] +=1\n",
    "            if result.winner == 0:\n",
    "                test_result['ties'] +=1\n",
    "            if result.winner == -1:\n",
    "                test_result['wins'] +=1\n",
    "\n",
    "        print 'As O, neural network has a score of {:3d}-{:3d}-{:3d} vs {}-depth minimax'.format(test_result['wins'],\n",
    "                                                            test_result['ties'],test_result['losses'],validation_str)\n",
    "        print ' '\n",
    "        print 'elapsed time: {:3.3f}s'.format(time.clock()-t0)\n",
    "        print ' '\n",
    "        \n",
    "        \n",
    "\n",
    "\n",
    "print('\\n')\n",
    "\n",
    "#for epoch in range(10):\n",
    "\n",
    "        \n",
    "#    t_epoch = time.clock()\n",
    "\n",
    "#    result_list = [tourney(output) for i in range(BATCH_SIZE)]\n",
    "#    fitness_list = [fitness(result) for result in result_list]\n",
    "    \n",
    "#    score= f_train(fitness_list)\n",
    "       \n",
    "#    t1=time.clock()-t_epoch\n",
    "    \n",
    "#    print('Epoch {}, duration {:.01f} seconds'.format(\n",
    "#            epoch+1, t1))\n",
    "#    print('Record is: {}-{}-{} with a score of {}'.format(sum([result['wins'] for result in result_list]),\n",
    "#                                                          sum([result['ties'] for result in result_list]),\n",
    "#                                                          sum([result['losses'] for result in result_list]),\n",
    "#                                                          sum([fitness for fitness in fitness_list])))\n",
    "#    print('mean score is {}'.format(score))\n",
    "print('total time for neural network is {:.01f} seconds'.format(time.clock()-t0))\n"
   ]
  },
  {
   "cell_type": "code",
   "execution_count": null,
   "metadata": {
    "collapsed": false,
    "scrolled": false
   },
   "outputs": [],
   "source": [
    "import matplotlib.pyplot as plt\n",
    "%matplotlib inline\n",
    "\n",
    "f = open('supervised_connect_four.txt','r')\n",
    "plot_list = f.read().splitlines()\n",
    "plot_list = np.array([[float(x) for x in item[1:-1].split(',')] for item in plot_list])\n",
    "\n",
    "f = open('supervised_tictactoe.txt','r')\n",
    "plot_list2 = f.read().splitlines()\n",
    "plot_list2 = np.array([[float(x) for x in item[1:-1].split(',')] for item in plot_list2])"
   ]
  },
  {
   "cell_type": "code",
   "execution_count": null,
   "metadata": {
    "collapsed": false,
    "scrolled": false
   },
   "outputs": [],
   "source": [
    "plt.figure(figsize=(16,9))\n",
    "plt.plot(plot_list[:,0],plot_list[:,1],color = 'blue',linewidth=3)\n",
    "plt.plot(plot_list[:,0],plot_list[:,2],color = 'green')\n",
    "plt.plot(50*plot_list2[:,0]+plot_list2[:,1]-900,plot_list2[:,2],color = 'red')\n",
    "plt.title('Deep Learning',fontsize=32)\n",
    "plt.xlabel('Epoch',fontsize=24)\n",
    "plt.ylabel('Mean Squared Error',fontsize = 24)\n",
    "plt.xticks(fontsize = 20)\n",
    "plt.yticks(fontsize = 20)\n",
    "ax = plt.subplot(111)    \n",
    "ax.spines[\"top\"].set_visible(False)    \n",
    "# ax.spines[\"bottom\"].set_visible(False)    \n",
    "ax.spines[\"right\"].set_visible(False)    \n",
    "# ax.spines[\"left\"].set_visible(False)    \n",
    "  \n",
    "# Ensure that the axis ticks only show up on the bottom and left of the plot.    \n",
    "# Ticks on the right and top of the plot are generally unnecessary chartjunk.    \n",
    "ax.get_xaxis().tick_bottom()    \n",
    "ax.get_yaxis().tick_left()\n",
    "plt.text(410, 0.61,\"Supervised learning with connect four - loss\",fontsize=20,color='blue')\n",
    "plt.text(410, 0.56,\"Supervised learning with connect four - validation\",fontsize=20,color='green')\n",
    "plt.text(410, 0.51,\"Reinforcement learning with tic tac toe - loss\",fontsize=20,color='red')\n",
    "plt.savefig('supervised_c4.png')\n",
    "plt.show"
   ]
  },
  {
   "cell_type": "code",
   "execution_count": null,
   "metadata": {
    "collapsed": false,
    "scrolled": false
   },
   "outputs": [],
   "source": [
    "f = open('TD_connect_four.txt','r')\n",
    "plot_list = f.read().splitlines()\n",
    "plot_list = np.array([[float(x) for x in item[1:-1].split(',')] for item in plot_list])"
   ]
  },
  {
   "cell_type": "code",
   "execution_count": null,
   "metadata": {
    "collapsed": false,
    "scrolled": false
   },
   "outputs": [],
   "source": [
    "plt.plot(500*plot_list[:,0]+plot_list[:,1],plot_list[:,2])\n",
    "plt.show"
   ]
  },
  {
   "cell_type": "code",
   "execution_count": null,
   "metadata": {
    "collapsed": true,
    "scrolled": false
   },
   "outputs": [],
   "source": [
    "f = open('supervised_tictactoe.txt','r')\n",
    "plot_list = f.read().splitlines()\n",
    "plot_list = np.array([[float(x) for x in item[1:-1].split(',')] for item in plot_list])"
   ]
  },
  {
   "cell_type": "code",
   "execution_count": null,
   "metadata": {
    "collapsed": false,
    "scrolled": false
   },
   "outputs": [],
   "source": [
    "plt.plot(50*plot_list[:,0]+plot_list[:,1],plot_list[:,2],color = 'red')\n",
    "plt.title('Reinforcement Learning for Tic Tac Toe',fontsize=16)\n",
    "plt.xlabel('Epoch',fontsize=16)\n",
    "plt.ylabel('Mean Squared Error',fontsize = 16)\n",
    "plt.xticks(fontsize = 14)\n",
    "plt.yticks(fontsize = 14)\n",
    "ax = plt.subplot(111)    \n",
    "ax.spines[\"top\"].set_visible(False)    \n",
    "# ax.spines[\"bottom\"].set_visible(False)    \n",
    "ax.spines[\"right\"].set_visible(False)    \n",
    "# ax.spines[\"left\"].set_visible(False)    \n",
    "ax.get_xaxis().tick_bottom()    \n",
    "ax.get_yaxis().tick_left()\n",
    "plt.savefig('reinforcement_ttt.png')\n",
    "plt.show\n",
    "  "
   ]
  }
 ],
 "metadata": {
  "kernelspec": {
   "display_name": "Python 2",
   "language": "python",
   "name": "python2"
  }
 },
 "nbformat": 4,
 "nbformat_minor": 0
}
