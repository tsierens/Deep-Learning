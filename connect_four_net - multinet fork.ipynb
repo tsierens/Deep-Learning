{
 "cells": [
  {
   "cell_type": "code",
   "execution_count": 1,
   "metadata": {
    "collapsed": false,
    "scrolled": false
   },
   "outputs": [
    {
     "name": "stderr",
     "output_type": "stream",
     "text": [
      "ERROR (theano.sandbox.cuda): nvcc compiler not found on $PATH. Check your nvcc installation and try again.\n",
      "ERROR:theano.sandbox.cuda:nvcc compiler not found on $PATH. Check your nvcc installation and try again.\n"
     ]
    }
   ],
   "source": [
    "import numpy as np\n",
    "import pandas as pd\n",
    "import lasagne\n",
    "import theano\n",
    "import theano.tensor as T\n",
    "import random\n",
    "import time\n",
    "import connect_four as cccc\n",
    "import sys\n",
    "#import seaborn\n",
    "import matplotlib.pyplot as plt\n",
    "%matplotlib inline\n"
   ]
  },
  {
   "cell_type": "code",
   "execution_count": 2,
   "metadata": {
    "collapsed": false,
    "scrolled": false
   },
   "outputs": [],
   "source": [
    "#initialization\n",
    "\n",
    "nets = []\n",
    "activation = lasagne.nonlinearities.tanh\n",
    "\n",
    "hidden_units = 100\n",
    "num_nets = 1\n",
    "\n",
    "for i in range(num_nets):\n",
    "    value_in = lasagne.layers.InputLayer(shape=(None,42))\n",
    "\n",
    "    value_hid1 = lasagne.layers.DenseLayer(value_in, num_units=hidden_units,W=lasagne.init.GlorotUniform(),\n",
    "                                              nonlinearity = activation)\n",
    "    value_hid2 = lasagne.layers.DenseLayer(value_hid1, num_units=hidden_units,W=lasagne.init.GlorotUniform(),\n",
    "                                              nonlinearity = activation)\n",
    "\n",
    "    value_hid3 = lasagne.layers.DenseLayer(value_hid2, num_units=hidden_units,W=lasagne.init.GlorotUniform(),\n",
    "                                              nonlinearity = activation)\n",
    "\n",
    "    value_hid4 = lasagne.layers.DenseLayer(value_hid3, num_units=hidden_units,W=lasagne.init.GlorotUniform(),\n",
    "                                              nonlinearity = activation)\n",
    "\n",
    "    value_hid5 = lasagne.layers.DenseLayer(value_hid4, num_units=hidden_units,W=lasagne.init.GlorotUniform(),\n",
    "                                              nonlinearity = activation)\n",
    "\n",
    "    value_hid6 = lasagne.layers.DenseLayer(value_hid5, num_units=hidden_units,W=lasagne.init.GlorotUniform(),\n",
    "                                              nonlinearity = activation)\n",
    "\n",
    "    value_drop1 = lasagne.layers.DropoutLayer(value_hid1,p=0.5)\n",
    "\n",
    "    value_out = lasagne.layers.DenseLayer(value_drop1,\n",
    "                                      num_units=1, nonlinearity = activation)\n",
    "    nets.append(value_out)\n",
    "\n",
    "\n",
    "# policy_in = lasagne.layers.InputLayer(shape=(1,9))\n",
    "\n",
    "# #l_drop1 = lasagne.layers.DropoutLayer(l_shape,p=0.2)\n",
    "\n",
    "# policy_hid1 = lasagne.layers.DenseLayer(policy_in, num_units=hidden_units,W=lasagne.init.GlorotUniform(),\n",
    "#                                           nonlinearity = lasagne.nonlinearities.rectify)\n",
    "\n",
    "# #l_drop2 = lasagne.layers.DropoutLayer(l_hid1,p=0.5)\n",
    "\n",
    "# policy_out = lasagne.layers.DenseLayer(policy_hid1,\n",
    "#                                   num_units=9,\n",
    "#                                   nonlinearity=lasagne.nonlinearities.softmax)\n"
   ]
  },
  {
   "cell_type": "code",
   "execution_count": 3,
   "metadata": {
    "collapsed": false,
    "scrolled": false
   },
   "outputs": [],
   "source": [
    "def value_move(board,active_turn,output_funs,exploration = 0):\n",
    "    X_sym = theano.tensor.matrix()\n",
    "    y_sym = theano.tensor.ivector()\n",
    "    dummy_board = np.copy(board)\n",
    "    options = cccc.available_moves(dummy_board)\n",
    "    \n",
    "    \n",
    "    if exploration > random.random():\n",
    "        move = random.choice(options) \n",
    "    else:\n",
    "        moves = np.zeros(7)\n",
    "        for output_fun in output_funs:\n",
    "            move_values = np.zeros(7)\n",
    "            for choice in options:\n",
    "                dummy_board = active_turn * board[:]\n",
    "                dummy_board[np.where(dummy_board[:,choice]==0)[0][-1],choice] = 1\n",
    "                reshapeable = np.copy(dummy_board)\n",
    "                move_values[choice] = -1 * output_fun(-1* reshapeable.reshape(1,42))\n",
    "            available_move_values = np.array([move_values[move] for move in options])\n",
    "\n",
    "            move = options[available_move_values.argmax(-1)]\n",
    "            moves[move] += 1\n",
    "        \n",
    "        move = np.argmax(moves)\n",
    "    return move + 1\n",
    "\n",
    "\n",
    "class nn_ai:\n",
    "    \n",
    "    def __init__(self,output_fun, net = 'value',exploration = 0):\n",
    "        self.output_fun = output_fun\n",
    "        self.exploration = exploration\n",
    "        self.net = net\n",
    "    \n",
    "    def make_move(self,board,active_turn):\n",
    "#         if self.net == 'policy':\n",
    "#             move = policy_move(board,active_turn,self.output_fun,self.exploration)\n",
    "        if self.net == 'value':\n",
    "            move = value_move(board,active_turn,self.output_fun,self.exploration)\n",
    "        return move\n",
    "    \n",
    "def alpha_beta_move(board,active_turn,depth,alpha = 2):\n",
    "    swap_dict = {1:-1,-1:1}\n",
    "    dummy_board = np.zeros((6,7))\n",
    "    dummy_board[:] = board[:]\n",
    "    options = cccc.available_moves(board)\n",
    "    random.shuffle(options)\n",
    "    if len(options) == 1:\n",
    "        dummy_board[np.where(dummy_board[:,options[0]]==0)[0][-1],options[0]] = active_turn\n",
    "        if cccc.winner(dummy_board):\n",
    "            return (1,options[0]+1)\n",
    "        else:\n",
    "            return (0,options[0]+1)\n",
    "    if depth ==0:\n",
    "        return (0, options[np.random.randint(len(options))]+1)\n",
    "\n",
    "    best_value = -2\n",
    "    candidate_move = None\n",
    "    for x in options:\n",
    "        height = np.where(dummy_board[:,x]==0)[0][-1]\n",
    "        dummy_board[height,x] = active_turn\n",
    "        if cccc.winner(dummy_board):\n",
    "            return (1, x+1)\n",
    "        (opp_value,opp_move) = alpha_beta_move(dummy_board,swap_dict[active_turn],depth-1,-best_value)\n",
    "        if -opp_value > best_value:\n",
    "            candidate_move = x+1\n",
    "            best_value = -opp_value\n",
    "        if -opp_value >= alpha:\n",
    "            #print (options, x, best_value, alpha)\n",
    "            break\n",
    "        dummy_board[height,x] = 0\n",
    "\n",
    "    return (best_value, candidate_move)\n",
    "\n",
    "class alpha_beta:\n",
    "    def __init__(self,depth):\n",
    "        self.depth = depth\n",
    "    def make_move(self,board,active_turn):\n",
    "        #print (board,active_turn,self.depth)\n",
    "        return alpha_beta_move(board,active_turn,self.depth)[1]\n",
    "\n",
    "def get_max_future(future_board,value_fun):\n",
    "    options = cccc.available_moves(future_board)\n",
    "    dummy_board = np.copy(future_board)\n",
    "    move_values = np.zeros(7)\n",
    "    for move in options:\n",
    "        dummy_board = np.copy(future_board)\n",
    "        dummy_board[np.where(dummy_board[:,move]==0)[0][-1],move] = -1\n",
    "        # dummy_board = dummy_board.reshape(1,42)\n",
    "        if cccc.winner(dummy_board):\n",
    "            move_values[move] = cccc.winner(dummy_board)\n",
    "        else:\n",
    "            reshapable = np.copy(dummy_board)\n",
    "            reshapable = reshapable.reshape(1,42)\n",
    "            move_values[move] = value_fun(reshapable)\n",
    "    \n",
    "    available_move_values = np.array([move_values[move] for move in options])\n",
    "    dummy_board = np.copy(future_board)\n",
    "    options_index = np.argmin(available_move_values)\n",
    "    dummy_board[np.where(dummy_board[:,options[options_index]]==0)[0][-1],options[options_index]] = -1\n",
    "    return np.amin(available_move_values), dummy_board\n",
    "\n",
    "def play_one_move(current_board,value_funs,exploration = 0):\n",
    "    options = cccc.available_moves(current_board)\n",
    "    dummy_board = np.copy(current_board)\n",
    "    move_values = np.zeros(7)\n",
    "    values = []\n",
    "    if np.random.random() < exploration:\n",
    "        chosen_move = random.choice(options)\n",
    "        dummy_board[np.where(dummy_board[:,chosen_move]==0)[0][-1],chosen_move] = 1\n",
    "        explore = True\n",
    "        if cccc.winner(dummy_board):\n",
    "            value = cccc.winner(dummy_board)\n",
    "        else:\n",
    "            reshapable = np.copy(dummy_board)\n",
    "            reshapable = reshapable.reshape(1,42)\n",
    "            for value_fun in value_funs:\n",
    "                values.append(-1 * value_fun(-1 * reshapable))\n",
    "            value = np.mean(np.array(values))\n",
    "    else:\n",
    "        moves = np.zeros(7)\n",
    "        explore = False\n",
    "        for value_fun in value_funs:\n",
    "            for move in options:\n",
    "                dummy_board = np.copy(current_board)\n",
    "                dummy_board[np.where(dummy_board[:,move]==0)[0][-1],move] = 1\n",
    "                # dummy_board = dummy_board.reshape(1,42)\n",
    "                if cccc.winner(dummy_board):\n",
    "                    move_values[move] = cccc.winner(dummy_board)\n",
    "                else:\n",
    "                    reshapable = np.copy(dummy_board)\n",
    "                    reshapable = reshapable.reshape(1,42)\n",
    "                    move_values[move] = -1 * value_fun(-1 * reshapable)\n",
    "            \n",
    "            available_move_values = np.array([move_values[move] for move in options])\n",
    "            options_index = np.argmax(available_move_values)\n",
    "            move = options[options_index]\n",
    "            moves[move] += 1\n",
    "            values.append(np.amax(available_move_values))\n",
    "    \n",
    "        value = np.mean(np.array(values))\n",
    "        move = np.argmax(moves)\n",
    "        dummy_board = np.copy(current_board)\n",
    "        dummy_board[np.where(dummy_board[:,move]==0)[0][-1],move] = 1\n",
    "        \n",
    "\n",
    "    return value , dummy_board , explore\n",
    "\n",
    "def get_value(current_board,value_funs):\n",
    "    values = []\n",
    "    reshapable = np.copy(current_board)\n",
    "    reshapable = reshapable.reshape(1,42)\n",
    "    for value_fun in value_funs:\n",
    "        values.append(value_fun(reshapable))\n",
    "    return np.mean(np.array(values))\n",
    "\n",
    "def get_inputs(log):\n",
    "    boards = []\n",
    "    piece = 1\n",
    "    board = np.zeros((6,7))\n",
    "    boards.append(np.copy(board))\n",
    "    for move in log:\n",
    "        board[np.where(board[:,move-1]==0)[0][-1],move-1] = piece\n",
    "        piece = -piece\n",
    "        boards.append(np.copy(board))\n",
    "    return boards\n",
    "\n",
    "\n",
    "\n",
    "def game_over(board):\n",
    "    return cccc.winner(board) or cccc.is_full(board)"
   ]
  },
  {
   "cell_type": "code",
   "execution_count": 4,
   "metadata": {
    "collapsed": false,
    "scrolled": false
   },
   "outputs": [],
   "source": [
    "# load the chromes\n",
    "test = np.load('TD_cccc_100_nn_1_85_million.npz')['arr_0']\n",
    "param_values = lasagne.layers.set_all_param_values(value_out,test)\n",
    "nets[0] = value_out"
   ]
  },
  {
   "cell_type": "code",
   "execution_count": 54,
   "metadata": {
    "collapsed": false,
    "scrolled": false
   },
   "outputs": [
    {
     "name": "stdout",
     "output_type": "stream",
     "text": [
      "(42L, 100L)\n",
      "(100L,)\n",
      "(100L, 1L)\n",
      "(1L,)\n"
     ]
    }
   ],
   "source": [
    "for item in test:\n",
    "    print item.shape"
   ]
  },
  {
   "cell_type": "markdown",
   "metadata": {},
   "source": [
    "# Reinforcement Learning"
   ]
  },
  {
   "cell_type": "code",
   "execution_count": 5,
   "metadata": {
    "collapsed": false,
    "scrolled": false
   },
   "outputs": [],
   "source": [
    "X_sym = T.matrix()\n",
    "y_sym = T.matrix()\n",
    "\n",
    "input_history = []\n",
    "output_history = []\n",
    "results = {}\n",
    "move_history = []\n",
    "outputs = [lasagne.layers.get_output(output_layer, X_sym) for output_layer in nets]\n",
    "outputs_det = [lasagne.layers.get_output(output_layer, X_sym,deterministic=True) for output_layer in nets]\n",
    "\n",
    "value_funs = [theano.function([X_sym],output) for output in outputs]\n",
    "value_funs_det = [theano.function([X_sym],output_det) for output_det in outputs_det]\n",
    "params = [lasagne.layers.get_all_params(output_layer) for output_layer in nets]\n",
    "objective_list = [T.mean(lasagne.objectives.squared_error(output,y_sym)) for output in outputs]\n",
    "\n",
    "grads = [T.grad(objective_list[i],params[i]) for i in range(num_nets)]\n",
    "self_play = 0\n",
    "\n",
    "#flush training sets\n",
    "input_history = []\n",
    "output_history = []\n",
    "results = {}\n",
    "move_history = []"
   ]
  },
  {
   "cell_type": "code",
   "execution_count": 6,
   "metadata": {
    "collapsed": false,
    "scrolled": false
   },
   "outputs": [],
   "source": [
    "BATCH_SIZE = 256\n",
    "batches_per_step = 50\n",
    "training_per_step =0\n",
    "train_duration = 10000\n",
    "exploration = 0.25\n",
    "exploration_min = 0.10\n",
    "exploration_step = 0.995\n",
    "future_discount = 0.5\n",
    "minimax_str = 0\n",
    "validation_str = 2\n",
    "monte_carlo_duration = 0\n",
    "print_freq = batches_per_step-1\n",
    "valid_freq = 10\n",
    "learning_speed = 0.01\n",
    "#updates = [lasagne.updates.nesterov_momentum(grads[i], params[i], learning_rate=learning_speed,momentum = 0.9)\n",
    "#           for i in range(num_nets)]\n",
    "updates = [lasagne.updates.sgd(grads[i], params[i], learning_rate=learning_speed) for i in range(num_nets)]\n",
    "train_nets = [theano.function([X_sym, y_sym], objective_list[i], updates=updates[i]) for i in range(num_nets)]\n",
    "temporal_index = 0.8\n",
    "objective_total = 1000.0"
   ]
  },
  {
   "cell_type": "code",
   "execution_count": 8,
   "metadata": {
    "collapsed": false,
    "scrolled": false
   },
   "outputs": [
    {
     "name": "stdout",
     "output_type": "stream",
     "text": [
      "(42L, 100L)\n",
      "(100L,)\n",
      "(100L, 1L)\n",
      "(1L,)\n",
      "13203\n"
     ]
    }
   ],
   "source": [
    "param_values = lasagne.layers.get_all_param_values(value_out)\n",
    "training_size = 3 * sum([param_values[i].size for i,_ in enumerate(param_values)])\n",
    "for item in param_values:\n",
    "    print item.shape\n",
    "    \n",
    "print training_size"
   ]
  },
  {
   "cell_type": "code",
   "execution_count": 7,
   "metadata": {
    "collapsed": false,
    "scrolled": true
   },
   "outputs": [
    {
     "name": "stdout",
     "output_type": "stream",
     "text": [
      "Net 1, Epoch     0, Pass number 1, objective: 0.78728, exploration: 0.25, number of games played: 1140, step duration: 0.111s\n",
      "Net 1, Epoch     0, Pass number 37, objective: 0.32685, exploration: 0.25, number of games played: 1140, step duration: 0.111s\n",
      "Net 1, Epoch     0, Pass number 50, objective: 0.31528, exploration: 0.25, number of games played: 1140, step duration: 0.117s\n",
      "epoch duration 33.91s\n",
      " \n",
      " \n",
      "As X, neural network has a score of  76-  0- 24 vs 2-depth minimax\n",
      "As O, neural network has a score of  63-  1- 36 vs 2-depth minimax\n",
      " \n",
      "elapsed time: 46.168s\n",
      " \n",
      "\n",
      "\n",
      "now starting generation 1 of data\n",
      "\n",
      "\n",
      "Net 1, Epoch     1, Pass number 1, objective: 0.15918, exploration: 0.25, number of games played: 2316, step duration: 0.110s\n",
      "Net 1, Epoch     1, Pass number 37, objective: 0.15531, exploration: 0.25, number of games played: 2316, step duration: 0.109s\n",
      "Net 1, Epoch     1, Pass number 50, objective: 0.15507, exploration: 0.25, number of games played: 2316, step duration: 0.109s\n",
      "epoch duration 34.17s\n",
      "\n",
      "\n",
      "now starting generation 2 of data\n",
      "\n",
      "\n",
      "Net 1, Epoch     2, Pass number 1, objective: 0.15284, exploration: 0.25, number of games played: 3479, step duration: 0.110s\n",
      "Net 1, Epoch     2, Pass number 37, objective: 0.14881, exploration: 0.25, number of games played: 3479, step duration: 0.112s\n",
      "Net 1, Epoch     2, Pass number 50, objective: 0.14968, exploration: 0.25, number of games played: 3479, step duration: 0.150s\n",
      "epoch duration 34.17s\n",
      "\n",
      "\n",
      "now starting generation 3 of data\n",
      "\n",
      "\n",
      "Net 1, Epoch     3, Pass number 1, objective: 0.15129, exploration: 0.25, number of games played: 4629, step duration: 0.128s\n",
      "Net 1, Epoch     3, Pass number 37, objective: 0.15247, exploration: 0.25, number of games played: 4629, step duration: 0.151s\n",
      "Net 1, Epoch     3, Pass number 50, objective: 0.15059, exploration: 0.25, number of games played: 4629, step duration: 0.111s\n",
      "epoch duration 34.76s\n",
      "\n",
      "\n",
      "now starting generation 4 of data\n",
      "\n",
      "\n",
      "Net 1, Epoch     4, Pass number 1, objective: 0.14835, exploration: 0.25, number of games played: 5798, step duration: 0.113s\n",
      "Net 1, Epoch     4, Pass number 37, objective: 0.14511, exploration: 0.25, number of games played: 5798, step duration: 0.108s\n",
      "Net 1, Epoch     4, Pass number 50, objective: 0.14771, exploration: 0.25, number of games played: 5798, step duration: 0.113s\n",
      "epoch duration 33.98s\n",
      "\n",
      "\n",
      "now starting generation 5 of data\n",
      "\n",
      "\n",
      "Net 1, Epoch     5, Pass number 1, objective: 0.14798, exploration: 0.25, number of games played: 6960, step duration: 0.109s\n",
      "Net 1, Epoch     5, Pass number 37, objective: 0.14866, exploration: 0.25, number of games played: 6960, step duration: 0.108s\n",
      "Net 1, Epoch     5, Pass number 50, objective: 0.14694, exploration: 0.25, number of games played: 6960, step duration: 0.111s\n",
      "epoch duration 33.56s\n",
      "\n",
      "\n",
      "now starting generation 6 of data\n",
      "\n",
      "\n",
      "Net 1, Epoch     6, Pass number 1, objective: 0.15099, exploration: 0.24, number of games played: 8128, step duration: 0.113s\n",
      "Net 1, Epoch     6, Pass number 37, objective: 0.14833, exploration: 0.24, number of games played: 8128, step duration: 0.108s\n",
      "Net 1, Epoch     6, Pass number 50, objective: 0.14874, exploration: 0.24, number of games played: 8128, step duration: 0.110s\n",
      "epoch duration 34.02s\n",
      "\n",
      "\n",
      "now starting generation 7 of data\n",
      "\n",
      "\n",
      "Net 1, Epoch     7, Pass number 1, objective: 0.14521, exploration: 0.24, number of games played: 9265, step duration: 0.110s\n",
      "Net 1, Epoch     7, Pass number 37, objective: 0.14241, exploration: 0.24, number of games played: 9265, step duration: 0.109s\n",
      "Net 1, Epoch     7, Pass number 50, objective: 0.14323, exploration: 0.24, number of games played: 9265, step duration: 0.118s\n",
      "epoch duration 34.77s\n",
      "\n",
      "\n",
      "now starting generation 8 of data\n",
      "\n",
      "\n",
      "Net 1, Epoch     8, Pass number 1, objective: 0.14736, exploration: 0.24, number of games played: 10434, step duration: 0.109s\n",
      "Net 1, Epoch     8, Pass number 37, objective: 0.14607, exploration: 0.24, number of games played: 10434, step duration: 0.110s\n",
      "Net 1, Epoch     8, Pass number 50, objective: 0.14305, exploration: 0.24, number of games played: 10434, step duration: 0.109s\n",
      "epoch duration 34.19s\n",
      "\n",
      "\n",
      "now starting generation 9 of data\n",
      "\n",
      "\n",
      "Net 1, Epoch     9, Pass number 1, objective: 0.14602, exploration: 0.24, number of games played: 11609, step duration: 0.110s\n",
      "Net 1, Epoch     9, Pass number 37, objective: 0.14744, exploration: 0.24, number of games played: 11609, step duration: 0.114s\n",
      "Net 1, Epoch     9, Pass number 50, objective: 0.14529, exploration: 0.24, number of games played: 11609, step duration: 0.110s\n",
      "epoch duration 34.32s\n",
      "\n",
      "\n",
      "now starting generation 10 of data\n",
      "\n",
      "\n",
      "Net 1, Epoch    10, Pass number 1, objective: 0.15255, exploration: 0.24, number of games played: 12792, step duration: 0.125s\n",
      "Net 1, Epoch    10, Pass number 37, objective: 0.15115, exploration: 0.24, number of games played: 12792, step duration: 0.112s\n",
      "Net 1, Epoch    10, Pass number 50, objective: 0.14824, exploration: 0.24, number of games played: 12792, step duration: 0.122s\n",
      "epoch duration 34.74s\n",
      " \n",
      " \n",
      "As X, neural network has a score of  74-  0- 26 vs 2-depth minimax\n",
      "As O, neural network has a score of  62-  3- 35 vs 2-depth minimax\n",
      " \n",
      "elapsed time: 401.324s\n",
      " \n",
      "\n",
      "\n",
      "now starting generation 11 of data\n",
      "\n",
      "\n"
     ]
    },
    {
     "ename": "KeyboardInterrupt",
     "evalue": "",
     "output_type": "error",
     "traceback": [
      "\u001b[1;31m---------------------------------------------------------------------------\u001b[0m",
      "\u001b[1;31mKeyboardInterrupt\u001b[0m                         Traceback (most recent call last)",
      "\u001b[1;32m<ipython-input-7-b6cca4f340eb>\u001b[0m in \u001b[0;36m<module>\u001b[1;34m()\u001b[0m\n\u001b[0;32m     39\u001b[0m         \u001b[1;32mwhile\u001b[0m \u001b[1;32mnot\u001b[0m \u001b[0mgame_over\u001b[0m\u001b[1;33m(\u001b[0m\u001b[0mnp\u001b[0m\u001b[1;33m.\u001b[0m\u001b[0mcopy\u001b[0m\u001b[1;33m(\u001b[0m\u001b[0mcurrent_state\u001b[0m\u001b[1;33m)\u001b[0m\u001b[1;33m)\u001b[0m\u001b[1;33m:\u001b[0m\u001b[1;33m\u001b[0m\u001b[0m\n\u001b[0;32m     40\u001b[0m \u001b[1;33m\u001b[0m\u001b[0m\n\u001b[1;32m---> 41\u001b[1;33m             \u001b[0mnext_value\u001b[0m \u001b[1;33m,\u001b[0m \u001b[0mnext_state\u001b[0m \u001b[1;33m,\u001b[0m \u001b[0mexplore\u001b[0m \u001b[1;33m=\u001b[0m \u001b[0mplay_one_move\u001b[0m\u001b[1;33m(\u001b[0m\u001b[0mcurrent_state\u001b[0m\u001b[1;33m,\u001b[0m\u001b[0mvalue_funs\u001b[0m\u001b[1;33m,\u001b[0m\u001b[0mexploration\u001b[0m\u001b[1;33m)\u001b[0m\u001b[1;33m\u001b[0m\u001b[0m\n\u001b[0m\u001b[0;32m     42\u001b[0m             \u001b[0mboard_history\u001b[0m\u001b[1;33m.\u001b[0m\u001b[0mappend\u001b[0m\u001b[1;33m(\u001b[0m\u001b[0mcurrent_state\u001b[0m\u001b[1;33m)\u001b[0m\u001b[1;33m\u001b[0m\u001b[0m\n\u001b[0;32m     43\u001b[0m             \u001b[0mvalue_history\u001b[0m\u001b[1;33m.\u001b[0m\u001b[0mappend\u001b[0m\u001b[1;33m(\u001b[0m\u001b[0mget_value\u001b[0m\u001b[1;33m(\u001b[0m\u001b[0mcurrent_state\u001b[0m\u001b[1;33m,\u001b[0m\u001b[0mvalue_funs\u001b[0m\u001b[1;33m)\u001b[0m\u001b[1;33m)\u001b[0m\u001b[1;33m\u001b[0m\u001b[0m\n",
      "\u001b[1;32m<ipython-input-3-0706387f8b44>\u001b[0m in \u001b[0;36mplay_one_move\u001b[1;34m(current_board, value_funs, exploration)\u001b[0m\n\u001b[0;32m    126\u001b[0m                 \u001b[0mdummy_board\u001b[0m\u001b[1;33m[\u001b[0m\u001b[0mnp\u001b[0m\u001b[1;33m.\u001b[0m\u001b[0mwhere\u001b[0m\u001b[1;33m(\u001b[0m\u001b[0mdummy_board\u001b[0m\u001b[1;33m[\u001b[0m\u001b[1;33m:\u001b[0m\u001b[1;33m,\u001b[0m\u001b[0mmove\u001b[0m\u001b[1;33m]\u001b[0m\u001b[1;33m==\u001b[0m\u001b[1;36m0\u001b[0m\u001b[1;33m)\u001b[0m\u001b[1;33m[\u001b[0m\u001b[1;36m0\u001b[0m\u001b[1;33m]\u001b[0m\u001b[1;33m[\u001b[0m\u001b[1;33m-\u001b[0m\u001b[1;36m1\u001b[0m\u001b[1;33m]\u001b[0m\u001b[1;33m,\u001b[0m\u001b[0mmove\u001b[0m\u001b[1;33m]\u001b[0m \u001b[1;33m=\u001b[0m \u001b[1;36m1\u001b[0m\u001b[1;33m\u001b[0m\u001b[0m\n\u001b[0;32m    127\u001b[0m                 \u001b[1;31m# dummy_board = dummy_board.reshape(1,42)\u001b[0m\u001b[1;33m\u001b[0m\u001b[1;33m\u001b[0m\u001b[0m\n\u001b[1;32m--> 128\u001b[1;33m                 \u001b[1;32mif\u001b[0m \u001b[0mcccc\u001b[0m\u001b[1;33m.\u001b[0m\u001b[0mwinner\u001b[0m\u001b[1;33m(\u001b[0m\u001b[0mdummy_board\u001b[0m\u001b[1;33m)\u001b[0m\u001b[1;33m:\u001b[0m\u001b[1;33m\u001b[0m\u001b[0m\n\u001b[0m\u001b[0;32m    129\u001b[0m                     \u001b[0mmove_values\u001b[0m\u001b[1;33m[\u001b[0m\u001b[0mmove\u001b[0m\u001b[1;33m]\u001b[0m \u001b[1;33m=\u001b[0m \u001b[0mcccc\u001b[0m\u001b[1;33m.\u001b[0m\u001b[0mwinner\u001b[0m\u001b[1;33m(\u001b[0m\u001b[0mdummy_board\u001b[0m\u001b[1;33m)\u001b[0m\u001b[1;33m\u001b[0m\u001b[0m\n\u001b[0;32m    130\u001b[0m                 \u001b[1;32melse\u001b[0m\u001b[1;33m:\u001b[0m\u001b[1;33m\u001b[0m\u001b[0m\n",
      "\u001b[1;32mC:\\Users\\Todd\\Dropbox\\Data Incubator Challenge April\\deep_learning\\Deep-Learning\\Deep-Learning\\connect_four.pyc\u001b[0m in \u001b[0;36mwinner\u001b[1;34m(board)\u001b[0m\n\u001b[0;32m     28\u001b[0m \u001b[1;33m\u001b[0m\u001b[0m\n\u001b[0;32m     29\u001b[0m \u001b[1;32mdef\u001b[0m \u001b[0mwinner\u001b[0m\u001b[1;33m(\u001b[0m\u001b[0mboard\u001b[0m\u001b[1;33m)\u001b[0m\u001b[1;33m:\u001b[0m\u001b[1;33m\u001b[0m\u001b[0m\n\u001b[1;32m---> 30\u001b[1;33m     \u001b[0mpossible_wins\u001b[0m \u001b[1;33m=\u001b[0m \u001b[0mget_all_fours\u001b[0m\u001b[1;33m(\u001b[0m\u001b[0mboard\u001b[0m\u001b[1;33m)\u001b[0m\u001b[1;33m\u001b[0m\u001b[0m\n\u001b[0m\u001b[0;32m     31\u001b[0m     \u001b[0mresult\u001b[0m \u001b[1;33m=\u001b[0m \u001b[1;36m0\u001b[0m\u001b[1;33m\u001b[0m\u001b[0m\n\u001b[0;32m     32\u001b[0m     \u001b[1;32mfor\u001b[0m \u001b[0mitem\u001b[0m \u001b[1;32min\u001b[0m \u001b[0mpossible_wins\u001b[0m\u001b[1;33m:\u001b[0m\u001b[1;33m\u001b[0m\u001b[0m\n",
      "\u001b[1;32mC:\\Users\\Todd\\Dropbox\\Data Incubator Challenge April\\deep_learning\\Deep-Learning\\Deep-Learning\\connect_four.pyc\u001b[0m in \u001b[0;36mget_all_fours\u001b[1;34m(board)\u001b[0m\n\u001b[0;32m     20\u001b[0m     \u001b[1;32mfor\u001b[0m \u001b[0mrow\u001b[0m \u001b[1;32min\u001b[0m \u001b[0mxrange\u001b[0m\u001b[1;33m(\u001b[0m\u001b[1;36m3\u001b[0m\u001b[1;33m)\u001b[0m\u001b[1;33m:\u001b[0m\u001b[1;33m\u001b[0m\u001b[0m\n\u001b[0;32m     21\u001b[0m         \u001b[1;32mfor\u001b[0m \u001b[0mcolumn\u001b[0m \u001b[1;32min\u001b[0m \u001b[0mxrange\u001b[0m\u001b[1;33m(\u001b[0m\u001b[1;36m4\u001b[0m\u001b[1;33m)\u001b[0m\u001b[1;33m:\u001b[0m\u001b[1;33m\u001b[0m\u001b[0m\n\u001b[1;32m---> 22\u001b[1;33m             \u001b[0mlist_\u001b[0m\u001b[1;33m.\u001b[0m\u001b[0mappend\u001b[0m\u001b[1;33m(\u001b[0m\u001b[0mnp\u001b[0m\u001b[1;33m.\u001b[0m\u001b[0marray\u001b[0m\u001b[1;33m(\u001b[0m\u001b[1;33m[\u001b[0m\u001b[0mboard\u001b[0m\u001b[1;33m[\u001b[0m\u001b[0mrow\u001b[0m\u001b[1;33m+\u001b[0m\u001b[0mi\u001b[0m\u001b[1;33m,\u001b[0m\u001b[0mcolumn\u001b[0m\u001b[1;33m+\u001b[0m\u001b[0mi\u001b[0m\u001b[1;33m]\u001b[0m \u001b[1;32mfor\u001b[0m \u001b[0mi\u001b[0m \u001b[1;32min\u001b[0m \u001b[0mxrange\u001b[0m\u001b[1;33m(\u001b[0m\u001b[1;36m4\u001b[0m\u001b[1;33m)\u001b[0m\u001b[1;33m]\u001b[0m\u001b[1;33m)\u001b[0m\u001b[1;33m)\u001b[0m\u001b[1;33m\u001b[0m\u001b[0m\n\u001b[0m\u001b[0;32m     23\u001b[0m             \u001b[0mlist_\u001b[0m\u001b[1;33m.\u001b[0m\u001b[0mappend\u001b[0m\u001b[1;33m(\u001b[0m\u001b[0mnp\u001b[0m\u001b[1;33m.\u001b[0m\u001b[0marray\u001b[0m\u001b[1;33m(\u001b[0m\u001b[1;33m[\u001b[0m\u001b[0mboard\u001b[0m\u001b[1;33m[\u001b[0m\u001b[1;36m5\u001b[0m\u001b[1;33m-\u001b[0m\u001b[1;33m(\u001b[0m\u001b[0mrow\u001b[0m\u001b[1;33m+\u001b[0m\u001b[0mi\u001b[0m\u001b[1;33m)\u001b[0m\u001b[1;33m,\u001b[0m\u001b[0mcolumn\u001b[0m\u001b[1;33m+\u001b[0m\u001b[0mi\u001b[0m\u001b[1;33m]\u001b[0m \u001b[1;32mfor\u001b[0m \u001b[0mi\u001b[0m \u001b[1;32min\u001b[0m \u001b[0mxrange\u001b[0m\u001b[1;33m(\u001b[0m\u001b[1;36m4\u001b[0m\u001b[1;33m)\u001b[0m\u001b[1;33m]\u001b[0m\u001b[1;33m)\u001b[0m\u001b[1;33m)\u001b[0m\u001b[1;33m\u001b[0m\u001b[0m\n\u001b[0;32m     24\u001b[0m     \u001b[1;32mreturn\u001b[0m \u001b[0mlist_\u001b[0m\u001b[1;33m\u001b[0m\u001b[0m\n",
      "\u001b[1;31mKeyboardInterrupt\u001b[0m: "
     ]
    }
   ],
   "source": [
    "t0 = time.clock()\n",
    "epoch_objective_list = []\n",
    "\n",
    "param_values = lasagne.layers.get_all_param_values(value_out)\n",
    "training_size = 3 * sum([param_values[i].size for i,_ in enumerate(param_values)])\n",
    "\n",
    "training_data = [0]*training_size\n",
    "target_data = [0]*training_size\n",
    "\n",
    "current_write_index = 0\n",
    "\n",
    "# start training\n",
    "\n",
    "data_generation = 0\n",
    "first_pass = True\n",
    "for epoch in range(train_duration):\n",
    "    \n",
    "    t1 = time.clock()\n",
    "    exploration = (exploration-exploration_min)* exploration_step + exploration_min\n",
    "    if current_write_index >= training_size:\n",
    "        data_generation +=1\n",
    "        print '\\n'\n",
    "        print 'now starting generation {} of data'.format(data_generation)\n",
    "        print '\\n'\n",
    "    current_write_index = current_write_index%training_size\n",
    "    \n",
    "    # continue to update training set\n",
    "#     for _ in range(training_size/50):\n",
    "    counter = 0\n",
    "\n",
    "    while(counter < training_size):\n",
    "    \n",
    "        current_state = cccc.empty_board()\n",
    "        player = 1\n",
    "        self_play +=1\n",
    "        board_history = []\n",
    "        value_history = []\n",
    "        explore_history = []\n",
    "        while not game_over(np.copy(current_state)):\n",
    "            \n",
    "            next_value , next_state , explore = play_one_move(current_state,value_funs,exploration)\n",
    "            board_history.append(current_state)\n",
    "            value_history.append(get_value(current_state,value_funs))\n",
    "            explore_history.append(explore)\n",
    "            \n",
    "\n",
    "\n",
    "            current_state = -1 * np.copy(next_state)\n",
    "            player *= -1\n",
    "\n",
    "\n",
    "        board_history.append(current_state)\n",
    "        value_history.append(cccc.winner(current_state))\n",
    "        explore_history.append(False)\n",
    "        \n",
    "\n",
    "        \n",
    "        # record the targets\n",
    "        explore = explore_history.pop(-1)\n",
    "        training_data[current_write_index%training_size] = board_history.pop(-1)\n",
    "        target_data[current_write_index%training_size] = value_history.pop(-1)\n",
    "        last_target = target_data[current_write_index%training_size]\n",
    "        current_write_index += 1\n",
    "        counter +=1\n",
    "\n",
    "        while board_history:\n",
    "            explore = explore_history.pop(-1)\n",
    "            if explore:\n",
    "                board_history.pop(-1)\n",
    "                last_target = value_history.pop(-1)\n",
    "                \n",
    "            else:\n",
    "            \n",
    "                training_data[current_write_index%training_size] = board_history.pop(-1)\n",
    "                target_data[current_write_index%training_size] = (\n",
    "                    1 - temporal_index) * value_history.pop(-1) - temporal_index * last_target\n",
    "                last_target = target_data[current_write_index%training_size]\n",
    "                current_write_index += 1\n",
    "                counter +=1\n",
    "                        \n",
    "    objective_totals = []\n",
    "    first_pass = False\n",
    "    current_net = 0\n",
    "    for train_net in train_nets:\n",
    "        current_net +=1\n",
    "        for j in range(batches_per_step):\n",
    "            t2=time.clock()\n",
    "            targets = np.zeros((BATCH_SIZE,1))\n",
    "            training = np.zeros((BATCH_SIZE,42))\n",
    "            index_pool = range(training_size)\n",
    "            random.shuffle(index_pool)\n",
    "            objectives = []        \n",
    "\n",
    "            while len(index_pool) > BATCH_SIZE:\n",
    "                sample_indices = [index_pool.pop() for _ in xrange(BATCH_SIZE)]\n",
    "                #Should try to use generators\n",
    "\n",
    "\n",
    "                for k in range(BATCH_SIZE):\n",
    "                    #train it on output_history evaluated by the opponent\n",
    "                    training[k] = training_data[sample_indices[k]].reshape(1,42)\n",
    "                    targets[k] = target_data[sample_indices[k]]\n",
    "\n",
    "\n",
    "\n",
    "                objectives.append(train_net(training,targets))\n",
    "                #break to only do 1 batch per run.\n",
    "            objective_total = np.mean(objectives)\n",
    "            \n",
    "\n",
    "            if j % print_freq ==0 or j == print_freq /5 *4:\n",
    "                print (('Net {}, Epoch {:5d}, Pass number {}, objective: {:0.5f}, exploration: {:0.2f}, '+\n",
    "                       'number of games played: {}, step duration: {:1.3f}s').format(current_net,\n",
    "                       epoch,j+1,float(objective_total),exploration,self_play,time.clock()-t2))\n",
    "\n",
    "\n",
    "            epoch_objective_list.append([epoch,current_net, j+1,objective_total,exploration])\n",
    "\n",
    "\n",
    "    print 'epoch duration {:2.2f}s'.format(time.clock()-t1)\n",
    "    if epoch%valid_freq==0:\n",
    "        print ' '\n",
    "        print ' '\n",
    "        test_result = {'wins':0,'ties':0,'losses':0}\n",
    "        for j in range(100):\n",
    "            result = cccc.play(nn_ai(value_funs_det,'value'),alpha_beta(validation_str))\n",
    "            if result.winner ==1:\n",
    "                test_result['wins'] +=1\n",
    "            if result.winner == 0:\n",
    "                test_result['ties'] +=1\n",
    "            if result.winner == -1:\n",
    "                test_result['losses'] +=1\n",
    "\n",
    "\n",
    "        print 'As X, neural network has a score of {:3d}-{:3d}-{:3d} vs {}-depth minimax'.format(test_result['wins'],\n",
    "                                                               test_result['ties'],test_result['losses'],validation_str)\n",
    "\n",
    "        test_result = {'wins':0,'ties':0,'losses':0}\n",
    "\n",
    "        for j in range(100):\n",
    "            result = cccc.play(alpha_beta(validation_str),nn_ai(value_funs_det,'value'))\n",
    "            if result.winner ==1:\n",
    "                test_result['losses'] +=1\n",
    "            if result.winner == 0:\n",
    "                test_result['ties'] +=1\n",
    "            if result.winner == -1:\n",
    "                test_result['wins'] +=1\n",
    "\n",
    "        print 'As O, neural network has a score of {:3d}-{:3d}-{:3d} vs {}-depth minimax'.format(test_result['wins'],\n",
    "                                                            test_result['ties'],test_result['losses'],validation_str)\n",
    "        print ' '\n",
    "        print 'elapsed time: {:3.3f}s'.format(time.clock()-t0)\n",
    "        print ' '\n",
    "        # save the chromes\n",
    "        np.savez('TD_cccc_perceptron_last',lasagne.layers.get_all_param_values(value_out))\n",
    "\n",
    "\n",
    "print('\\n')\n",
    "\n",
    "#for epoch in range(10):\n",
    "\n",
    "        \n",
    "#    t_epoch = time.clock()\n",
    "\n",
    "#    result_list = [tourney(output) for i in range(BATCH_SIZE)]\n",
    "#    fitness_list = [fitness(result) for result in result_list]\n",
    "    \n",
    "#    score= f_train(fitness_list)\n",
    "       \n",
    "#    t1=time.clock()-t_epoch\n",
    "    \n",
    "#    print('Epoch {}, duration {:.01f} seconds'.format(\n",
    "#            epoch+1, t1))\n",
    "#    print('Record is: {}-{}-{} with a score of {}'.format(sum([result['wins'] for result in result_list]),\n",
    "#                                                          sum([result['ties'] for result in result_list]),\n",
    "#                                                          sum([result['losses'] for result in result_list]),\n",
    "#                                                          sum([fitness for fitness in fitness_list])))\n",
    "#    print('mean score is {}'.format(score))\n",
    "print('total time for neural network is {:.01f} seconds'.format(time.clock()-t0))\n"
   ]
  },
  {
   "cell_type": "code",
   "execution_count": 18,
   "metadata": {
    "collapsed": false,
    "scrolled": false
   },
   "outputs": [],
   "source": [
    "# save the chromes\n",
    "np.savez('TD_cccc_100_nn_1_85_million',lasagne.layers.get_all_param_values(value_out))\n"
   ]
  },
  {
   "cell_type": "code",
   "execution_count": 13,
   "metadata": {
    "collapsed": false,
    "scrolled": false
   },
   "outputs": [
    {
     "name": "stdout",
     "output_type": "stream",
     "text": [
      " \n",
      " \n",
      "As X, neural network has a score of   5-  0-  5 vs 4-depth minimax\n",
      "As O, neural network has a score of   4-  2-  4 vs 4-depth minimax\n",
      " \n",
      "elapsed time: 650.534s\n",
      " \n"
     ]
    }
   ],
   "source": [
    "validation_str = 4\n",
    "player_1 = nn_ai(value_funs_det)\n",
    "player_2 = alpha_beta(validation_str)\n",
    "print ' '\n",
    "print ' '\n",
    "test_result = {'wins':0,'ties':0,'losses':0}\n",
    "for j in range(10):\n",
    "    result = cccc.play(player_1,player_2)\n",
    "    if result.winner ==1:\n",
    "        test_result['wins'] +=1\n",
    "    if result.winner == 0:\n",
    "        test_result['ties'] +=1\n",
    "    if result.winner == -1:\n",
    "        test_result['losses'] +=1\n",
    "\n",
    "\n",
    "print 'As X, neural network has a score of {:3d}-{:3d}-{:3d} vs {}-depth minimax'.format(test_result['wins'],\n",
    "                                                       test_result['ties'],test_result['losses'],validation_str)\n",
    "\n",
    "test_result = {'wins':0,'ties':0,'losses':0}\n",
    "\n",
    "for j in range(10):\n",
    "    result = cccc.play(player_2,player_1)\n",
    "    if result.winner ==1:\n",
    "        test_result['losses'] +=1\n",
    "    if result.winner == 0:\n",
    "        test_result['ties'] +=1\n",
    "    if result.winner == -1:\n",
    "        test_result['wins'] +=1\n",
    "\n",
    "print 'As O, neural network has a score of {:3d}-{:3d}-{:3d} vs {}-depth minimax'.format(test_result['wins'],\n",
    "                                                    test_result['ties'],test_result['losses'],validation_str)\n",
    "print ' '\n",
    "print 'elapsed time: {:3.3f}s'.format(time.clock()-t0)\n",
    "print ' '"
   ]
  },
  {
   "cell_type": "code",
   "execution_count": 22,
   "metadata": {
    "collapsed": false,
    "scrolled": true
   },
   "outputs": [
    {
     "name": "stdout",
     "output_type": "stream",
     "text": [
      "it is X's turn, please choose a move\n",
      "\n",
      "     |   |   |   |   |   |    \n",
      "  ---------------------------        \n",
      "     |   |   |   |   |   |    \n",
      "  ---------------------------       \n",
      "     |   |   |   |   |   |     \n",
      "  ---------------------------        \n",
      "     |   |   |   |   |   |    \n",
      "  ---------------------------       \n",
      "     |   |   |   |   |   |   \n",
      "  ---------------------------       \n",
      "     |   |   |   |   |   |    \n",
      "  ---------------------------\n",
      "   1 | 2 | 3 | 4 | 5 | 6 | 7\n",
      "    \n",
      "4\n",
      "it is X's turn, please choose a move\n",
      "\n",
      "     |   |   |   |   |   |    \n",
      "  ---------------------------        \n",
      "     |   |   |   |   |   |    \n",
      "  ---------------------------       \n",
      "     |   |   |   |   |   |     \n",
      "  ---------------------------        \n",
      "     |   |   |   |   |   |    \n",
      "  ---------------------------       \n",
      "     |   |   |   |   |   |   \n",
      "  ---------------------------       \n",
      "     |   |   | X |   |   | O  \n",
      "  ---------------------------\n",
      "   1 | 2 | 3 | 4 | 5 | 6 | 7\n",
      "    \n",
      "2\n",
      "it is X's turn, please choose a move\n",
      "\n",
      "     |   |   |   |   |   |    \n",
      "  ---------------------------        \n",
      "     |   |   |   |   |   |    \n",
      "  ---------------------------       \n",
      "     |   |   |   |   |   |     \n",
      "  ---------------------------        \n",
      "     |   |   |   |   |   |    \n",
      "  ---------------------------       \n",
      "     |   |   |   |   |   |   \n",
      "  ---------------------------       \n",
      "     | X |   | X | O |   | O  \n",
      "  ---------------------------\n",
      "   1 | 2 | 3 | 4 | 5 | 6 | 7\n",
      "    \n",
      "4\n",
      "it is X's turn, please choose a move\n",
      "\n",
      "     |   |   |   |   |   |    \n",
      "  ---------------------------        \n",
      "     |   |   |   |   |   |    \n",
      "  ---------------------------       \n",
      "     |   |   |   |   |   |     \n",
      "  ---------------------------        \n",
      "     |   |   |   |   |   |    \n",
      "  ---------------------------       \n",
      "     | O |   | X |   |   |   \n",
      "  ---------------------------       \n",
      "     | X |   | X | O |   | O  \n",
      "  ---------------------------\n",
      "   1 | 2 | 3 | 4 | 5 | 6 | 7\n",
      "    \n",
      "4\n",
      "it is X's turn, please choose a move\n",
      "\n",
      "     |   |   |   |   |   |    \n",
      "  ---------------------------        \n",
      "     |   |   |   |   |   |    \n",
      "  ---------------------------       \n",
      "     |   |   | O |   |   |     \n",
      "  ---------------------------        \n",
      "     |   |   | X |   |   |    \n",
      "  ---------------------------       \n",
      "     | O |   | X |   |   |   \n",
      "  ---------------------------       \n",
      "     | X |   | X | O |   | O  \n",
      "  ---------------------------\n",
      "   1 | 2 | 3 | 4 | 5 | 6 | 7\n",
      "    \n",
      "2\n",
      "it is X's turn, please choose a move\n",
      "\n",
      "     |   |   |   |   |   |    \n",
      "  ---------------------------        \n",
      "     |   |   |   |   |   |    \n",
      "  ---------------------------       \n",
      "     |   |   | O |   |   |     \n",
      "  ---------------------------        \n",
      "     | X |   | X |   |   |    \n",
      "  ---------------------------       \n",
      "     | O |   | X |   |   |   \n",
      "  ---------------------------       \n",
      "     | X | O | X | O |   | O  \n",
      "  ---------------------------\n",
      "   1 | 2 | 3 | 4 | 5 | 6 | 7\n",
      "    \n",
      "1\n",
      "it is X's turn, please choose a move\n",
      "\n",
      "     |   |   |   |   |   |    \n",
      "  ---------------------------        \n",
      "     |   |   |   |   |   |    \n",
      "  ---------------------------       \n",
      "     |   |   | O |   |   |     \n",
      "  ---------------------------        \n",
      "     | X |   | X |   |   |    \n",
      "  ---------------------------       \n",
      "     | O | O | X |   |   |   \n",
      "  ---------------------------       \n",
      "   X | X | O | X | O |   | O  \n",
      "  ---------------------------\n",
      "   1 | 2 | 3 | 4 | 5 | 6 | 7\n",
      "    \n",
      "3\n",
      "it is X's turn, please choose a move\n",
      "\n",
      "     |   |   |   |   |   |    \n",
      "  ---------------------------        \n",
      "     |   |   |   |   |   |    \n",
      "  ---------------------------       \n",
      "     |   | O | O |   |   |     \n",
      "  ---------------------------        \n",
      "     | X | X | X |   |   |    \n",
      "  ---------------------------       \n",
      "     | O | O | X |   |   |   \n",
      "  ---------------------------       \n",
      "   X | X | O | X | O |   | O  \n",
      "  ---------------------------\n",
      "   1 | 2 | 3 | 4 | 5 | 6 | 7\n",
      "    \n",
      "4\n",
      "it is X's turn, please choose a move\n",
      "\n",
      "     |   |   |   |   |   |    \n",
      "  ---------------------------        \n",
      "     |   | O | X |   |   |    \n",
      "  ---------------------------       \n",
      "     |   | O | O |   |   |     \n",
      "  ---------------------------        \n",
      "     | X | X | X |   |   |    \n",
      "  ---------------------------       \n",
      "     | O | O | X |   |   |   \n",
      "  ---------------------------       \n",
      "   X | X | O | X | O |   | O  \n",
      "  ---------------------------\n",
      "   1 | 2 | 3 | 4 | 5 | 6 | 7\n",
      "    \n",
      "4\n",
      "it is X's turn, please choose a move\n",
      "\n",
      "     |   |   | X |   |   |    \n",
      "  ---------------------------        \n",
      "     |   | O | X |   |   |    \n",
      "  ---------------------------       \n",
      "     | O | O | O |   |   |     \n",
      "  ---------------------------        \n",
      "     | X | X | X |   |   |    \n",
      "  ---------------------------       \n",
      "     | O | O | X |   |   |   \n",
      "  ---------------------------       \n",
      "   X | X | O | X | O |   | O  \n",
      "  ---------------------------\n",
      "   1 | 2 | 3 | 4 | 5 | 6 | 7\n",
      "    \n",
      "3\n",
      "it is X's turn, please choose a move\n",
      "\n",
      "     |   | X | X |   |   |    \n",
      "  ---------------------------        \n",
      "     | O | O | X |   |   |    \n",
      "  ---------------------------       \n",
      "     | O | O | O |   |   |     \n",
      "  ---------------------------        \n",
      "     | X | X | X |   |   |    \n",
      "  ---------------------------       \n",
      "     | O | O | X |   |   |   \n",
      "  ---------------------------       \n",
      "   X | X | O | X | O |   | O  \n",
      "  ---------------------------\n",
      "   1 | 2 | 3 | 4 | 5 | 6 | 7\n",
      "    \n",
      "2\n",
      "it is X's turn, please choose a move\n",
      "\n",
      "     | X | X | X |   |   |    \n",
      "  ---------------------------        \n",
      "     | O | O | X |   |   |    \n",
      "  ---------------------------       \n",
      "     | O | O | O |   |   |     \n",
      "  ---------------------------        \n",
      "     | X | X | X |   |   |    \n",
      "  ---------------------------       \n",
      "     | O | O | X |   |   | O \n",
      "  ---------------------------       \n",
      "   X | X | O | X | O |   | O  \n",
      "  ---------------------------\n",
      "   1 | 2 | 3 | 4 | 5 | 6 | 7\n",
      "    \n",
      "7\n",
      "it is X's turn, please choose a move\n",
      "\n",
      "     | X | X | X |   |   |    \n",
      "  ---------------------------        \n",
      "     | O | O | X |   |   |    \n",
      "  ---------------------------       \n",
      "     | O | O | O |   |   | O   \n",
      "  ---------------------------        \n",
      "     | X | X | X |   |   | X  \n",
      "  ---------------------------       \n",
      "     | O | O | X |   |   | O \n",
      "  ---------------------------       \n",
      "   X | X | O | X | O |   | O  \n",
      "  ---------------------------\n",
      "   1 | 2 | 3 | 4 | 5 | 6 | 7\n",
      "    \n",
      "7\n",
      "it is X's turn, please choose a move\n",
      "\n",
      "     | X | X | X |   |   |    \n",
      "  ---------------------------        \n",
      "     | O | O | X |   |   | X  \n",
      "  ---------------------------       \n",
      "     | O | O | O |   |   | O   \n",
      "  ---------------------------        \n",
      "     | X | X | X |   |   | X  \n",
      "  ---------------------------       \n",
      "     | O | O | X |   |   | O \n",
      "  ---------------------------       \n",
      "   X | X | O | X | O | O | O  \n",
      "  ---------------------------\n",
      "   1 | 2 | 3 | 4 | 5 | 6 | 7\n",
      "    \n",
      "6\n",
      "it is X's turn, please choose a move\n",
      "\n",
      "     | X | X | X |   |   |    \n",
      "  ---------------------------        \n",
      "     | O | O | X |   |   | X  \n",
      "  ---------------------------       \n",
      "     | O | O | O |   |   | O   \n",
      "  ---------------------------        \n",
      "     | X | X | X |   | O | X  \n",
      "  ---------------------------       \n",
      "     | O | O | X |   | X | O \n",
      "  ---------------------------       \n",
      "   X | X | O | X | O | O | O  \n",
      "  ---------------------------\n",
      "   1 | 2 | 3 | 4 | 5 | 6 | 7\n",
      "    \n",
      "6\n",
      "it is X's turn, please choose a move\n",
      "\n",
      "     | X | X | X |   |   | O  \n",
      "  ---------------------------        \n",
      "     | O | O | X |   |   | X  \n",
      "  ---------------------------       \n",
      "     | O | O | O |   | X | O   \n",
      "  ---------------------------        \n",
      "     | X | X | X |   | O | X  \n",
      "  ---------------------------       \n",
      "     | O | O | X |   | X | O \n",
      "  ---------------------------       \n",
      "   X | X | O | X | O | O | O  \n",
      "  ---------------------------\n",
      "   1 | 2 | 3 | 4 | 5 | 6 | 7\n",
      "    \n",
      "6\n",
      "it is X's turn, please choose a move\n",
      "\n",
      "     | X | X | X |   | O | O  \n",
      "  ---------------------------        \n",
      "     | O | O | X |   | X | X  \n",
      "  ---------------------------       \n",
      "     | O | O | O |   | X | O   \n",
      "  ---------------------------        \n",
      "     | X | X | X |   | O | X  \n",
      "  ---------------------------       \n",
      "     | O | O | X |   | X | O \n",
      "  ---------------------------       \n",
      "   X | X | O | X | O | O | O  \n",
      "  ---------------------------\n",
      "   1 | 2 | 3 | 4 | 5 | 6 | 7\n",
      "    \n",
      "1\n",
      "it is X's turn, please choose a move\n",
      "\n",
      "     | X | X | X |   | O | O  \n",
      "  ---------------------------        \n",
      "     | O | O | X |   | X | X  \n",
      "  ---------------------------       \n",
      "     | O | O | O |   | X | O   \n",
      "  ---------------------------        \n",
      "   O | X | X | X |   | O | X  \n",
      "  ---------------------------       \n",
      "   X | O | O | X |   | X | O \n",
      "  ---------------------------       \n",
      "   X | X | O | X | O | O | O  \n",
      "  ---------------------------\n",
      "   1 | 2 | 3 | 4 | 5 | 6 | 7\n",
      "    \n",
      "1\n",
      "it is X's turn, please choose a move\n",
      "\n",
      "     | X | X | X |   | O | O  \n",
      "  ---------------------------        \n",
      "     | O | O | X |   | X | X  \n",
      "  ---------------------------       \n",
      "   X | O | O | O |   | X | O   \n",
      "  ---------------------------        \n",
      "   O | X | X | X |   | O | X  \n",
      "  ---------------------------       \n",
      "   X | O | O | X | O | X | O \n",
      "  ---------------------------       \n",
      "   X | X | O | X | O | O | O  \n",
      "  ---------------------------\n",
      "   1 | 2 | 3 | 4 | 5 | 6 | 7\n",
      "    \n",
      "5\n"
     ]
    },
    {
     "data": {
      "text/plain": [
       "<connect_four.result at 0xafe2c50>"
      ]
     },
     "execution_count": 22,
     "metadata": {},
     "output_type": "execute_result"
    }
   ],
   "source": [
    "cccc.play(cccc.player(),alpha_beta(8))"
   ]
  },
  {
   "cell_type": "code",
   "execution_count": 18,
   "metadata": {
    "collapsed": false,
    "scrolled": true
   },
   "outputs": [
    {
     "data": {
      "image/png": "[encoded data removed]",
      "text/plain": [
       "<matplotlib.figure.Figure at 0xc8ac2b0>"
      ]
     },
     "metadata": {},
     "output_type": "display_data"
    },
    {
     "name": "stdout",
     "output_type": "stream",
     "text": [
      "-0.325772032011\n"
     ]
    },
    {
     "data": {
      "image/png": "[encoded data removed]",
      "text/plain": [
       "<matplotlib.figure.Figure at 0x10d67358>"
      ]
     },
     "metadata": {},
     "output_type": "display_data"
    },
    {
     "name": "stdout",
     "output_type": "stream",
     "text": [
      "0.294701872429\n"
     ]
    },
    {
     "data": {
      "image/png": "[encoded data removed]",
      "text/plain": [
       "<matplotlib.figure.Figure at 0xe54e438>"
      ]
     },
     "metadata": {},
     "output_type": "display_data"
    },
    {
     "name": "stdout",
     "output_type": "stream",
     "text": [
      "-0.19054704024\n"
     ]
    },
    {
     "data": {
      "image/png": "[encoded data removed]",
      "text/plain": [
       "<matplotlib.figure.Figure at 0x10506cc0>"
      ]
     },
     "metadata": {},
     "output_type": "display_data"
    },
    {
     "name": "stdout",
     "output_type": "stream",
     "text": [
      "0.193809720392\n"
     ]
    },
    {
     "data": {
      "image/png": "[encoded data removed]",
      "text/plain": [
       "<matplotlib.figure.Figure at 0xe954d68>"
      ]
     },
     "metadata": {},
     "output_type": "display_data"
    },
    {
     "name": "stdout",
     "output_type": "stream",
     "text": [
      "-0.0433939750651\n"
     ]
    },
    {
     "data": {
      "image/png": "[encoded data removed]",
      "text/plain": [
       "<matplotlib.figure.Figure at 0x104f8f98>"
      ]
     },
     "metadata": {},
     "output_type": "display_data"
    },
    {
     "name": "stdout",
     "output_type": "stream",
     "text": [
      "0.0811540915849\n"
     ]
    },
    {
     "data": {
      "image/png": "[encoded data removed]",
      "text/plain": [
       "<matplotlib.figure.Figure at 0xecba0b8>"
      ]
     },
     "metadata": {},
     "output_type": "display_data"
    },
    {
     "name": "stdout",
     "output_type": "stream",
     "text": [
      "-0.0195208876466\n"
     ]
    },
    {
     "data": {
      "image/png": "[encoded data removed]",
      "text/plain": [
       "<matplotlib.figure.Figure at 0x106b4be0>"
      ]
     },
     "metadata": {},
     "output_type": "display_data"
    },
    {
     "name": "stdout",
     "output_type": "stream",
     "text": [
      "0.0853758774023\n"
     ]
    },
    {
     "data": {
      "image/png": "[encoded data removed]",
      "text/plain": [
       "<matplotlib.figure.Figure at 0x105480b8>"
      ]
     },
     "metadata": {},
     "output_type": "display_data"
    },
    {
     "name": "stdout",
     "output_type": "stream",
     "text": [
      "-0.0870781272742\n"
     ]
    },
    {
     "data": {
      "image/png": "[encoded data removed]",
      "text/plain": [
       "<matplotlib.figure.Figure at 0xc87c2b0>"
      ]
     },
     "metadata": {},
     "output_type": "display_data"
    },
    {
     "name": "stdout",
     "output_type": "stream",
     "text": [
      "0.0750276825145\n"
     ]
    },
    {
     "data": {
      "image/png": "[encoded data removed]",
      "text/plain": [
       "<matplotlib.figure.Figure at 0xe3b35c0>"
      ]
     },
     "metadata": {},
     "output_type": "display_data"
    },
    {
     "name": "stdout",
     "output_type": "stream",
     "text": [
      "-0.0113275761303\n"
     ]
    },
    {
     "data": {
      "image/png": "[encoded data removed]",
      "text/plain": [
       "<matplotlib.figure.Figure at 0xe531b70>"
      ]
     },
     "metadata": {},
     "output_type": "display_data"
    },
    {
     "name": "stdout",
     "output_type": "stream",
     "text": [
      "0.0761207894142\n"
     ]
    },
    {
     "data": {
      "image/png": "[encoded data removed]",
      "text/plain": [
       "<matplotlib.figure.Figure at 0xeec0c18>"
      ]
     },
     "metadata": {},
     "output_type": "display_data"
    },
    {
     "name": "stdout",
     "output_type": "stream",
     "text": [
      "-0.0707472076118\n"
     ]
    },
    {
     "data": {
      "image/png": "[encoded data removed]",
      "text/plain": [
       "<matplotlib.figure.Figure at 0xe543470>"
      ]
     },
     "metadata": {},
     "output_type": "display_data"
    },
    {
     "name": "stdout",
     "output_type": "stream",
     "text": [
      "0.101822610904\n"
     ]
    },
    {
     "data": {
      "image/png": "[encoded data removed]",
      "text/plain": [
       "<matplotlib.figure.Figure at 0x10ac5cc0>"
      ]
     },
     "metadata": {},
     "output_type": "display_data"
    },
    {
     "name": "stdout",
     "output_type": "stream",
     "text": [
      "-0.062030815174\n"
     ]
    },
    {
     "data": {
      "image/png": "[encoded data removed]",
      "text/plain": [
       "<matplotlib.figure.Figure at 0x107d7a58>"
      ]
     },
     "metadata": {},
     "output_type": "display_data"
    },
    {
     "name": "stdout",
     "output_type": "stream",
     "text": [
      "0.0539348600613\n"
     ]
    },
    {
     "data": {
      "image/png": "[encoded data removed]",
      "text/plain": [
       "<matplotlib.figure.Figure at 0x10abeb38>"
      ]
     },
     "metadata": {},
     "output_type": "display_data"
    },
    {
     "name": "stdout",
     "output_type": "stream",
     "text": [
      "-0.0159836784857\n"
     ]
    },
    {
     "data": {
      "image/png": "[encoded data removed]",
      "text/plain": [
       "<matplotlib.figure.Figure at 0x105550b8>"
      ]
     },
     "metadata": {},
     "output_type": "display_data"
    },
    {
     "name": "stdout",
     "output_type": "stream",
     "text": [
      "-0.00183595417628\n"
     ]
    },
    {
     "data": {
      "image/png": "[encoded data removed]",
      "text/plain": [
       "<matplotlib.figure.Figure at 0xc8c3c88>"
      ]
     },
     "metadata": {},
     "output_type": "display_data"
    },
    {
     "name": "stdout",
     "output_type": "stream",
     "text": [
      "0.0788883241323\n"
     ]
    },
    {
     "data": {
      "image/png": "[encoded data removed]",
      "text/plain": [
       "<matplotlib.figure.Figure at 0xf1920f0>"
      ]
     },
     "metadata": {},
     "output_type": "display_data"
    },
    {
     "name": "stdout",
     "output_type": "stream",
     "text": [
      "-1.0\n"
     ]
    },
    {
     "data": {
      "image/png": "[encoded data removed]",
      "text/plain": [
       "<matplotlib.figure.Figure at 0x107ad2b0>"
      ]
     },
     "metadata": {},
     "output_type": "display_data"
    },
    {
     "name": "stdout",
     "output_type": "stream",
     "text": [
      "1.0\n"
     ]
    },
    {
     "data": {
      "image/png": "[encoded data removed]",
      "text/plain": [
       "<matplotlib.figure.Figure at 0xe6db1d0>"
      ]
     },
     "metadata": {},
     "output_type": "display_data"
    },
    {
     "name": "stdout",
     "output_type": "stream",
     "text": [
      "-0.807701165847\n"
     ]
    },
    {
     "data": {
      "image/png": "[encoded data removed]",
      "text/plain": [
       "<matplotlib.figure.Figure at 0xe851b70>"
      ]
     },
     "metadata": {},
     "output_type": "display_data"
    },
    {
     "name": "stdout",
     "output_type": "stream",
     "text": [
      "0.687962558333\n"
     ]
    },
    {
     "data": {
      "image/png": "[encoded data removed]",
      "text/plain": [
       "<matplotlib.figure.Figure at 0x108d8c18>"
      ]
     },
     "metadata": {},
     "output_type": "display_data"
    },
    {
     "name": "stdout",
     "output_type": "stream",
     "text": [
      "-0.570781862182\n"
     ]
    },
    {
     "data": {
      "image/png": "[encoded data removed]",
      "text/plain": [
       "<matplotlib.figure.Figure at 0xe540978>"
      ]
     },
     "metadata": {},
     "output_type": "display_data"
    },
    {
     "name": "stdout",
     "output_type": "stream",
     "text": [
      "0.508394166915\n"
     ]
    },
    {
     "data": {
      "image/png": "[encoded data removed]",
      "text/plain": [
       "<matplotlib.figure.Figure at 0xeda9cc0>"
      ]
     },
     "metadata": {},
     "output_type": "display_data"
    },
    {
     "name": "stdout",
     "output_type": "stream",
     "text": [
      "-0.373515842284\n"
     ]
    },
    {
     "data": {
      "image/png": "[encoded data removed]",
      "text/plain": [
       "<matplotlib.figure.Figure at 0xe6f9a58>"
      ]
     },
     "metadata": {},
     "output_type": "display_data"
    },
    {
     "name": "stdout",
     "output_type": "stream",
     "text": [
      "0.382818833009\n"
     ]
    },
    {
     "data": {
      "image/png": "[encoded data removed]",
      "text/plain": [
       "<matplotlib.figure.Figure at 0xedb3f98>"
      ]
     },
     "metadata": {},
     "output_type": "display_data"
    },
    {
     "name": "stdout",
     "output_type": "stream",
     "text": [
      "-0.325269235619\n"
     ]
    },
    {
     "data": {
      "image/png": "[encoded data removed]",
      "text/plain": [
       "<matplotlib.figure.Figure at 0x10c890b8>"
      ]
     },
     "metadata": {},
     "output_type": "display_data"
    },
    {
     "name": "stdout",
     "output_type": "stream",
     "text": [
      "0.346680786346\n"
     ]
    },
    {
     "data": {
      "image/png": "[encoded data removed]",
      "text/plain": [
       "<matplotlib.figure.Figure at 0xb668860>"
      ]
     },
     "metadata": {},
     "output_type": "display_data"
    },
    {
     "name": "stdout",
     "output_type": "stream",
     "text": [
      "-0.298532229601\n"
     ]
    },
    {
     "data": {
      "image/png": "[encoded data removed]",
      "text/plain": [
       "<matplotlib.figure.Figure at 0xb634438>"
      ]
     },
     "metadata": {},
     "output_type": "display_data"
    },
    {
     "name": "stdout",
     "output_type": "stream",
     "text": [
      "0.337795735951\n"
     ]
    },
    {
     "data": {
      "image/png": "[encoded data removed]",
      "text/plain": [
       "<matplotlib.figure.Figure at 0x105412b0>"
      ]
     },
     "metadata": {},
     "output_type": "display_data"
    },
    {
     "name": "stdout",
     "output_type": "stream",
     "text": [
      "-0.359954949047\n"
     ]
    },
    {
     "data": {
      "image/png": "[encoded data removed]",
      "text/plain": [
       "<matplotlib.figure.Figure at 0xb660908>"
      ]
     },
     "metadata": {},
     "output_type": "display_data"
    },
    {
     "name": "stdout",
     "output_type": "stream",
     "text": [
      "0.396679821393\n"
     ]
    },
    {
     "data": {
      "image/png": "[encoded data removed]",
      "text/plain": [
       "<matplotlib.figure.Figure at 0xe365b70>"
      ]
     },
     "metadata": {},
     "output_type": "display_data"
    },
    {
     "name": "stdout",
     "output_type": "stream",
     "text": [
      "-0.39150222868\n"
     ]
    },
    {
     "data": {
      "image/png": "[encoded data removed]",
      "text/plain": [
       "<matplotlib.figure.Figure at 0xeaf5c18>"
      ]
     },
     "metadata": {},
     "output_type": "display_data"
    },
    {
     "name": "stdout",
     "output_type": "stream",
     "text": [
      "0.420509485492\n"
     ]
    },
    {
     "data": {
      "image/png": "[encoded data removed]",
      "text/plain": [
       "<matplotlib.figure.Figure at 0xe38a470>"
      ]
     },
     "metadata": {},
     "output_type": "display_data"
    },
    {
     "name": "stdout",
     "output_type": "stream",
     "text": [
      "-0.40576117789\n"
     ]
    },
    {
     "data": {
      "image/png": "[encoded data removed]",
      "text/plain": [
       "<matplotlib.figure.Figure at 0x10adbcc0>"
      ]
     },
     "metadata": {},
     "output_type": "display_data"
    },
    {
     "name": "stdout",
     "output_type": "stream",
     "text": [
      "0.404494550304\n"
     ]
    },
    {
     "data": {
      "image/png": "[encoded data removed]",
      "text/plain": [
       "<matplotlib.figure.Figure at 0xe956a58>"
      ]
     },
     "metadata": {},
     "output_type": "display_data"
    },
    {
     "name": "stdout",
     "output_type": "stream",
     "text": [
      "-1.0\n"
     ]
    },
    {
     "data": {
      "image/png": "[encoded data removed]",
      "text/plain": [
       "<matplotlib.figure.Figure at 0x10ab6f98>"
      ]
     },
     "metadata": {},
     "output_type": "display_data"
    },
    {
     "name": "stdout",
     "output_type": "stream",
     "text": [
      "1.0\n"
     ]
    },
    {
     "data": {
      "image/png": "[encoded data removed]",
      "text/plain": [
       "<matplotlib.figure.Figure at 0xecc30b8>"
      ]
     },
     "metadata": {},
     "output_type": "display_data"
    },
    {
     "name": "stdout",
     "output_type": "stream",
     "text": [
      "-0.775828867669\n"
     ]
    },
    {
     "data": {
      "image/png": "[encoded data removed]",
      "text/plain": [
       "<matplotlib.figure.Figure at 0xae03b38>"
      ]
     },
     "metadata": {},
     "output_type": "display_data"
    },
    {
     "name": "stdout",
     "output_type": "stream",
     "text": [
      "0.741158797943\n"
     ]
    },
    {
     "data": {
      "image/png": "[encoded data removed]",
      "text/plain": [
       "<matplotlib.figure.Figure at 0xb43da90>"
      ]
     },
     "metadata": {},
     "output_type": "display_data"
    },
    {
     "name": "stdout",
     "output_type": "stream",
     "text": [
      "-0.54040003241\n"
     ]
    },
    {
     "data": {
      "image/png": "[encoded data removed]",
      "text/plain": [
       "<matplotlib.figure.Figure at 0x10c652b0>"
      ]
     },
     "metadata": {},
     "output_type": "display_data"
    },
    {
     "name": "stdout",
     "output_type": "stream",
     "text": [
      "0.572056888553\n"
     ]
    },
    {
     "data": {
      "image/png": "[encoded data removed]",
      "text/plain": [
       "<matplotlib.figure.Figure at 0xe7ad358>"
      ]
     },
     "metadata": {},
     "output_type": "display_data"
    },
    {
     "name": "stdout",
     "output_type": "stream",
     "text": [
      "-0.486135897904\n"
     ]
    },
    {
     "data": {
      "image/png": "[encoded data removed]",
      "text/plain": [
       "<matplotlib.figure.Figure at 0xe853b70>"
      ]
     },
     "metadata": {},
     "output_type": "display_data"
    },
    {
     "name": "stdout",
     "output_type": "stream",
     "text": [
      "0.5082691372\n"
     ]
    },
    {
     "data": {
      "image/png": "[encoded data removed]",
      "text/plain": [
       "<matplotlib.figure.Figure at 0xee84c18>"
      ]
     },
     "metadata": {},
     "output_type": "display_data"
    },
    {
     "name": "stdout",
     "output_type": "stream",
     "text": [
      "-0.407873605767\n"
     ]
    },
    {
     "data": {
      "image/png": "[encoded data removed]",
      "text/plain": [
       "<matplotlib.figure.Figure at 0x106af470>"
      ]
     },
     "metadata": {},
     "output_type": "display_data"
    },
    {
     "name": "stdout",
     "output_type": "stream",
     "text": [
      "0.451665825633\n"
     ]
    },
    {
     "data": {
      "image/png": "[encoded data removed]",
      "text/plain": [
       "<matplotlib.figure.Figure at 0x107d2cc0>"
      ]
     },
     "metadata": {},
     "output_type": "display_data"
    },
    {
     "name": "stdout",
     "output_type": "stream",
     "text": [
      "-0.379982603144\n"
     ]
    },
    {
     "data": {
      "image/png": "[encoded data removed]",
      "text/plain": [
       "<matplotlib.figure.Figure at 0x10741a58>"
      ]
     },
     "metadata": {},
     "output_type": "display_data"
    },
    {
     "name": "stdout",
     "output_type": "stream",
     "text": [
      "0.393806151423\n"
     ]
    },
    {
     "data": {
      "image/png": "[encoded data removed]",
      "text/plain": [
       "<matplotlib.figure.Figure at 0x1079f898>"
      ]
     },
     "metadata": {},
     "output_type": "display_data"
    },
    {
     "name": "stdout",
     "output_type": "stream",
     "text": [
      "-0.403225064712\n"
     ]
    },
    {
     "data": {
      "image/png": "[encoded data removed]",
      "text/plain": [
       "<matplotlib.figure.Figure at 0x1073bda0>"
      ]
     },
     "metadata": {},
     "output_type": "display_data"
    },
    {
     "name": "stdout",
     "output_type": "stream",
     "text": [
      "0.405505351416\n"
     ]
    },
    {
     "data": {
      "image/png": "[encoded data removed]",
      "text/plain": [
       "<matplotlib.figure.Figure at 0xc8d16a0>"
      ]
     },
     "metadata": {},
     "output_type": "display_data"
    },
    {
     "name": "stdout",
     "output_type": "stream",
     "text": [
      "-0.303251392406\n"
     ]
    },
    {
     "data": {
      "image/png": "[encoded data removed]",
      "text/plain": [
       "<matplotlib.figure.Figure at 0x40a17b8>"
      ]
     },
     "metadata": {},
     "output_type": "display_data"
    },
    {
     "name": "stdout",
     "output_type": "stream",
     "text": [
      "0.265935458008\n"
     ]
    },
    {
     "data": {
      "image/png": "[encoded data removed]",
      "text/plain": [
       "<matplotlib.figure.Figure at 0xec422b0>"
      ]
     },
     "metadata": {},
     "output_type": "display_data"
    },
    {
     "name": "stdout",
     "output_type": "stream",
     "text": [
      "-0.203243752179\n"
     ]
    },
    {
     "data": {
      "image/png": "[encoded data removed]",
      "text/plain": [
       "<matplotlib.figure.Figure at 0xe6f2518>"
      ]
     },
     "metadata": {},
     "output_type": "display_data"
    },
    {
     "name": "stdout",
     "output_type": "stream",
     "text": [
      "0.204868525712\n"
     ]
    },
    {
     "data": {
      "image/png": "[encoded data removed]",
      "text/plain": [
       "<matplotlib.figure.Figure at 0xee7fb70>"
      ]
     },
     "metadata": {},
     "output_type": "display_data"
    },
    {
     "name": "stdout",
     "output_type": "stream",
     "text": [
      "-0.16147204256\n"
     ]
    },
    {
     "data": {
      "image/png": "[encoded data removed]",
      "text/plain": [
       "<matplotlib.figure.Figure at 0x10d4dc18>"
      ]
     },
     "metadata": {},
     "output_type": "display_data"
    },
    {
     "name": "stdout",
     "output_type": "stream",
     "text": [
      "0.236254241861\n"
     ]
    },
    {
     "data": {
      "image/png": "[encoded data removed]",
      "text/plain": [
       "<matplotlib.figure.Figure at 0x10523470>"
      ]
     },
     "metadata": {},
     "output_type": "display_data"
    },
    {
     "name": "stdout",
     "output_type": "stream",
     "text": [
      "-0.264481944772\n"
     ]
    },
    {
     "data": {
      "image/png": "[encoded data removed]",
      "text/plain": [
       "<matplotlib.figure.Figure at 0xeeaacc0>"
      ]
     },
     "metadata": {},
     "output_type": "display_data"
    },
    {
     "name": "stdout",
     "output_type": "stream",
     "text": [
      "0.340798882819\n"
     ]
    },
    {
     "data": {
      "image/png": "[encoded data removed]",
      "text/plain": [
       "<matplotlib.figure.Figure at 0x10c8fa58>"
      ]
     },
     "metadata": {},
     "output_type": "display_data"
    },
    {
     "name": "stdout",
     "output_type": "stream",
     "text": [
      "-1.0\n"
     ]
    },
    {
     "data": {
      "image/png": "[encoded data removed]",
      "text/plain": [
       "<matplotlib.figure.Figure at 0xeebff98>"
      ]
     },
     "metadata": {},
     "output_type": "display_data"
    },
    {
     "name": "stdout",
     "output_type": "stream",
     "text": [
      "1.0\n"
     ]
    },
    {
     "data": {
      "image/png": "[encoded data removed]",
      "text/plain": [
       "<matplotlib.figure.Figure at 0xeb110b8>"
      ]
     },
     "metadata": {},
     "output_type": "display_data"
    },
    {
     "name": "stdout",
     "output_type": "stream",
     "text": [
      "-0.758037197822\n"
     ]
    },
    {
     "data": {
      "image/png": "[encoded data removed]",
      "text/plain": [
       "<matplotlib.figure.Figure at 0xb634390>"
      ]
     },
     "metadata": {},
     "output_type": "display_data"
    },
    {
     "name": "stdout",
     "output_type": "stream",
     "text": [
      "0.55271205216\n"
     ]
    },
    {
     "data": {
      "image/png": "[encoded data removed]",
      "text/plain": [
       "<matplotlib.figure.Figure at 0xb43d748>"
      ]
     },
     "metadata": {},
     "output_type": "display_data"
    },
    {
     "name": "stdout",
     "output_type": "stream",
     "text": [
      "-0.417291869026\n"
     ]
    },
    {
     "data": {
      "image/png": "[encoded data removed]",
      "text/plain": [
       "<matplotlib.figure.Figure at 0x10ac92b0>"
      ]
     },
     "metadata": {},
     "output_type": "display_data"
    },
    {
     "name": "stdout",
     "output_type": "stream",
     "text": [
      "0.312569942959\n"
     ]
    },
    {
     "data": {
      "image/png": "[encoded data removed]",
      "text/plain": [
       "<matplotlib.figure.Figure at 0xe71e630>"
      ]
     },
     "metadata": {},
     "output_type": "display_data"
    },
    {
     "name": "stdout",
     "output_type": "stream",
     "text": [
      "-0.198141142287\n"
     ]
    },
    {
     "data": {
      "image/png": "[encoded data removed]",
      "text/plain": [
       "<matplotlib.figure.Figure at 0x10506b70>"
      ]
     },
     "metadata": {},
     "output_type": "display_data"
    },
    {
     "name": "stdout",
     "output_type": "stream",
     "text": [
      "0.249228905492\n"
     ]
    },
    {
     "data": {
      "image/png": "[encoded data removed]",
      "text/plain": [
       "<matplotlib.figure.Figure at 0xf14cbe0>"
      ]
     },
     "metadata": {},
     "output_type": "display_data"
    },
    {
     "name": "stdout",
     "output_type": "stream",
     "text": [
      "-0.185840245008\n"
     ]
    },
    {
     "data": {
      "image/png": "[encoded data removed]",
      "text/plain": [
       "<matplotlib.figure.Figure at 0x104e2470>"
      ]
     },
     "metadata": {},
     "output_type": "display_data"
    },
    {
     "name": "stdout",
     "output_type": "stream",
     "text": [
      "0.238559408176\n"
     ]
    },
    {
     "data": {
      "image/png": "[encoded data removed]",
      "text/plain": [
       "<matplotlib.figure.Figure at 0x10698cc0>"
      ]
     },
     "metadata": {},
     "output_type": "display_data"
    },
    {
     "name": "stdout",
     "output_type": "stream",
     "text": [
      "-0.158861371503\n"
     ]
    },
    {
     "data": {
      "image/png": "[encoded data removed]",
      "text/plain": [
       "<matplotlib.figure.Figure at 0xe722a58>"
      ]
     },
     "metadata": {},
     "output_type": "display_data"
    },
    {
     "name": "stdout",
     "output_type": "stream",
     "text": [
      "0.109145012187\n"
     ]
    },
    {
     "data": {
      "image/png": "[encoded data removed]",
      "text/plain": [
       "<matplotlib.figure.Figure at 0x106cbb38>"
      ]
     },
     "metadata": {},
     "output_type": "display_data"
    },
    {
     "name": "stdout",
     "output_type": "stream",
     "text": [
      "-0.0210454229116\n"
     ]
    },
    {
     "data": {
      "image/png": "[encoded data removed]",
      "text/plain": [
       "<matplotlib.figure.Figure at 0x107790b8>"
      ]
     },
     "metadata": {},
     "output_type": "display_data"
    },
    {
     "name": "stdout",
     "output_type": "stream",
     "text": [
      "0.0217189110374\n"
     ]
    },
    {
     "data": {
      "image/png": "[encoded data removed]",
      "text/plain": [
       "<matplotlib.figure.Figure at 0xf192828>"
      ]
     },
     "metadata": {},
     "output_type": "display_data"
    },
    {
     "name": "stdout",
     "output_type": "stream",
     "text": [
      "0.0353766078846\n"
     ]
    },
    {
     "data": {
      "image/png": "[encoded data removed]",
      "text/plain": [
       "<matplotlib.figure.Figure at 0xb660908>"
      ]
     },
     "metadata": {},
     "output_type": "display_data"
    },
    {
     "name": "stdout",
     "output_type": "stream",
     "text": [
      "0.036971327312\n"
     ]
    },
    {
     "data": {
      "image/png": "[encoded data removed]",
      "text/plain": [
       "<matplotlib.figure.Figure at 0xeb2b2b0>"
      ]
     },
     "metadata": {},
     "output_type": "display_data"
    },
    {
     "name": "stdout",
     "output_type": "stream",
     "text": [
      "-0.0898103339121\n"
     ]
    },
    {
     "data": {
      "image/png": "[encoded data removed]",
      "text/plain": [
       "<matplotlib.figure.Figure at 0xe6d3160>"
      ]
     },
     "metadata": {},
     "output_type": "display_data"
    },
    {
     "name": "stdout",
     "output_type": "stream",
     "text": [
      "0.111308982576\n"
     ]
    },
    {
     "data": {
      "image/png": "[encoded data removed]",
      "text/plain": [
       "<matplotlib.figure.Figure at 0xe6d8b70>"
      ]
     },
     "metadata": {},
     "output_type": "display_data"
    },
    {
     "name": "stdout",
     "output_type": "stream",
     "text": [
      "-0.0691078513148\n"
     ]
    },
    {
     "data": {
      "image/png": "[encoded data removed]",
      "text/plain": [
       "<matplotlib.figure.Figure at 0x1055e908>"
      ]
     },
     "metadata": {},
     "output_type": "display_data"
    },
    {
     "name": "stdout",
     "output_type": "stream",
     "text": [
      "-1.0\n"
     ]
    },
    {
     "data": {
      "image/png": "[encoded data removed]",
      "text/plain": [
       "<matplotlib.figure.Figure at 0xe38e470>"
      ]
     },
     "metadata": {},
     "output_type": "display_data"
    },
    {
     "name": "stdout",
     "output_type": "stream",
     "text": [
      "1.0\n"
     ]
    },
    {
     "data": {
      "image/png": "[encoded data removed]",
      "text/plain": [
       "<matplotlib.figure.Figure at 0xea00cc0>"
      ]
     },
     "metadata": {},
     "output_type": "display_data"
    },
    {
     "name": "stdout",
     "output_type": "stream",
     "text": [
      "-0.812457031564\n"
     ]
    },
    {
     "data": {
      "image/png": "[encoded data removed]",
      "text/plain": [
       "<matplotlib.figure.Figure at 0x10c9ca58>"
      ]
     },
     "metadata": {},
     "output_type": "display_data"
    },
    {
     "name": "stdout",
     "output_type": "stream",
     "text": [
      "0.780020378112\n"
     ]
    },
    {
     "data": {
      "image/png": "[encoded data removed]",
      "text/plain": [
       "<matplotlib.figure.Figure at 0xedaa8d0>"
      ]
     },
     "metadata": {},
     "output_type": "display_data"
    },
    {
     "name": "stdout",
     "output_type": "stream",
     "text": [
      "-0.725329686942\n"
     ]
    },
    {
     "data": {
      "image/png": "[encoded data removed]",
      "text/plain": [
       "<matplotlib.figure.Figure at 0x10c7bda0>"
      ]
     },
     "metadata": {},
     "output_type": "display_data"
    },
    {
     "name": "stdout",
     "output_type": "stream",
     "text": [
      "0.731415826512\n"
     ]
    },
    {
     "data": {
      "image/png": "[encoded data removed]",
      "text/plain": [
       "<matplotlib.figure.Figure at 0xc0a6128>"
      ]
     },
     "metadata": {},
     "output_type": "display_data"
    },
    {
     "name": "stdout",
     "output_type": "stream",
     "text": [
      "-0.7333537477\n"
     ]
    },
    {
     "data": {
      "image/png": "[encoded data removed]",
      "text/plain": [
       "<matplotlib.figure.Figure at 0x105446a0>"
      ]
     },
     "metadata": {},
     "output_type": "display_data"
    },
    {
     "name": "stdout",
     "output_type": "stream",
     "text": [
      "0.677083299759\n"
     ]
    },
    {
     "data": {
      "image/png": "[encoded data removed]",
      "text/plain": [
       "<matplotlib.figure.Figure at 0xe3942b0>"
      ]
     },
     "metadata": {},
     "output_type": "display_data"
    },
    {
     "name": "stdout",
     "output_type": "stream",
     "text": [
      "-0.56153805944\n"
     ]
    },
    {
     "data": {
      "image/png": "[encoded data removed]",
      "text/plain": [
       "<matplotlib.figure.Figure at 0xe3b3128>"
      ]
     },
     "metadata": {},
     "output_type": "display_data"
    },
    {
     "name": "stdout",
     "output_type": "stream",
     "text": [
      "0.538072325491\n"
     ]
    },
    {
     "data": {
      "image/png": "[encoded data removed]",
      "text/plain": [
       "<matplotlib.figure.Figure at 0x10a32b70>"
      ]
     },
     "metadata": {},
     "output_type": "display_data"
    },
    {
     "name": "stdout",
     "output_type": "stream",
     "text": [
      "-0.45715213102\n"
     ]
    },
    {
     "data": {
      "image/png": "[encoded data removed]",
      "text/plain": [
       "<matplotlib.figure.Figure at 0xf182c18>"
      ]
     },
     "metadata": {},
     "output_type": "display_data"
    },
    {
     "name": "stdout",
     "output_type": "stream",
     "text": [
      "0.486076839773\n"
     ]
    },
    {
     "data": {
      "image/png": "[encoded data removed]",
      "text/plain": [
       "<matplotlib.figure.Figure at 0x106b4470>"
      ]
     },
     "metadata": {},
     "output_type": "display_data"
    },
    {
     "name": "stdout",
     "output_type": "stream",
     "text": [
      "-0.447586495305\n"
     ]
    },
    {
     "data": {
      "image/png": "[encoded data removed]",
      "text/plain": [
       "<matplotlib.figure.Figure at 0xeecbcc0>"
      ]
     },
     "metadata": {},
     "output_type": "display_data"
    },
    {
     "name": "stdout",
     "output_type": "stream",
     "text": [
      "0.496304920504\n"
     ]
    },
    {
     "data": {
      "image/png": "[encoded data removed]",
      "text/plain": [
       "<matplotlib.figure.Figure at 0x104e3a58>"
      ]
     },
     "metadata": {},
     "output_type": "display_data"
    },
    {
     "name": "stdout",
     "output_type": "stream",
     "text": [
      "-1.0\n"
     ]
    },
    {
     "data": {
      "image/png": "[encoded data removed]",
      "text/plain": [
       "<matplotlib.figure.Figure at 0xecc6c88>"
      ]
     },
     "metadata": {},
     "output_type": "display_data"
    },
    {
     "name": "stdout",
     "output_type": "stream",
     "text": [
      "1.0\n"
     ]
    },
    {
     "data": {
      "image/png": "[encoded data removed]",
      "text/plain": [
       "<matplotlib.figure.Figure at 0xee690b8>"
      ]
     },
     "metadata": {},
     "output_type": "display_data"
    },
    {
     "name": "stdout",
     "output_type": "stream",
     "text": [
      "-0.822135956746\n"
     ]
    },
    {
     "data": {
      "image/png": "[encoded data removed]",
      "text/plain": [
       "<matplotlib.figure.Figure at 0xf192978>"
      ]
     },
     "metadata": {},
     "output_type": "display_data"
    },
    {
     "name": "stdout",
     "output_type": "stream",
     "text": [
      "0.695098509823\n"
     ]
    },
    {
     "data": {
      "image/png": "[encoded data removed]",
      "text/plain": [
       "<matplotlib.figure.Figure at 0xb6346d8>"
      ]
     },
     "metadata": {},
     "output_type": "display_data"
    },
    {
     "name": "stdout",
     "output_type": "stream",
     "text": [
      "-0.494104553236\n"
     ]
    },
    {
     "data": {
      "image/png": "[encoded data removed]",
      "text/plain": [
       "<matplotlib.figure.Figure at 0xc8922b0>"
      ]
     },
     "metadata": {},
     "output_type": "display_data"
    },
    {
     "name": "stdout",
     "output_type": "stream",
     "text": [
      "0.400972309687\n"
     ]
    },
    {
     "data": {
      "image/png": "[encoded data removed]",
      "text/plain": [
       "<matplotlib.figure.Figure at 0xe7adbe0>"
      ]
     },
     "metadata": {},
     "output_type": "display_data"
    },
    {
     "name": "stdout",
     "output_type": "stream",
     "text": [
      "-0.222149613042\n"
     ]
    },
    {
     "data": {
      "image/png": "[encoded data removed]",
      "text/plain": [
       "<matplotlib.figure.Figure at 0xe374b70>"
      ]
     },
     "metadata": {},
     "output_type": "display_data"
    },
    {
     "name": "stdout",
     "output_type": "stream",
     "text": [
      "0.152099934406\n"
     ]
    },
    {
     "data": {
      "text/plain": [
       "array([[ 0.,  0.,  0.,  0.,  0.,  0.,  0.],\n",
       "       [ 0.,  0.,  0.,  1.,  0.,  1.,  0.],\n",
       "       [ 0., -1.,  0.,  1.,  0.,  1.,  0.],\n",
       "       [ 0., -1.,  0., -1.,  0., -1.,  0.],\n",
       "       [ 0., -1.,  0., -1.,  1.,  1.,  0.],\n",
       "       [ 0.,  1.,  1., -1.,  1., -1., -1.]])"
      ]
     },
     "execution_count": 18,
     "metadata": {},
     "output_type": "execute_result"
    }
   ],
   "source": [
    "for i in range(100):\n",
    "    plt.imshow(training_data[i],interpolation = 'nearest')\n",
    "    plt.show()\n",
    "    print target_data[i]\n",
    "training_data[0]"
   ]
  },
  {
   "cell_type": "code",
   "execution_count": null,
   "metadata": {
    "collapsed": false,
    "scrolled": false
   },
   "outputs": [],
   "source": [
    "f = open('TD_connect_four.txt','w')\n",
    "\n",
    "for item in epoch_objective_list:\n",
    "    print>>f , item"
   ]
  },
  {
   "cell_type": "code",
   "execution_count": null,
   "metadata": {
    "collapsed": false,
    "scrolled": false
   },
   "outputs": [],
   "source": [
    "for i in range(10):\n",
    "    print training_data[i],target_data[i],value_fun(training_data[i].reshape(1,42))"
   ]
  },
  {
   "cell_type": "markdown",
   "metadata": {},
   "source": [
    "# Supervised Learning"
   ]
  },
  {
   "cell_type": "code",
   "execution_count": null,
   "metadata": {
    "collapsed": false,
    "scrolled": false
   },
   "outputs": [],
   "source": [
    "raw_training = pd.read_csv('connect-4.csv',header = None)"
   ]
  },
  {
   "cell_type": "code",
   "execution_count": null,
   "metadata": {
    "collapsed": false,
    "scrolled": false
   },
   "outputs": [],
   "source": [
    "training_set = []\n",
    "targets_set = []\n",
    "for index,row in raw_training.iterrows():\n",
    "    input_dict = {'b':0,'x':1,'o':-1}\n",
    "    game_state_dict = {'win':1,'draw':0,'loss':-1}\n",
    "    game_state = game_state_dict[row[42]]\n",
    "    row = row[:-1].apply(lambda x: input_dict[x])\n",
    "    board = np.flipud(np.reshape(np.array(row),(6,7),order = 'F'))\n",
    "    if np.sum(board)==1:\n",
    "        board = -1 * np.copy(board)\n",
    "    \n",
    "    training_set.append(np.copy(board).reshape(1,42))\n",
    "    targets_set.append(game_state)\n",
    "\n",
    "dummy_list = list(zip(training_set,targets_set))\n",
    "random.shuffle(dummy_list)\n",
    "training_set,targets_set = zip(*dummy_list)\n",
    "\n",
    "val_training_set = training_set[:len(training_set)/2]\n",
    "val_targets_set = targets_set[:len(targets_set)/2]\n",
    "training_set = training_set[len(training_set)/2:]\n",
    "targets_set = targets_set[len(targets_set)/2:]"
   ]
  },
  {
   "cell_type": "code",
   "execution_count": null,
   "metadata": {
    "collapsed": true,
    "scrolled": false
   },
   "outputs": [],
   "source": [
    "X_sym = T.matrix()\n",
    "y_sym = T.matrix()\n",
    "\n",
    "output = lasagne.layers.get_output(value_out,X_sym)\n",
    "output_det = lasagne.layers.get_output(value_out,X_sym,deterministic=True)\n",
    "value_fun = theano.function([X_sym],output)\n",
    "value_fun_det = theano.function([X_sym],output_det)\n",
    "params = lasagne.layers.get_all_params(value_out)\n",
    "objective = T.mean(lasagne.objectives.squared_error(output,y_sym))\n",
    "grad = T.grad(objective,params)\n",
    "\n"
   ]
  },
  {
   "cell_type": "code",
   "execution_count": null,
   "metadata": {
    "collapsed": true,
    "scrolled": false
   },
   "outputs": [],
   "source": [
    "BATCH_SIZE = 256\n",
    "train_duration = 500\n",
    "minimax_str = 0\n",
    "validation_str = 2\n",
    "valid_freq = 100\n",
    "learning_speed = 0.01\n",
    "updates = lasagne.updates.nesterov_momentum(grad, params, learning_rate=learning_speed,momentum = 0.9)\n",
    "#updates = lasagne.updates.sgd(grad, params, learning_rate=learning_speed)\n",
    "train_net = theano.function([X_sym, y_sym], objective, updates=updates)\n",
    "val_net = theano.function([X_sym, y_sym], objective)"
   ]
  },
  {
   "cell_type": "code",
   "execution_count": null,
   "metadata": {
    "collapsed": false,
    "scrolled": true
   },
   "outputs": [],
   "source": [
    "t0 = time.clock()\n",
    "\n",
    "epoch_objective_list = []\n",
    "\n",
    "for epoch in range(train_duration):\n",
    "\n",
    "\n",
    "    t2=time.clock()\n",
    "\n",
    "    objectives = []\n",
    "    index_pool = range(len(targets_set))\n",
    "    random.shuffle(index_pool)\n",
    "    while len(index_pool) > BATCH_SIZE:\n",
    "        \n",
    "        sample_indices = [index_pool.pop() for _ in xrange(BATCH_SIZE)]\n",
    "\n",
    "        targets = np.zeros((BATCH_SIZE,1))\n",
    "        training = np.zeros((BATCH_SIZE,42))\n",
    "        for k in range(BATCH_SIZE):\n",
    "            training[k] = np.copy(training_set[sample_indices[k]])\n",
    "            targets[k] = targets_set[sample_indices[k]]\n",
    "\n",
    "        objectives.append(train_net(training,targets))\n",
    "        #break to only do 1 batch per run.\n",
    "    objective_total = np.mean(objectives)\n",
    "\n",
    "\n",
    "    objectives = []\n",
    "    index_pool = range(len(val_targets_set))\n",
    "    random.shuffle(index_pool)\n",
    "    while len(index_pool) > BATCH_SIZE:\n",
    "        \n",
    "        sample_indices = [index_pool.pop() for _ in xrange(BATCH_SIZE)]\n",
    "\n",
    "        targets = np.zeros((BATCH_SIZE,1))\n",
    "        training = np.zeros((BATCH_SIZE,42))\n",
    "        for k in range(BATCH_SIZE):\n",
    "            training[k] = np.copy(training_set[sample_indices[k]])\n",
    "            targets[k] = targets_set[sample_indices[k]]\n",
    "\n",
    "        objectives.append(val_net(training,targets))\n",
    "        #break to only do 1 batch per run.\n",
    "    val_total = np.mean(objectives)\n",
    "\n",
    "    print (('Epoch {:5d},objective: {:0.5f}, validation: {:0.5f}, step duration: {:1.3f}s').format(\n",
    "            epoch,float(objective_total),float(val_total),time.clock()-t2))\n",
    "    \n",
    "        \n",
    "    \n",
    "    \n",
    "    \n",
    "    epoch_objective_list.append([epoch,objective_total,val_total])\n",
    "\n",
    "    # print 'epoch duration {:2.2f}s'.format(time.clock()-t2)\n",
    "    if epoch%valid_freq==0:\n",
    "        print ' '\n",
    "        print ' '\n",
    "        test_result = {'wins':0,'ties':0,'losses':0}\n",
    "        for j in range(100):\n",
    "            result = cccc.play(nn_ai(value_fun_det,'value'),alpha_beta(validation_str))\n",
    "            if result.winner ==1:\n",
    "                test_result['wins'] +=1\n",
    "            if result.winner == 0:\n",
    "                test_result['ties'] +=1\n",
    "            if result.winner == -1:\n",
    "                test_result['losses'] +=1\n",
    "\n",
    "\n",
    "        print 'As X, neural network has a score of {:3d}-{:3d}-{:3d} vs {}-depth minimax'.format(test_result['wins'],\n",
    "                                                               test_result['ties'],test_result['losses'],validation_str)\n",
    "\n",
    "        test_result = {'wins':0,'ties':0,'losses':0}\n",
    "\n",
    "        for j in range(100):\n",
    "            result = cccc.play(alpha_beta(validation_str),nn_ai(value_fun_det,'value'))\n",
    "            if result.winner ==1:\n",
    "                test_result['losses'] +=1\n",
    "            if result.winner == 0:\n",
    "                test_result['ties'] +=1\n",
    "            if result.winner == -1:\n",
    "                test_result['wins'] +=1\n",
    "\n",
    "        print 'As O, neural network has a score of {:3d}-{:3d}-{:3d} vs {}-depth minimax'.format(test_result['wins'],\n",
    "                                                            test_result['ties'],test_result['losses'],validation_str)\n",
    "        print ' '\n",
    "        print 'elapsed time: {:3.3f}s'.format(time.clock()-t0)\n",
    "        print ' '\n",
    "        \n",
    "        \n",
    "\n",
    "\n",
    "print('\\n')\n",
    "\n",
    "#for epoch in range(10):\n",
    "\n",
    "        \n",
    "#    t_epoch = time.clock()\n",
    "\n",
    "#    result_list = [tourney(output) for i in range(BATCH_SIZE)]\n",
    "#    fitness_list = [fitness(result) for result in result_list]\n",
    "    \n",
    "#    score= f_train(fitness_list)\n",
    "       \n",
    "#    t1=time.clock()-t_epoch\n",
    "    \n",
    "#    print('Epoch {}, duration {:.01f} seconds'.format(\n",
    "#            epoch+1, t1))\n",
    "#    print('Record is: {}-{}-{} with a score of {}'.format(sum([result['wins'] for result in result_list]),\n",
    "#                                                          sum([result['ties'] for result in result_list]),\n",
    "#                                                          sum([result['losses'] for result in result_list]),\n",
    "#                                                          sum([fitness for fitness in fitness_list])))\n",
    "#    print('mean score is {}'.format(score))\n",
    "print('total time for neural network is {:.01f} seconds'.format(time.clock()-t0))\n"
   ]
  },
  {
   "cell_type": "code",
   "execution_count": null,
   "metadata": {
    "collapsed": false,
    "scrolled": false
   },
   "outputs": [],
   "source": [
    "import matplotlib.pyplot as plt\n",
    "%matplotlib inline\n",
    "\n",
    "f = open('supervised_connect_four.txt','r')\n",
    "plot_list = f.read().splitlines()\n",
    "plot_list = np.array([[float(x) for x in item[1:-1].split(',')] for item in plot_list])\n",
    "\n",
    "f = open('supervised_tictactoe.txt','r')\n",
    "plot_list2 = f.read().splitlines()\n",
    "plot_list2 = np.array([[float(x) for x in item[1:-1].split(',')] for item in plot_list2])"
   ]
  },
  {
   "cell_type": "code",
   "execution_count": null,
   "metadata": {
    "collapsed": false,
    "scrolled": false
   },
   "outputs": [],
   "source": [
    "plt.figure(figsize=(16,9))\n",
    "plt.plot(plot_list[:,0],plot_list[:,1],color = 'blue',linewidth=3)\n",
    "plt.plot(plot_list[:,0],plot_list[:,2],color = 'green')\n",
    "plt.plot(50*plot_list2[:,0]+plot_list2[:,1]-900,plot_list2[:,2],color = 'red')\n",
    "plt.title('Deep Learning',fontsize=32)\n",
    "plt.xlabel('Epoch',fontsize=24)\n",
    "plt.ylabel('Mean Squared Error',fontsize = 24)\n",
    "plt.xticks(fontsize = 20)\n",
    "plt.yticks(fontsize = 20)\n",
    "ax = plt.subplot(111)    \n",
    "ax.spines[\"top\"].set_visible(False)    \n",
    "# ax.spines[\"bottom\"].set_visible(False)    \n",
    "ax.spines[\"right\"].set_visible(False)    \n",
    "# ax.spines[\"left\"].set_visible(False)    \n",
    "  \n",
    "# Ensure that the axis ticks only show up on the bottom and left of the plot.    \n",
    "# Ticks on the right and top of the plot are generally unnecessary chartjunk.    \n",
    "ax.get_xaxis().tick_bottom()    \n",
    "ax.get_yaxis().tick_left()\n",
    "plt.text(410, 0.61,\"Supervised learning with connect four - loss\",fontsize=20,color='blue')\n",
    "plt.text(410, 0.56,\"Supervised learning with connect four - validation\",fontsize=20,color='green')\n",
    "plt.text(410, 0.51,\"Reinforcement learning with tic tac toe - loss\",fontsize=20,color='red')\n",
    "plt.savefig('supervised_c4.png')\n",
    "plt.show"
   ]
  },
  {
   "cell_type": "code",
   "execution_count": null,
   "metadata": {
    "collapsed": false,
    "scrolled": false
   },
   "outputs": [],
   "source": [
    "f = open('TD_connect_four.txt','r')\n",
    "plot_list = f.read().splitlines()\n",
    "plot_list = np.array([[float(x) for x in item[1:-1].split(',')] for item in plot_list])"
   ]
  },
  {
   "cell_type": "code",
   "execution_count": null,
   "metadata": {
    "collapsed": false,
    "scrolled": false
   },
   "outputs": [],
   "source": [
    "plt.plot(500*plot_list[:,0]+plot_list[:,1],plot_list[:,2])\n",
    "plt.show"
   ]
  },
  {
   "cell_type": "code",
   "execution_count": null,
   "metadata": {
    "collapsed": true,
    "scrolled": false
   },
   "outputs": [],
   "source": [
    "f = open('supervised_tictactoe.txt','r')\n",
    "plot_list = f.read().splitlines()\n",
    "plot_list = np.array([[float(x) for x in item[1:-1].split(',')] for item in plot_list])"
   ]
  },
  {
   "cell_type": "code",
   "execution_count": null,
   "metadata": {
    "collapsed": false,
    "scrolled": false
   },
   "outputs": [],
   "source": [
    "plt.plot(50*plot_list[:,0]+plot_list[:,1],plot_list[:,2],color = 'red')\n",
    "plt.title('Reinforcement Learning for Tic Tac Toe',fontsize=16)\n",
    "plt.xlabel('Epoch',fontsize=16)\n",
    "plt.ylabel('Mean Squared Error',fontsize = 16)\n",
    "plt.xticks(fontsize = 14)\n",
    "plt.yticks(fontsize = 14)\n",
    "ax = plt.subplot(111)    \n",
    "ax.spines[\"top\"].set_visible(False)    \n",
    "# ax.spines[\"bottom\"].set_visible(False)    \n",
    "ax.spines[\"right\"].set_visible(False)    \n",
    "# ax.spines[\"left\"].set_visible(False)    \n",
    "ax.get_xaxis().tick_bottom()    \n",
    "ax.get_yaxis().tick_left()\n",
    "plt.savefig('reinforcement_ttt.png')\n",
    "plt.show\n",
    "  "
   ]
  }
 ],
 "metadata": {
  "kernelspec": {
   "display_name": "Python 2",
   "language": "python",
   "name": "python2"
  },
  "language_info": {
   "codemirror_mode": {
    "name": "ipython",
    "version": 2
   },
   "file_extension": ".py",
   "mimetype": "text/x-python",
   "name": "python",
   "nbconvert_exporter": "python",
   "pygments_lexer": "ipython2",
   "version": "2.7.11"
  }
 },
 "nbformat": 4,
 "nbformat_minor": 0
}
