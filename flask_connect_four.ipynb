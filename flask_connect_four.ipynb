{
 "cells": [
  {
   "cell_type": "code",
   "execution_count": 11,
   "metadata": {
    "collapsed": false
   },
   "outputs": [],
   "source": [
    "import numpy as np\n",
    "import pandas as pd\n",
    "import random\n",
    "import time\n",
    "import sys\n",
    "from flask import Flask, render_template, request, redirect\n",
    "\n",
    "# def flask_player_move(board, active_turn):\n",
    "\n",
    "# class flask_player:\n",
    "# #    def __init__(self):\n",
    "        \n",
    "#     def make_move(self,board,active_turn):\n",
    "#         #print (board,active_turn,self.depth)\n",
    "#         return flask_player_move(board,active_turn,self.depth)[1]\n",
    "    \n",
    "app = Flask(__name__)\n",
    "\n",
    "@app.route('/')\n",
    "def main():\n",
    "  return redirect('/index')\n",
    "\n",
    "@app.route('/clear', methods = ['GET'])\n",
    "def clear():\n",
    "    return redirect('/index')\n",
    "    #return render_template('index.html',op = app.OPTIONS, names = app.NAMES)\n",
    "\n",
    "@app.route('/index', methods = ['GET','POST'])\n",
    "def index():\n",
    "    if request.method == 'GET':\n",
    "        return render_template('index.html', op = app.OPTIONS, names = app.NAMES)\n",
    "    "
   ]
  },
  {
   "cell_type": "code",
   "execution_count": null,
   "metadata": {
    "collapsed": true
   },
   "outputs": [],
   "source": []
  }
 ],
 "metadata": {
  "kernelspec": {
   "display_name": "Python 2",
   "language": "python",
   "name": "python2"
  },
  "language_info": {
   "codemirror_mode": {
    "name": "ipython",
    "version": 2
   },
   "file_extension": ".py",
   "mimetype": "text/x-python",
   "name": "python",
   "nbconvert_exporter": "python",
   "pygments_lexer": "ipython2",
   "version": "2.7.11"
  }
 },
 "nbformat": 4,
 "nbformat_minor": 0
}
